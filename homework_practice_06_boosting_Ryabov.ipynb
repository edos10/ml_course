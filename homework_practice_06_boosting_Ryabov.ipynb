{
  "cells": [
    {
      "cell_type": "markdown",
      "metadata": {
        "pycharm": {
          "name": "#%% md\n"
        },
        "id": "uU1DQ0wqtLSZ"
      },
      "source": [
        "# Машинное обучение, ФКН ВШЭ\n",
        "\n",
        "# Практическое задание 6. Бустинговое\n",
        "\n",
        "## Общая информация\n",
        "\n",
        "Дата выдачи: 12.12.2023\n",
        "\n",
        "Мягкий дедлайн: 24.12.2023 23:59 MSK\n",
        "\n",
        "Жёсткий дедлайн: 24.12.2023 23:59 MSK\n",
        "\n",
        "## Оценивание и штрафы\n",
        "\n",
        "Каждая из задач имеет определенную «стоимость» (указана в скобках около задачи). Максимально допустимая оценка за работу — 10 баллов.\n",
        "\n",
        "Сдавать задание после указанного срока сдачи нельзя. При выставлении неполного балла за задание в связи с наличием ошибок на усмотрение проверяющего предусмотрена возможность исправить работу на указанных в ответном письме условиях.\n",
        "\n",
        "Задание выполняется самостоятельно. «Похожие» решения считаются плагиатом и все задействованные студенты (в том числе те, у кого списали) не могут получить за него больше 0 баллов (подробнее о плагиате см. на странице курса). Если вы нашли решение какого-то из заданий (или его часть) в открытом источнике, необходимо указать ссылку на этот источник в отдельном блоке в конце вашей работы (скорее всего вы будете не единственным, кто это нашел, поэтому чтобы исключить подозрение в плагиате, необходима ссылка на источник).\n",
        "\n",
        "Неэффективная реализация кода может негативно отразиться на оценке.\n",
        "\n",
        "## Формат сдачи\n",
        "Задания сдаются через систему anytask. Посылка должна содержать:\n",
        "* Ноутбук homework-practice-06-Username.ipynb\n",
        "\n",
        "Username — ваша фамилия на латинице"
      ]
    },
    {
      "cell_type": "markdown",
      "metadata": {
        "pycharm": {
          "name": "#%% md\n"
        },
        "id": "UttkHYiotLSb"
      },
      "source": [
        "## О задании\n",
        "\n",
        "В этом задании вам предстоит вручную запрограммировать один из самых мощных алгоритмов машинного обучения — бустинг."
      ]
    },
    {
      "cell_type": "code",
      "execution_count": 1,
      "metadata": {
        "pycharm": {
          "name": "#%%\n"
        },
        "id": "3iUCNIOYtLSc"
      },
      "outputs": [],
      "source": [
        "from warnings import filterwarnings\n",
        "\n",
        "import matplotlib.pyplot as plt\n",
        "import numpy as np\n",
        "import seaborn as sns\n",
        "from scipy.sparse import load_npz\n",
        "from sklearn.model_selection import train_test_split\n",
        "\n",
        "\n",
        "sns.set(style='darkgrid')\n",
        "filterwarnings('ignore')"
      ]
    },
    {
      "cell_type": "code",
      "execution_count": 42,
      "metadata": {
        "pycharm": {
          "name": "#%%\n"
        },
        "id": "CDiswi_8tLSe"
      },
      "outputs": [],
      "source": [
        "x = load_npz('x.npz')\n",
        "y = np.load('y.npy')"
      ]
    },
    {
      "cell_type": "markdown",
      "metadata": {
        "pycharm": {
          "name": "#%% md\n"
        },
        "id": "ku1TDsc9tLSf"
      },
      "source": [
        "Разделим на обучающую, валидационную и тестовую выборки (`random_state` оставьте равным 1337 для воспроизводимости)."
      ]
    },
    {
      "cell_type": "code",
      "execution_count": 43,
      "metadata": {
        "pycharm": {
          "name": "#%%\n"
        },
        "id": "8594IBnMtLSf",
        "colab": {
          "base_uri": "https://localhost:8080/"
        },
        "outputId": "be75720b-90d3-4abe-acac-70caf63a5810"
      },
      "outputs": [
        {
          "output_type": "execute_result",
          "data": {
            "text/plain": [
              "((18825, 169), (2354, 169), (2353, 169))"
            ]
          },
          "metadata": {},
          "execution_count": 43
        }
      ],
      "source": [
        "x_train, x_test, y_train, y_test = train_test_split(x, y, test_size=0.2, random_state=1337)\n",
        "\n",
        "x_test, x_valid, y_test, y_valid = train_test_split(x_test, y_test, test_size=0.5, random_state=1337)\n",
        "\n",
        "x_train.shape, x_valid.shape, x_test.shape"
      ]
    },
    {
      "cell_type": "markdown",
      "metadata": {
        "pycharm": {
          "name": "#%% md\n"
        },
        "id": "x5owY78TtLSf"
      },
      "source": [
        "## Задание 1. Реализация градиентного бустингового (4 балла)\n",
        "\n",
        "Вам нужно дописать код в файлике `boosting.py`. Для вас уже подготовлен шаблон класса `Boosting`, вы можете менять его по своему усмотрению.\n",
        "\n",
        "### Инструкции для функций:\n",
        "\n",
        "#### `__init__`\n",
        "\n",
        "В `__init__` приходит кучка параметров, распишем что есть что:\n",
        "\n",
        " - `base_model_class` - класс базовой модели нашего бустинга\n",
        " - `base_model_params` - словарь с гиперпараметрами для базовой модели\n",
        " - `n_estimators` - какое количество базовых моделей нужно обучить\n",
        " - `learning_rate` - темп обучения, должен быть из полуинтервала $(0, 1]$\n",
        " - `subsample` - доля объектов, на которой будет обучаться базовая модель (какую часть составляет бутстрапная выборка от исходной обучающей)\n",
        " - `early_stopping_rounds` - число итераций, после которых при отсутствии улучшения качества на валидационной выборке обучение останавливается\n",
        " - `plot` - строить ли после обучения всех базовых моделей график с качеством\n",
        "\n",
        "#### `fit`\n",
        "\n",
        "В `fit` приходит две выборки, обучающая и валидационная. На обучающей мы обучаем новые базовые модели, на валидационной считаем качество для ранней остановки (если это предусматривают параметры).\n",
        "\n",
        "Сначала нам нужно сделать какую-то нулевую модель, сделать предсказания для обучающей и валидационной выборок (в шаблоне это нулевая модель, соответственно предсказания это просто `np.zeros`). После этого нужно обучить `n_estimators` базовых моделей (как и на что обучаются базовые модели смотрите в лекциях и семинарах). После каждой обученной базовой модели мы должны обновить текущие предсказания, посчитать ошибку на обучающей и валидационной выборках (используем `loss_fn` для этого), проверить на раннюю остановку.\n",
        "\n",
        "После всего цикла обучения надо нарисовать график (если `plot`).\n",
        "\n",
        "\n",
        "#### `fit_new_base_model`\n",
        "\n",
        "В `fit_new_base_model` приходит обучающая выборка (целиком) и текущие предсказания для неё. Мы должны сгенерировать бутстрап выборку для обучения базовой модели и обучить базовую модель. После обучения модели запускаем поиск оптимальной гаммы, добавляем новую модель и гамму (не забываем про темп обучения) в соответствующие списки.\n",
        "\n",
        "#### `predict_proba`\n",
        "\n",
        "В `predict_proba` приходит выборка, нужно предсказать вероятности для неё. Суммируем предсказания базовых моделей на этой выборке (не забываем про гаммы) и накидываем сигмоиду."
      ]
    },
    {
      "cell_type": "code",
      "execution_count": 4,
      "metadata": {
        "pycharm": {
          "name": "#%%\n"
        },
        "id": "QxB_B1g2tLSf"
      },
      "outputs": [],
      "source": [
        "%load_ext autoreload"
      ]
    },
    {
      "cell_type": "code",
      "execution_count": 5,
      "metadata": {
        "pycharm": {
          "name": "#%%\n"
        },
        "id": "zPPOS7hktLSg"
      },
      "outputs": [],
      "source": [
        "%autoreload 2\n",
        "\n",
        "from boosting import Boosting"
      ]
    },
    {
      "cell_type": "markdown",
      "metadata": {
        "pycharm": {
          "name": "#%% md\n"
        },
        "id": "DXLE6lcRtLSg"
      },
      "source": [
        "### Проверка кода\n",
        "\n",
        "У автора задания всё учится около одной секунды."
      ]
    },
    {
      "cell_type": "code",
      "execution_count": 6,
      "metadata": {
        "pycharm": {
          "name": "#%%\n"
        },
        "id": "c3-hlxrTtLSg",
        "outputId": "8f363ba0-98d1-4e74-a082-a0296b988984",
        "colab": {
          "base_uri": "https://localhost:8080/"
        }
      },
      "outputs": [
        {
          "output_type": "stream",
          "name": "stdout",
          "text": [
            "CPU times: user 2.49 s, sys: 8.92 ms, total: 2.5 s\n",
            "Wall time: 5.03 s\n",
            "Train ROC-AUC 0.9897\n",
            "Valid ROC-AUC 0.9151\n",
            "Test ROC-AUC 0.9071\n"
          ]
        }
      ],
      "source": [
        "boosting = Boosting()\n",
        "\n",
        "%time boosting.fit(x_train, y_train, x_valid, y_valid)\n",
        "\n",
        "assert len(boosting.models) == boosting.n_estimators\n",
        "assert len(boosting.gammas) == boosting.n_estimators\n",
        "\n",
        "assert boosting.predict_proba(x_test).shape == (x_test.shape[0], 2)\n",
        "\n",
        "print(f'Train ROC-AUC {boosting.score(x_train, y_train):.4f}')\n",
        "print(f'Valid ROC-AUC {boosting.score(x_valid, y_valid):.4f}')\n",
        "print(f'Test ROC-AUC {boosting.score(x_test, y_test):.4f}')"
      ]
    },
    {
      "cell_type": "markdown",
      "metadata": {
        "pycharm": {
          "name": "#%% md\n"
        },
        "id": "HDN5GkFDtLSh"
      },
      "source": [
        "## Задание 2. Обучение градиентного бустингового (1 балл)\n",
        "\n",
        "Оцените качество на тестовой выборке вашей имплементации бустинга для различной максимальной глубины решающего дерева в качестве базовой модели. Здесь и далее мы будем использовать метрику ROC-AUC.\n",
        "\n",
        "Перебирайте максимальную глубину от 1 до 30 с шагом 2 (остальные параметры бустинга стоит оставить равными по умолчанию). Постройте график зависимости качества на обучающей и тестовой выборке в зависимости от глубины."
      ]
    },
    {
      "cell_type": "code",
      "execution_count": 7,
      "metadata": {
        "pycharm": {
          "name": "#%%\n"
        },
        "id": "1MjfdaDEtLSh",
        "colab": {
          "base_uri": "https://localhost:8080/",
          "height": 458
        },
        "outputId": "8d7c24d6-5cf4-478b-e064-17dc62b37e33"
      },
      "outputs": [
        {
          "output_type": "display_data",
          "data": {
            "text/plain": [
              "<Figure size 640x480 with 1 Axes>"
            ],
            "image/png": "[encoded data removed]"
          },
          "metadata": {}
        }
      ],
      "source": [
        "results = {}\n",
        "\n",
        "depths = range(1, 30, 2)\n",
        "\n",
        "trains, tests = [], []\n",
        "# YOUR CODE:\n",
        "for i in depths:\n",
        "    model = Boosting({'max_depth': i})\n",
        "    model.fit(x_train, y_train, x_valid, y_valid)\n",
        "    trains.append(model.score(x_train, y_train))\n",
        "    tests.append(model.score(x_test, y_test))\n",
        "\n",
        "plt.plot(trains, label='train')\n",
        "plt.plot(tests, label='test')\n",
        "plt.title('')\n",
        "plt.xlabel('Глубина')\n",
        "plt.ylabel('AUC-ROC')\n",
        "plt.show()"
      ]
    },
    {
      "cell_type": "markdown",
      "metadata": {
        "pycharm": {
          "name": "#%% md\n"
        },
        "id": "FveFKheStLSi"
      },
      "source": [
        "**Какая из моделей имеет лучшее качество? Как вы можете это объяснить?**\n",
        "\n",
        "`### ваше решение тут ###`\n",
        "\n",
        "Та модель, у которой max_depth = 4, это в принципе хорошо обобщает деревья + не переобучается на больших глубинах и на тесте наилучший AUC-ROC\n",
        "\n",
        "То есть лучшая модель - с depth=4"
      ]
    },
    {
      "cell_type": "markdown",
      "metadata": {
        "pycharm": {
          "name": "#%% md\n"
        },
        "id": "SnL9KIrMtLSi"
      },
      "source": [
        "## Задание 3. Подбираем гиперпараметры и ищем лучшую модель (3 балла)\n",
        "\n",
        "Подберите по валидационной выборке основные гиперпараметры для вашей модели бустинга. Следует подобрать все основные параметры для самого градиентного бустинга и для самих базовых моделей. Существуют библиотеки для подбора гиперпараметров, попробуйте использовать какую-нибудь из следующих двух - [Hyperopt](https://github.com/hyperopt/hyperopt), [Optuna](https://optuna.org/)."
      ]
    },
    {
      "cell_type": "code",
      "source": [
        "!pip install optuna"
      ],
      "metadata": {
        "colab": {
          "base_uri": "https://localhost:8080/"
        },
        "id": "lgBHQGoSGGDa",
        "outputId": "96b48daf-8078-4ccc-f81b-d875c8eb07e5"
      },
      "execution_count": 9,
      "outputs": [
        {
          "output_type": "stream",
          "name": "stdout",
          "text": [
            "Collecting optuna\n",
            "  Downloading optuna-3.5.0-py3-none-any.whl (413 kB)\n",
            "\u001b[2K     \u001b[90m━━━━━━━━━━━━━━━━━━━━━━━━━━━━━━━━━━━━━━━━\u001b[0m \u001b[32m413.4/413.4 kB\u001b[0m \u001b[31m3.1 MB/s\u001b[0m eta \u001b[36m0:00:00\u001b[0m\n",
            "\u001b[?25hCollecting alembic>=1.5.0 (from optuna)\n",
            "  Downloading alembic-1.13.1-py3-none-any.whl (233 kB)\n",
            "\u001b[2K     \u001b[90m━━━━━━━━━━━━━━━━━━━━━━━━━━━━━━━━━━━━━━━━\u001b[0m \u001b[32m233.4/233.4 kB\u001b[0m \u001b[31m23.4 MB/s\u001b[0m eta \u001b[36m0:00:00\u001b[0m\n",
            "\u001b[?25hCollecting colorlog (from optuna)\n",
            "  Downloading colorlog-6.8.0-py3-none-any.whl (11 kB)\n",
            "Requirement already satisfied: numpy in /usr/local/lib/python3.10/dist-packages (from optuna) (1.23.5)\n",
            "Requirement already satisfied: packaging>=20.0 in /usr/local/lib/python3.10/dist-packages (from optuna) (23.2)\n",
            "Requirement already satisfied: sqlalchemy>=1.3.0 in /usr/local/lib/python3.10/dist-packages (from optuna) (2.0.23)\n",
            "Requirement already satisfied: tqdm in /usr/local/lib/python3.10/dist-packages (from optuna) (4.66.1)\n",
            "Requirement already satisfied: PyYAML in /usr/local/lib/python3.10/dist-packages (from optuna) (6.0.1)\n",
            "Collecting Mako (from alembic>=1.5.0->optuna)\n",
            "  Downloading Mako-1.3.0-py3-none-any.whl (78 kB)\n",
            "\u001b[2K     \u001b[90m━━━━━━━━━━━━━━━━━━━━━━━━━━━━━━━━━━━━━━━━\u001b[0m \u001b[32m78.6/78.6 kB\u001b[0m \u001b[31m8.9 MB/s\u001b[0m eta \u001b[36m0:00:00\u001b[0m\n",
            "\u001b[?25hRequirement already satisfied: typing-extensions>=4 in /usr/local/lib/python3.10/dist-packages (from alembic>=1.5.0->optuna) (4.5.0)\n",
            "Requirement already satisfied: greenlet!=0.4.17 in /usr/local/lib/python3.10/dist-packages (from sqlalchemy>=1.3.0->optuna) (3.0.2)\n",
            "Requirement already satisfied: MarkupSafe>=0.9.2 in /usr/local/lib/python3.10/dist-packages (from Mako->alembic>=1.5.0->optuna) (2.1.3)\n",
            "Installing collected packages: Mako, colorlog, alembic, optuna\n",
            "Successfully installed Mako-1.3.0 alembic-1.13.1 colorlog-6.8.0 optuna-3.5.0\n"
          ]
        }
      ]
    },
    {
      "cell_type": "code",
      "source": [
        "def score(clf, x, y):\n",
        "    return roc_auc_score(y == 1, clf.predict_proba(x)[:, 1])"
      ],
      "metadata": {
        "id": "jL1Nywr4Gdxl"
      },
      "execution_count": 10,
      "outputs": []
    },
    {
      "cell_type": "code",
      "execution_count": 15,
      "metadata": {
        "pycharm": {
          "is_executing": true,
          "name": "#%%\n"
        },
        "id": "O_kpqLJ-tLSi",
        "colab": {
          "base_uri": "https://localhost:8080/"
        },
        "outputId": "50df2906-39a7-496c-8628-c00b1476e59c"
      },
      "outputs": [
        {
          "output_type": "stream",
          "name": "stderr",
          "text": [
            "[I 2023-12-24 18:49:44,354] A new study created in memory with name: no-name-4179e337-b5ed-470d-b718-3da782ad3e3d\n",
            "[I 2023-12-24 18:49:47,996] Trial 0 finished with value: 0.936316332663651 and parameters: {'n_estimators': 23, 'learning_rate': 0.04985036993000795, 'subsample': 0.4, 'max_depth': 19, 'min_samples_leaf': 13, 'min_samples_split': 6}. Best is trial 0 with value: 0.936316332663651.\n",
            "[I 2023-12-24 18:49:48,457] Trial 1 finished with value: 0.9192230728277433 and parameters: {'n_estimators': 3, 'learning_rate': 0.0886030943606176, 'subsample': 0.5, 'max_depth': 21, 'min_samples_leaf': 3, 'min_samples_split': 17}. Best is trial 0 with value: 0.936316332663651.\n",
            "[I 2023-12-24 18:50:42,958] Trial 2 finished with value: 0.9361515062262888 and parameters: {'n_estimators': 101, 'learning_rate': 0.16112241436262362, 'subsample': 0.7500000000000001, 'max_depth': 23, 'min_samples_leaf': 9, 'min_samples_split': 8}. Best is trial 0 with value: 0.936316332663651.\n",
            "[I 2023-12-24 18:51:15,621] Trial 3 finished with value: 0.8376659139725725 and parameters: {'n_estimators': 145, 'learning_rate': 0.011076277174756056, 'subsample': 0.7500000000000001, 'max_depth': 1, 'min_samples_leaf': 3, 'min_samples_split': 5}. Best is trial 0 with value: 0.936316332663651.\n",
            "[I 2023-12-24 18:52:50,396] Trial 4 finished with value: 0.9232766857194853 and parameters: {'n_estimators': 145, 'learning_rate': 0.7798839304887878, 'subsample': 1.0, 'max_depth': 21, 'min_samples_leaf': 9, 'min_samples_split': 20}. Best is trial 0 with value: 0.936316332663651.\n",
            "[I 2023-12-24 18:53:12,901] Trial 5 finished with value: 0.9368822500684449 and parameters: {'n_estimators': 111, 'learning_rate': 0.1470611505109158, 'subsample': 0.05, 'max_depth': 11, 'min_samples_leaf': 17, 'min_samples_split': 8}. Best is trial 5 with value: 0.9368822500684449.\n",
            "[I 2023-12-24 18:53:18,139] Trial 6 finished with value: 0.9371823698769111 and parameters: {'n_estimators': 29, 'learning_rate': 0.012812548903645646, 'subsample': 0.4, 'max_depth': 15, 'min_samples_leaf': 13, 'min_samples_split': 7}. Best is trial 6 with value: 0.9371823698769111.\n",
            "[I 2023-12-24 18:53:54,130] Trial 7 finished with value: 0.9306703287668827 and parameters: {'n_estimators': 133, 'learning_rate': 0.010834326999228337, 'subsample': 0.7000000000000001, 'max_depth': 5, 'min_samples_leaf': 19, 'min_samples_split': 16}. Best is trial 6 with value: 0.9371823698769111.\n",
            "[I 2023-12-24 18:55:00,536] Trial 8 finished with value: 0.9393873724590587 and parameters: {'n_estimators': 135, 'learning_rate': 0.0581244811693065, 'subsample': 0.5, 'max_depth': 25, 'min_samples_leaf': 11, 'min_samples_split': 7}. Best is trial 8 with value: 0.9393873724590587.\n",
            "[I 2023-12-24 18:55:09,540] Trial 9 finished with value: 0.9339121814320024 and parameters: {'n_estimators': 17, 'learning_rate': 0.03337065435661409, 'subsample': 0.9500000000000001, 'max_depth': 29, 'min_samples_leaf': 14, 'min_samples_split': 4}. Best is trial 8 with value: 0.9393873724590587.\n",
            "[I 2023-12-24 18:55:23,775] Trial 10 finished with value: 0.9346668710035575 and parameters: {'n_estimators': 67, 'learning_rate': 0.3853612217377254, 'subsample': 0.15000000000000002, 'max_depth': 29, 'min_samples_leaf': 5, 'min_samples_split': 12}. Best is trial 8 with value: 0.9393873724590587.\n",
            "[I 2023-12-24 18:55:33,053] Trial 11 finished with value: 0.9376249667753004 and parameters: {'n_estimators': 53, 'learning_rate': 0.0272648512079915, 'subsample': 0.3, 'max_depth': 15, 'min_samples_leaf': 12, 'min_samples_split': 2}. Best is trial 8 with value: 0.9393873724590587.\n",
            "[I 2023-12-24 18:55:43,493] Trial 12 finished with value: 0.9383976156439047 and parameters: {'n_estimators': 59, 'learning_rate': 0.0293974015001318, 'subsample': 0.25, 'max_depth': 11, 'min_samples_leaf': 7, 'min_samples_split': 2}. Best is trial 8 with value: 0.9393873724590587.\n",
            "[I 2023-12-24 18:56:02,061] Trial 13 finished with value: 0.9395585844242607 and parameters: {'n_estimators': 91, 'learning_rate': 0.06563644742644127, 'subsample': 0.25, 'max_depth': 9, 'min_samples_leaf': 6, 'min_samples_split': 2}. Best is trial 13 with value: 0.9395585844242607.\n",
            "[I 2023-12-24 18:56:24,434] Trial 14 finished with value: 0.9390764770723632 and parameters: {'n_estimators': 95, 'learning_rate': 0.07296954048571629, 'subsample': 0.6000000000000001, 'max_depth': 7, 'min_samples_leaf': 6, 'min_samples_split': 10}. Best is trial 13 with value: 0.9395585844242607.\n",
            "[I 2023-12-24 18:56:52,327] Trial 15 finished with value: 0.9416434592639242 and parameters: {'n_estimators': 119, 'learning_rate': 0.21910750534296686, 'subsample': 0.25, 'max_depth': 9, 'min_samples_leaf': 1, 'min_samples_split': 12}. Best is trial 15 with value: 0.9416434592639242.\n",
            "[I 2023-12-24 18:57:07,563] Trial 16 finished with value: 0.9412886633733307 and parameters: {'n_estimators': 89, 'learning_rate': 0.2765552638136595, 'subsample': 0.15000000000000002, 'max_depth': 9, 'min_samples_leaf': 1, 'min_samples_split': 13}. Best is trial 15 with value: 0.9416434592639242.\n",
            "[I 2023-12-24 18:57:29,123] Trial 17 finished with value: 0.9395258585940822 and parameters: {'n_estimators': 119, 'learning_rate': 0.29787057486118806, 'subsample': 0.05, 'max_depth': 5, 'min_samples_leaf': 1, 'min_samples_split': 13}. Best is trial 15 with value: 0.9416434592639242.\n",
            "[I 2023-12-24 18:57:37,657] Trial 18 finished with value: 0.9236614137718274 and parameters: {'n_estimators': 81, 'learning_rate': 0.4526127075227228, 'subsample': 0.15000000000000002, 'max_depth': 1, 'min_samples_leaf': 1, 'min_samples_split': 14}. Best is trial 15 with value: 0.9416434592639242.\n",
            "[I 2023-12-24 18:57:44,251] Trial 19 finished with value: 0.9408572411486607 and parameters: {'n_estimators': 41, 'learning_rate': 0.1622048725531186, 'subsample': 0.35000000000000003, 'max_depth': 11, 'min_samples_leaf': 3, 'min_samples_split': 10}. Best is trial 15 with value: 0.9416434592639242.\n",
            "[I 2023-12-24 18:57:59,449] Trial 20 finished with value: 0.930817195907196 and parameters: {'n_estimators': 79, 'learning_rate': 0.8766074437631017, 'subsample': 0.15000000000000002, 'max_depth': 17, 'min_samples_leaf': 1, 'min_samples_split': 15}. Best is trial 15 with value: 0.9416434592639242.\n",
            "[I 2023-12-24 18:58:05,194] Trial 21 finished with value: 0.9393087506475325 and parameters: {'n_estimators': 39, 'learning_rate': 0.18940103977757206, 'subsample': 0.35000000000000003, 'max_depth': 11, 'min_samples_leaf': 3, 'min_samples_split': 10}. Best is trial 15 with value: 0.9416434592639242.\n",
            "[I 2023-12-24 18:58:36,686] Trial 22 finished with value: 0.9401241027335646 and parameters: {'n_estimators': 117, 'learning_rate': 0.24534639664573968, 'subsample': 0.2, 'max_depth': 13, 'min_samples_leaf': 4, 'min_samples_split': 11}. Best is trial 15 with value: 0.9416434592639242.\n",
            "[I 2023-12-24 18:58:42,820] Trial 23 finished with value: 0.9347067805525557 and parameters: {'n_estimators': 53, 'learning_rate': 0.12007219166668986, 'subsample': 0.4, 'max_depth': 5, 'min_samples_leaf': 1, 'min_samples_split': 18}. Best is trial 15 with value: 0.9416434592639242.\n",
            "[I 2023-12-24 18:59:05,963] Trial 24 finished with value: 0.9395166793978129 and parameters: {'n_estimators': 105, 'learning_rate': 0.5584918243143548, 'subsample': 0.3, 'max_depth': 9, 'min_samples_leaf': 3, 'min_samples_split': 13}. Best is trial 15 with value: 0.9416434592639242.\n",
            "[I 2023-12-24 18:59:08,797] Trial 25 finished with value: 0.9363095480403214 and parameters: {'n_estimators': 37, 'learning_rate': 0.24492584166048617, 'subsample': 0.1, 'max_depth': 7, 'min_samples_leaf': 7, 'min_samples_split': 10}. Best is trial 15 with value: 0.9416434592639242.\n",
            "[I 2023-12-24 18:59:46,214] Trial 26 finished with value: 0.9403703446508833 and parameters: {'n_estimators': 125, 'learning_rate': 0.11570803284667694, 'subsample': 0.25, 'max_depth': 13, 'min_samples_leaf': 4, 'min_samples_split': 12}. Best is trial 15 with value: 0.9416434592639242.\n",
            "[I 2023-12-24 19:00:00,688] Trial 27 finished with value: 0.9378819842708488 and parameters: {'n_estimators': 87, 'learning_rate': 0.3536950977219717, 'subsample': 0.6000000000000001, 'max_depth': 3, 'min_samples_leaf': 9, 'min_samples_split': 15}. Best is trial 15 with value: 0.9416434592639242.\n",
            "[I 2023-12-24 19:00:13,573] Trial 28 finished with value: 0.9390880508415728 and parameters: {'n_estimators': 61, 'learning_rate': 0.21303396503656255, 'subsample': 0.45, 'max_depth': 9, 'min_samples_leaf': 2, 'min_samples_split': 9}. Best is trial 15 with value: 0.9416434592639242.\n",
            "[I 2023-12-24 19:00:31,196] Trial 29 finished with value: 0.9282669757262141 and parameters: {'n_estimators': 73, 'learning_rate': 0.5470126818849937, 'subsample': 0.35000000000000003, 'max_depth': 17, 'min_samples_leaf': 4, 'min_samples_split': 12}. Best is trial 15 with value: 0.9416434592639242.\n",
            "[I 2023-12-24 19:00:32,013] Trial 30 finished with value: 0.9285367642774416 and parameters: {'n_estimators': 11, 'learning_rate': 0.04214631806411915, 'subsample': 0.2, 'max_depth': 13, 'min_samples_leaf': 5, 'min_samples_split': 14}. Best is trial 15 with value: 0.9416434592639242.\n",
            "[I 2023-12-24 19:01:10,076] Trial 31 finished with value: 0.9398690807154665 and parameters: {'n_estimators': 127, 'learning_rate': 0.1114887868580742, 'subsample': 0.25, 'max_depth': 13, 'min_samples_leaf': 2, 'min_samples_split': 12}. Best is trial 15 with value: 0.9416434592639242.\n",
            "[I 2023-12-24 19:01:39,151] Trial 32 finished with value: 0.9400682293649673 and parameters: {'n_estimators': 123, 'learning_rate': 0.08849731114368449, 'subsample': 0.3, 'max_depth': 7, 'min_samples_leaf': 4, 'min_samples_split': 11}. Best is trial 15 with value: 0.9416434592639242.\n",
            "[I 2023-12-24 19:02:05,925] Trial 33 finished with value: 0.9388885030965818 and parameters: {'n_estimators': 101, 'learning_rate': 0.1224434340322349, 'subsample': 0.2, 'max_depth': 17, 'min_samples_leaf': 2, 'min_samples_split': 13}. Best is trial 15 with value: 0.9416434592639242.\n",
            "[I 2023-12-24 19:02:29,861] Trial 34 finished with value: 0.94065569792622 and parameters: {'n_estimators': 109, 'learning_rate': 0.1659765217818001, 'subsample': 0.1, 'max_depth': 11, 'min_samples_leaf': 3, 'min_samples_split': 9}. Best is trial 15 with value: 0.9416434592639242.\n",
            "[I 2023-12-24 19:02:51,069] Trial 35 finished with value: 0.941175719349666 and parameters: {'n_estimators': 109, 'learning_rate': 0.16906506507404745, 'subsample': 0.1, 'max_depth': 9, 'min_samples_leaf': 2, 'min_samples_split': 9}. Best is trial 15 with value: 0.9416434592639242.\n",
            "[I 2023-12-24 19:03:04,425] Trial 36 finished with value: 0.9366511737797456 and parameters: {'n_estimators': 97, 'learning_rate': 0.302807993958983, 'subsample': 0.05, 'max_depth': 3, 'min_samples_leaf': 2, 'min_samples_split': 5}. Best is trial 15 with value: 0.9416434592639242.\n",
            "[I 2023-12-24 19:03:04,556] Trial 37 finished with value: 0.9221907468912457 and parameters: {'n_estimators': 3, 'learning_rate': 0.1565997734729741, 'subsample': 0.1, 'max_depth': 9, 'min_samples_leaf': 15, 'min_samples_split': 8}. Best is trial 15 with value: 0.9416434592639242.\n",
            "[I 2023-12-24 19:03:20,044] Trial 38 finished with value: 0.9397130343788838 and parameters: {'n_estimators': 85, 'learning_rate': 0.2159555802414319, 'subsample': 0.35000000000000003, 'max_depth': 7, 'min_samples_leaf': 7, 'min_samples_split': 9}. Best is trial 15 with value: 0.9416434592639242.\n",
            "[I 2023-12-24 19:03:57,910] Trial 39 finished with value: 0.9397784860392406 and parameters: {'n_estimators': 139, 'learning_rate': 0.6307086169673195, 'subsample': 0.15000000000000002, 'max_depth': 11, 'min_samples_leaf': 9, 'min_samples_split': 18}. Best is trial 15 with value: 0.9416434592639242.\n",
            "[I 2023-12-24 19:04:43,289] Trial 40 finished with value: 0.9374932652636067 and parameters: {'n_estimators': 111, 'learning_rate': 0.08775818016241466, 'subsample': 0.45, 'max_depth': 19, 'min_samples_leaf': 5, 'min_samples_split': 7}. Best is trial 15 with value: 0.9416434592639242.\n",
            "[I 2023-12-24 19:05:08,406] Trial 41 finished with value: 0.9393307008994815 and parameters: {'n_estimators': 109, 'learning_rate': 0.1630668872509389, 'subsample': 0.1, 'max_depth': 11, 'min_samples_leaf': 3, 'min_samples_split': 9}. Best is trial 15 with value: 0.9416434592639242.\n",
            "[I 2023-12-24 19:05:31,191] Trial 42 finished with value: 0.9382100407636134 and parameters: {'n_estimators': 113, 'learning_rate': 0.17627716548236702, 'subsample': 0.05, 'max_depth': 9, 'min_samples_leaf': 2, 'min_samples_split': 8}. Best is trial 15 with value: 0.9416434592639242.\n",
            "[I 2023-12-24 19:06:03,791] Trial 43 finished with value: 0.9417855372583578 and parameters: {'n_estimators': 149, 'learning_rate': 0.2825339225044464, 'subsample': 0.1, 'max_depth': 5, 'min_samples_leaf': 1, 'min_samples_split': 6}. Best is trial 43 with value: 0.9417855372583578.\n",
            "[I 2023-12-24 19:06:36,457] Trial 44 finished with value: 0.9393698122574996 and parameters: {'n_estimators': 149, 'learning_rate': 0.27734134800923843, 'subsample': 0.2, 'max_depth': 3, 'min_samples_leaf': 20, 'min_samples_split': 6}. Best is trial 43 with value: 0.9417855372583578.\n",
            "[I 2023-12-24 19:07:16,682] Trial 45 finished with value: 0.9431676049401636 and parameters: {'n_estimators': 141, 'learning_rate': 0.41181278386112313, 'subsample': 0.9000000000000001, 'max_depth': 5, 'min_samples_leaf': 1, 'min_samples_split': 5}. Best is trial 45 with value: 0.9431676049401636.\n",
            "[I 2023-12-24 19:07:55,450] Trial 46 finished with value: 0.942553396981082 and parameters: {'n_estimators': 139, 'learning_rate': 0.40659532364740936, 'subsample': 0.9000000000000001, 'max_depth': 5, 'min_samples_leaf': 1, 'min_samples_split': 4}. Best is trial 45 with value: 0.9431676049401636.\n",
            "[I 2023-12-24 19:08:25,770] Trial 47 finished with value: 0.9289625991652519 and parameters: {'n_estimators': 137, 'learning_rate': 0.41779187144100033, 'subsample': 0.9000000000000001, 'max_depth': 1, 'min_samples_leaf': 1, 'min_samples_split': 4}. Best is trial 45 with value: 0.9431676049401636.\n",
            "[I 2023-12-24 19:09:06,351] Trial 48 finished with value: 0.9434421826372709 and parameters: {'n_estimators': 143, 'learning_rate': 0.33210930458783394, 'subsample': 0.8500000000000001, 'max_depth': 5, 'min_samples_leaf': 1, 'min_samples_split': 3}. Best is trial 48 with value: 0.9434421826372709.\n",
            "[I 2023-12-24 19:09:46,994] Trial 49 finished with value: 0.9447739642873392 and parameters: {'n_estimators': 143, 'learning_rate': 0.48475266774430753, 'subsample': 0.8500000000000001, 'max_depth': 5, 'min_samples_leaf': 1, 'min_samples_split': 3}. Best is trial 49 with value: 0.9447739642873392.\n"
          ]
        },
        {
          "output_type": "stream",
          "name": "stdout",
          "text": [
            "Лучший AUC-ROC: 0.9447739642873392\n",
            "Параметры для этой версии:\n",
            "n_estimators : 143\n",
            "learning_rate : 0.48475266774430753\n",
            "subsample : 0.8500000000000001\n",
            "max_depth : 5\n",
            "min_samples_leaf : 1\n",
            "min_samples_split : 3\n"
          ]
        }
      ],
      "source": [
        "# YOUR CODE:\n",
        "import optuna\n",
        "from sklearn.metrics import roc_auc_score\n",
        "\n",
        "# часть кода как образца взята с репозитория optuna\n",
        "\n",
        "def objective(trial):\n",
        "    n_estimators = trial.suggest_int('n_estimators', 1, 150, step=2)\n",
        "    learning_rate = trial.suggest_float('learning_rate', 0.01, 0.9, log=True)\n",
        "    subsample = trial.suggest_float(\"subsample\", 0.05, 1, step=0.05)\n",
        "    max_depth = trial.suggest_int('max_depth', 1, 30, step=2)\n",
        "    min_samples_leaf = trial.suggest_int(\"min_samples_leaf\", 1, 20)\n",
        "    min_samples_split = trial.suggest_int(\"min_samples_split\", 2, 20)\n",
        "\n",
        "    model = Boosting(\n",
        "        learning_rate=learning_rate,\n",
        "        n_estimators=n_estimators,\n",
        "        subsample=subsample,\n",
        "        base_model_params={'min_samples_split': min_samples_split, 'max_depth': max_depth, 'min_samples_leaf': min_samples_leaf}\n",
        "    )\n",
        "\n",
        "    model.fit(x_train, y_train, x_valid, y_valid)\n",
        "    return score(model, x_valid, y_valid)\n",
        "\n",
        "study = optuna.create_study(direction='maximize')\n",
        "study.optimize(objective, n_trials=50) # лучше поставить 100 или 150, но оно долго учится, можно не снимать пж((\n",
        "print(f'Лучший AUC-ROC: {study.best_trial.value}')\n",
        "print(\"Параметры для этой версии:\")\n",
        "for i in study.best_trial.params:\n",
        "    print(i, \":\", study.best_trial.params[i])"
      ]
    },
    {
      "cell_type": "markdown",
      "metadata": {
        "pycharm": {
          "name": "#%% md\n"
        },
        "id": "VONaT-xBtLSi"
      },
      "source": [
        "## Задание 4. Интерпретация бустингового (2 балл)\n",
        "\n",
        "Постройте калибровочную кривую для вашей лучшей модели бустинга. Насколько хорошо бустинг оценивает вероятности? Постройте также калибровочную кривую для логистической регрессии, сравните их между собой. Проанализируйте полученные результаты."
      ]
    },
    {
      "cell_type": "code",
      "execution_count": 47,
      "metadata": {
        "pycharm": {
          "name": "#%%\n"
        },
        "id": "HxK7dweRtLSi"
      },
      "outputs": [],
      "source": [
        "# YOUR CODE:\n",
        "n_estimators = study.best_trial.params[\"n_estimators\"]\n",
        "learning_rate = study.best_trial.params[\"learning_rate\"]\n",
        "subsample = study.best_trial.params[\"subsample\"]\n",
        "max_depth = study.best_trial.params[\"max_depth\"]\n",
        "min_samples_leaf = study.best_trial.params[\"min_samples_leaf\"]\n",
        "min_samples_split = study.best_trial.params[\"min_samples_split\"]"
      ]
    },
    {
      "cell_type": "code",
      "source": [
        "model_best = Boosting(base_model_params={\n",
        "    \"max_depth\": max_depth,\n",
        "    \"min_samples_leaf\": min_samples_leaf,\n",
        "    \"min_samples_split\": min_samples_split,\n",
        "    },\n",
        "    n_estimators=n_estimators,\n",
        "    learning_rate=learning_rate,\n",
        "    subsample=subsample,\n",
        ")\n",
        "model_best.fit(x_train, y_train, x_valid, y_valid)\n",
        "y_pred_boost = model_best.predict_proba(x_test)[:, 1]"
      ],
      "metadata": {
        "id": "5vAL_sGDR8-I"
      },
      "execution_count": 48,
      "outputs": []
    },
    {
      "cell_type": "code",
      "source": [
        "from sklearn.linear_model import LogisticRegression\n",
        "from sklearn.calibration import calibration_curve"
      ],
      "metadata": {
        "id": "zdg3EbouSm04"
      },
      "execution_count": 35,
      "outputs": []
    },
    {
      "cell_type": "code",
      "source": [
        "lr = LogisticRegression()\n",
        "lr.fit(x_train, y_train)\n",
        "y_pred_lr = lr.predict_proba(x_test)[:, 1]"
      ],
      "metadata": {
        "id": "TSHHLepKSnYP"
      },
      "execution_count": 36,
      "outputs": []
    },
    {
      "cell_type": "code",
      "source": [
        "boost_true_calibration_curve, boost_prob_calibration_curve = calibration_curve(y_test, y_pred_boost, n_bins=10)\n",
        "lr_true_calibration_curve, lr_prob_calibration_curve = calibration_curve(y_test, y_pred_lr, n_bins=10)"
      ],
      "metadata": {
        "id": "R2oo7pxVVWCO"
      },
      "execution_count": 37,
      "outputs": []
    },
    {
      "cell_type": "code",
      "source": [
        "plt.plot(boost_true_calibration_curve, boost_prob_calibration_curve, label='Boosting')\n",
        "plt.plot(lr_true_calibration_curve, lr_prob_calibration_curve, label='Log reg')\n",
        "plt.plot([0, 1], [0, 1], label='Идеальная прямая', linestyle='--')\n",
        "\n",
        "plt.title(\"Калибровочные прямые для логрега и лучшего бустинга\")\n",
        "plt.xlabel(\"Вероятности\")\n",
        "plt.ylabel(\"Доли положительных классов\")\n",
        "plt.legend()\n",
        "\n",
        "plt.show()"
      ],
      "metadata": {
        "colab": {
          "base_uri": "https://localhost:8080/",
          "height": 480
        },
        "id": "CDuJrA5kVUdD",
        "outputId": "cfa9f5d5-308c-482a-ecf0-9463aa7d182b"
      },
      "execution_count": 39,
      "outputs": [
        {
          "output_type": "display_data",
          "data": {
            "text/plain": [
              "<Figure size 640x480 with 1 Axes>"
            ],
            "image/png": "[encoded data removed]"
          },
          "metadata": {}
        }
      ]
    },
    {
      "cell_type": "markdown",
      "metadata": {
        "pycharm": {
          "name": "#%% md\n"
        },
        "id": "yTGWq47RtLSi"
      },
      "source": [
        "Теперь попробуем оценить важность признаков для бустинга.\n",
        "\n",
        "Поскольку наша базовая модель - это дерево из `sklearn`, мы можем вычислить важность признака отдельно для каждого дерева и усреднить (воспользуйтесь `feature_importances_` у `DecisionTreeRegressor`), после этого нормировать значения, чтобы они суммировались в единицу (обратите внимание, что они должны быть неотрицательными - иначе вы что-то сделали не так).\n",
        "\n",
        "Допишите в вашей реализации бустинга функцию `feature_importances_` чтобы она возвращала описанные выше важности признаков.\n",
        "\n",
        "Нарисуйте столбчатую диаграмму важности признаков. На соседнем графике нарисуйте важность признаков для логистической регрессии, для этого используйте модули весов. Сравните графики. Проанализируйте полученные результаты."
      ]
    },
    {
      "cell_type": "markdown",
      "source": [
        "Сорри за код, просто если я обновлю тут и перезагружу, придется все заново обучать, а тут дедл..."
      ],
      "metadata": {
        "id": "M9aUffdXiqmU"
      }
    },
    {
      "cell_type": "code",
      "source": [
        "from __future__ import annotations\n",
        "\n",
        "from collections import defaultdict\n",
        "\n",
        "import matplotlib.pyplot as plt\n",
        "import numpy as np\n",
        "from sklearn.metrics import roc_auc_score\n",
        "from sklearn.tree import DecisionTreeRegressor\n",
        "\n",
        "\n",
        "def score(clf, x, y):\n",
        "    return roc_auc_score(y == 1, clf.predict_proba(x)[:, 1])\n",
        "\n",
        "\n",
        "class Boosting:\n",
        "\n",
        "    def __init__(\n",
        "            self,\n",
        "            base_model_params: dict = None,\n",
        "            n_estimators: int = 10,\n",
        "            learning_rate: float = 0.1,\n",
        "            subsample: float = 0.3,\n",
        "            early_stopping_rounds: int = None,\n",
        "            plot: bool = False,\n",
        "    ):\n",
        "        self.base_model_class = DecisionTreeRegressor\n",
        "        self.base_model_params: dict = {} if base_model_params is None else base_model_params\n",
        "\n",
        "        self.n_estimators: int = n_estimators\n",
        "\n",
        "        self.models: list = []\n",
        "        self.gammas: list = []\n",
        "\n",
        "        self.learning_rate: float = learning_rate\n",
        "        self.subsample: float = subsample\n",
        "\n",
        "        self.early_stopping_rounds: int = early_stopping_rounds\n",
        "        if early_stopping_rounds is not None:\n",
        "            self.validation_loss = np.full(self.early_stopping_rounds, np.inf)\n",
        "\n",
        "        self.plot: bool = plot\n",
        "\n",
        "        self.history = []\n",
        "\n",
        "        self.sigmoid = lambda x: 1 / (1 + np.exp(-x))\n",
        "        self.loss_fn = lambda y, z: -np.log(self.sigmoid(y * z)).mean()\n",
        "        self.loss_derivative = lambda y, z: -y * self.sigmoid(-y * z)\n",
        "\n",
        "        self.train_loss_history = []\n",
        "        self.val_loss_history = []\n",
        "        self.quality_val = []\n",
        "\n",
        "    def fit_new_base_model(self, x, y, predictions):\n",
        "        generated_indexes = np.random.choice(x.shape[0], size=int(self.subsample * x.shape[0]))\n",
        "        s_i = -self.loss_derivative(y[generated_indexes], predictions[generated_indexes])\n",
        "        model = self.base_model_class(**self.base_model_params)\n",
        "        model = model.fit(x[generated_indexes], s_i)\n",
        "        gamma = self.find_optimal_gamma(s_i, predictions[generated_indexes], model.predict(x[generated_indexes]))\n",
        "        self.gammas.append(gamma)\n",
        "        self.models.append(model)\n",
        "\n",
        "    def fit(self, x_train, y_train, x_valid, y_valid):\n",
        "        \"\"\"\n",
        "        :param x_train: features array (train set)\n",
        "        :param y_train: targets array (train set)\n",
        "        :param x_valid: features array (validation set)\n",
        "        :param y_valid: targets array (validation set)\n",
        "        \"\"\"\n",
        "        train_predictions = np.zeros(y_train.shape[0])\n",
        "        for _ in range(self.n_estimators):\n",
        "            self.fit_new_base_model(x_train, y_train, train_predictions)\n",
        "            self.quality_val.append(self.score(x_valid, y_valid))\n",
        "            self.train_loss_history.append(self.loss_fn(self.predict_proba(x_train)[:, 1], y_train))\n",
        "            self.val_loss_history.append(self.loss_fn(self.predict_proba(x_valid)[:, 1], y_valid))\n",
        "            train_predictions += self.learning_rate * self.gammas[-1] * self.models[-1].predict(x_train)\n",
        "            if self.early_stopping_rounds is not None:\n",
        "                if np.unique(self.quality_val[-self.early_stopping_rounds:]) == 1:\n",
        "                    break\n",
        "        if self.plot:\n",
        "            plt.plot(self.train_loss_history, label='train')\n",
        "            plt.plot(self.val_loss_history, label='valid')\n",
        "            plt.xlabel('iteration')\n",
        "            plt.ylabel('loss value')\n",
        "            plt.title(\"Зависимость Loss от номера итерации\")\n",
        "            plt.show()\n",
        "\n",
        "    def predict_proba(self, x):\n",
        "        predicts = np.zeros(x.shape[0])\n",
        "        for gamma, model in zip(self.gammas, self.models):\n",
        "            predicts += gamma * model.predict(x) * self.learning_rate\n",
        "        predicts = np.asarray(np.matrix(self.sigmoid(predicts)).transpose())\n",
        "        return np.concatenate([1 - predicts, predicts], axis=1)\n",
        "\n",
        "    def find_optimal_gamma(self, y, old_predictions, new_predictions) -> float:\n",
        "        gammas = np.linspace(start=0, stop=1, num=100)\n",
        "        losses = [self.loss_fn(y, old_predictions + gamma * new_predictions) for gamma in gammas]\n",
        "\n",
        "        return gammas[np.argmin(losses)]\n",
        "\n",
        "    def score(self, x, y):\n",
        "        return score(self, x, y)\n",
        "\n",
        "    @property\n",
        "    def feature_importances_(self):\n",
        "        return np.mean(np.array([model.feature_importances_ / sum(model.feature_importances_) for model in self.models]), axis=0)\n"
      ],
      "metadata": {
        "id": "E5mfYz-Gb3g2"
      },
      "execution_count": 40,
      "outputs": []
    },
    {
      "cell_type": "code",
      "source": [
        "boosting_model = Boosting(base_model_params={\n",
        "    \"max_depth\": max_depth,\n",
        "    \"min_samples_leaf\": min_samples_leaf,\n",
        "    \"min_samples_split\": min_samples_split,\n",
        "    },\n",
        "    n_estimators=n_estimators,\n",
        "    learning_rate=learning_rate,\n",
        "    subsample=subsample,\n",
        ")\n",
        "boosting_model.fit(x_train, y_train, x_valid, y_valid)\n",
        "sum(boosting_model.feature_importances_)"
      ],
      "metadata": {
        "colab": {
          "base_uri": "https://localhost:8080/"
        },
        "id": "qstIHrddcxg5",
        "outputId": "2062636e-9167-4464-cd6c-80628b00e9ba"
      },
      "execution_count": 49,
      "outputs": [
        {
          "output_type": "execute_result",
          "data": {
            "text/plain": [
              "array([6.18778107e-03, 1.09983939e-02, 7.52665254e-03, 5.02265082e-03,\n",
              "       7.05825638e-03, 7.78659986e-03, 2.46487801e-03, 2.85198071e-03,\n",
              "       3.23291541e-03, 3.58811316e-03, 6.17399539e-03, 5.66678624e-04,\n",
              "       7.82533165e-03, 9.45953703e-05, 4.22777524e-04, 7.77261083e-03,\n",
              "       1.12361918e-03, 2.25827078e-03, 1.17118553e-03, 5.27347220e-03,\n",
              "       1.09171670e-02, 6.50443629e-03, 2.56851714e-03, 7.19735995e-04,\n",
              "       5.06290459e-03, 5.67801551e-03, 0.00000000e+00, 9.41357807e-03,\n",
              "       2.29603717e-03, 1.44675534e-03, 1.74222783e-03, 3.51009046e-04,\n",
              "       8.50205104e-04, 3.06476499e-04, 2.36779232e-03, 2.86532728e-03,\n",
              "       1.81553712e-02, 7.80800046e-05, 4.92432613e-04, 0.00000000e+00,\n",
              "       2.27052388e-03, 0.00000000e+00, 8.03920273e-04, 1.91356569e-03,\n",
              "       0.00000000e+00, 2.37731812e-03, 1.45445516e-03, 8.24055819e-04,\n",
              "       8.99699624e-04, 0.00000000e+00, 1.50985588e-03, 1.28469856e-03,\n",
              "       1.12020333e-03, 1.28781249e-04, 0.00000000e+00, 0.00000000e+00,\n",
              "       7.10847231e-05, 3.21106157e-03, 0.00000000e+00, 2.10855046e-03,\n",
              "       3.86437660e-04, 1.92050611e-04, 3.71533014e-03, 1.10524707e-03,\n",
              "       1.56296655e-03, 1.12758544e-03, 0.00000000e+00, 2.69166031e-04,\n",
              "       3.94021605e-04, 4.28113151e-03, 3.90535046e-04, 3.99079666e-03,\n",
              "       1.64719177e-03, 0.00000000e+00, 5.80544789e-04, 2.78426402e-03,\n",
              "       5.21898506e-04, 0.00000000e+00, 2.12066238e-04, 3.38367847e-03,\n",
              "       1.51376025e-03, 3.04574131e-03, 7.28148162e-04, 5.73510262e-03,\n",
              "       4.97174834e-04, 2.93515176e-04, 0.00000000e+00, 0.00000000e+00,\n",
              "       7.33066441e-04, 9.73043288e-04, 8.99395255e-04, 4.84524317e-04,\n",
              "       4.80657277e-03, 1.15507744e-03, 2.34550303e-03, 3.86576238e-03,\n",
              "       6.15869719e-07, 0.00000000e+00, 0.00000000e+00, 5.86490104e-04,\n",
              "       2.16728861e-04, 1.73742757e-03, 2.18178376e-04, 4.82642785e-04,\n",
              "       3.48221087e-03, 1.24637707e-03, 1.07747684e-03, 7.25471456e-04,\n",
              "       1.33691609e-03, 9.08604236e-04, 3.32573028e-03, 7.70375249e-04,\n",
              "       0.00000000e+00, 0.00000000e+00, 0.00000000e+00, 1.01445050e-03,\n",
              "       2.56264954e-03, 0.00000000e+00, 0.00000000e+00, 5.51468977e-04,\n",
              "       2.26696706e-03, 3.56058565e-03, 1.72333520e-04, 1.27161349e-03,\n",
              "       5.71750757e-04, 4.41029087e-04, 1.93921653e-03, 1.99718585e-03,\n",
              "       1.74023688e-03, 0.00000000e+00, 1.86236360e-03, 0.00000000e+00,\n",
              "       4.20956034e-04, 2.34353122e-03, 4.28920048e-04, 4.72568438e-03,\n",
              "       2.13595743e-03, 3.41224515e-03, 1.63791348e-04, 9.36276080e-04,\n",
              "       0.00000000e+00, 1.56162592e-03, 8.01666213e-03, 3.71765100e-03,\n",
              "       1.23413985e-03, 1.06761714e-03, 3.06397125e-03, 8.93726803e-04,\n",
              "       2.55186570e-03, 2.46791780e-03, 1.43904656e-03, 2.93816995e-03,\n",
              "       1.97520466e-03, 8.18034705e-04, 3.59626929e-03, 6.80964075e-03,\n",
              "       2.46895497e-03, 8.54714088e-03, 1.67804375e-02, 6.56422051e-03,\n",
              "       7.24392248e-03, 1.20030339e-02, 7.33435243e-03, 1.06944674e-02,\n",
              "       1.56103541e-01, 6.81325940e-02, 3.36264937e-01, 5.83047865e-03,\n",
              "       3.44300152e-02])"
            ]
          },
          "metadata": {},
          "execution_count": 49
        }
      ]
    },
    {
      "cell_type": "code",
      "source": [
        "sum(boosting_model.feature_importances_)"
      ],
      "metadata": {
        "colab": {
          "base_uri": "https://localhost:8080/"
        },
        "id": "kNvDrMMmedMD",
        "outputId": "29ed6e1c-bdbf-4673-e71f-9a8187f64a0d"
      },
      "execution_count": 50,
      "outputs": [
        {
          "output_type": "execute_result",
          "data": {
            "text/plain": [
              "1.0"
            ]
          },
          "metadata": {},
          "execution_count": 50
        }
      ]
    },
    {
      "cell_type": "code",
      "execution_count": 56,
      "metadata": {
        "pycharm": {
          "name": "#%%\n"
        },
        "id": "tFiV2VjitLSi",
        "colab": {
          "base_uri": "https://localhost:8080/",
          "height": 692
        },
        "outputId": "b52a8f54-967b-4d6d-c2ef-57db1776fc20"
      },
      "outputs": [
        {
          "output_type": "display_data",
          "data": {
            "text/plain": [
              "<Figure size 2000x1000 with 1 Axes>"
            ],
            "image/png": "[encoded data removed]"
          },
          "metadata": {}
        }
      ],
      "source": [
        "# YOUR CODE:\n",
        "plt.figure(figsize=(20, 10))\n",
        "plt.bar(x=np.arange(len(model_best.feature_importances_)), height=model_best.feature_importances_)\n",
        "plt.title('Важность признаков бустинга')\n",
        "plt.xlabel('Номер признака')\n",
        "plt.ylabel('Важность')\n",
        "plt.show()"
      ]
    },
    {
      "cell_type": "code",
      "source": [
        "lr.coef_"
      ],
      "metadata": {
        "colab": {
          "base_uri": "https://localhost:8080/"
        },
        "id": "2bCT7B9liZuM",
        "outputId": "3e9b7899-57bd-4d2f-cbff-7577a48a0b7d"
      },
      "execution_count": 58,
      "outputs": [
        {
          "output_type": "execute_result",
          "data": {
            "text/plain": [
              "array([[-9.87563637e-01,  2.08899129e+00,  2.29689147e+00,\n",
              "        -1.71747714e+00, -1.15257010e+00, -1.17437569e+00,\n",
              "        -1.30181702e+00, -1.84768992e+00, -9.96377166e-01,\n",
              "        -1.19115597e+00,  2.46659305e-01,  3.33703575e-01,\n",
              "        -2.36428742e+00,  7.20031428e-01,  1.62274840e-01,\n",
              "        -2.25550620e+00, -9.73886920e-01, -4.32082554e-03,\n",
              "         8.31868396e-01, -5.10627079e-01,  2.85407045e+00,\n",
              "         3.55636495e+00, -4.87666004e-01, -1.13058399e-01,\n",
              "        -8.57525050e-02, -5.02864842e-01,  2.23194300e+00,\n",
              "        -1.18160996e+00, -5.41857155e-01, -4.17231625e-01,\n",
              "         3.14511751e-01,  2.26076814e-01,  2.04882059e-01,\n",
              "         4.73568178e-01, -6.29476703e-01,  1.53303901e+00,\n",
              "         1.78234770e+00,  6.91316399e-01,  4.63089062e-01,\n",
              "        -3.71751956e-01,  1.24932052e+00,  0.00000000e+00,\n",
              "        -4.39751787e-02,  1.50948355e+00,  3.76009711e-01,\n",
              "        -9.41860094e-01, -7.80188034e-01, -4.10349387e-01,\n",
              "         5.83011893e-01,  6.97781317e-03,  1.13520700e-02,\n",
              "         1.52971611e-02,  1.28602660e+00,  7.27952813e-03,\n",
              "         9.01296397e-01,  1.06784156e+00,  2.46916320e-01,\n",
              "        -1.00268126e+00, -3.98624351e-01, -7.33054443e-01,\n",
              "        -3.10824277e-01,  2.84041325e-02, -5.69724844e-02,\n",
              "         4.68490744e-02,  5.94165490e-01,  1.28285286e+00,\n",
              "         5.34633376e-01,  6.56718232e-02,  1.91076162e-01,\n",
              "        -1.63662226e+00, -7.21090094e-01,  9.42580993e-01,\n",
              "        -3.84348326e-01, -6.62604852e-01,  2.97326420e-01,\n",
              "         8.08904940e-02,  9.79192908e-01,  8.69584701e-04,\n",
              "        -7.64201390e-01,  4.03008420e-01, -1.97013492e-01,\n",
              "        -3.98087617e-01,  3.47253836e-01, -1.05962211e+00,\n",
              "        -2.68725250e-01,  3.52417746e-01,  7.69850681e-02,\n",
              "         2.31101184e-03,  3.13679718e-01, -6.75664264e-01,\n",
              "        -4.20682631e-01,  7.84404717e-01,  1.12946219e-01,\n",
              "        -4.28343526e-01,  5.76446575e-01,  1.32423264e+00,\n",
              "         3.67487936e-01,  9.92698399e-01,  1.48981758e-01,\n",
              "         1.63601680e-01,  1.05056099e+00, -9.98171839e-01,\n",
              "         6.87070501e-01, -5.53619579e-01,  9.36420305e-01,\n",
              "         2.07042859e-01, -1.02541041e-01,  5.68412227e-01,\n",
              "        -7.95348467e-01, -5.58000247e-01, -3.44841040e-01,\n",
              "         1.78687462e-01,  7.11403229e-03, -8.08263327e-01,\n",
              "        -9.59088637e-01,  9.23508062e-02, -3.90649279e-01,\n",
              "         9.89841556e-01, -1.88526552e-01,  1.03939957e+00,\n",
              "         1.31767035e+00, -2.44491714e+00,  1.90353888e-01,\n",
              "         3.31155160e-01,  1.29713477e+00,  7.66092510e-01,\n",
              "         2.21401937e-01,  2.03444210e-01,  6.88455730e-02,\n",
              "        -4.84702129e-01, -2.66680298e-01,  2.82677002e-01,\n",
              "         6.86729156e-01, -3.34106360e-01,  6.59026105e-02,\n",
              "        -1.32251721e+00, -4.41940557e-01, -6.77853144e-02,\n",
              "        -2.65883545e-01, -2.46962747e+00,  7.33792724e-01,\n",
              "        -3.62056728e-01,  3.61455261e+00, -8.60848385e-01,\n",
              "        -8.03995612e-01, -2.87239713e-01, -1.03194015e+00,\n",
              "        -4.10217988e-01, -2.27471702e-01, -1.42616230e+00,\n",
              "        -1.18778251e+00, -4.17465839e-01, -1.27739795e-02,\n",
              "        -3.94121237e-01, -6.65831729e-01,  4.98394922e-01,\n",
              "        -1.06145439e-01, -3.70244459e-01,  1.75618616e+00,\n",
              "        -8.17850464e-02, -1.08628013e+00, -1.10188745e+00,\n",
              "        -7.59707428e-01,  1.75508671e+00,  1.56528504e+00,\n",
              "        -8.26804077e-01, -3.17816463e+00,  2.47720206e-02,\n",
              "        -2.27646730e+00]])"
            ]
          },
          "metadata": {},
          "execution_count": 58
        }
      ]
    },
    {
      "cell_type": "code",
      "source": [
        "# YOUR CODE:\n",
        "plt.figure(figsize=(20, 10))\n",
        "plt.bar(x=np.arange(len(lr.coef_[0])), height=np.abs(lr.coef_[0]))\n",
        "plt.title('Важность признаков логрега')\n",
        "plt.xlabel('Номер признака')\n",
        "plt.ylabel('Важность')\n",
        "plt.show()"
      ],
      "metadata": {
        "colab": {
          "base_uri": "https://localhost:8080/",
          "height": 696
        },
        "id": "EnQ8KfafiTv0",
        "outputId": "d80b7148-c135-4d49-9b51-a85d9b7dc94c"
      },
      "execution_count": 59,
      "outputs": [
        {
          "output_type": "display_data",
          "data": {
            "text/plain": [
              "<Figure size 2000x1000 with 1 Axes>"
            ],
            "image/png": "[encoded data removed]"
          },
          "metadata": {}
        }
      ]
    },
    {
      "cell_type": "markdown",
      "source": [
        "Видно, что у логрега почти все признаки имеют вклад и даже весомый зачастую, чего не скажешь про бустинг, у которого мало признаков вносят какой-то адекватный вклад, а тем более там вообще подавляющая часть имеет 0 важность."
      ],
      "metadata": {
        "id": "C8VA7UdkjAip"
      }
    },
    {
      "cell_type": "markdown",
      "metadata": {
        "pycharm": {
          "name": "#%% md\n"
        },
        "id": "cCqBt8NGtLSi"
      },
      "source": [
        "Кстати, чаще всего излишние признаки могут вредить качеству бустинга. Попробуйте отфильтровать на основании диаграммы хвост наименее важных признаков и снова обучить модель (с теми же гиперпараметрами). Стало ли лучше?"
      ]
    },
    {
      "cell_type": "code",
      "execution_count": 60,
      "metadata": {
        "pycharm": {
          "name": "#%%\n"
        },
        "id": "S9TafWrVtLSj"
      },
      "outputs": [],
      "source": [
        "# YOUR CODE:\n",
        "filter_indexes = list(range(37, 70)) + list(range(97, 130)) + list(range(170, len(model_best.feature_importances_)))"
      ]
    },
    {
      "cell_type": "code",
      "source": [
        "type(x_train)\n",
        "type(x_train.toarray())"
      ],
      "metadata": {
        "colab": {
          "base_uri": "https://localhost:8080/"
        },
        "id": "25DdYP9VlDkU",
        "outputId": "c8192a93-7099-4f04-a8bd-d09af70b4a97"
      },
      "execution_count": 66,
      "outputs": [
        {
          "output_type": "execute_result",
          "data": {
            "text/plain": [
              "numpy.ndarray"
            ]
          },
          "metadata": {},
          "execution_count": 66
        }
      ]
    },
    {
      "cell_type": "code",
      "source": [
        "fixed_features_x_train = np.delete(x_train.toarray(), filter_indexes, axis=1)\n",
        "fixed_features_x_valid = np.delete(x_valid.toarray(), filter_indexes, axis=1)\n",
        "fixed_features_x_test = np.delete(x_test.toarray(), filter_indexes, axis=1)"
      ],
      "metadata": {
        "id": "zX_9PvLZjzgg"
      },
      "execution_count": 69,
      "outputs": []
    },
    {
      "cell_type": "code",
      "source": [
        "model_best = Boosting(base_model_params={\n",
        "    \"max_depth\": max_depth,\n",
        "    \"min_samples_leaf\": min_samples_leaf,\n",
        "    \"min_samples_split\": min_samples_split,\n",
        "    },\n",
        "    n_estimators=n_estimators,\n",
        "    learning_rate=learning_rate,\n",
        "    subsample=subsample,\n",
        ")\n",
        "model_best.fit(fixed_features_x_train, y_train, fixed_features_x_valid, y_valid)\n",
        "y_pred_boost = model_best.predict_proba(fixed_features_x_test)[:, 1]"
      ],
      "metadata": {
        "colab": {
          "base_uri": "https://localhost:8080/",
          "height": 369
        },
        "id": "g9lHaciglKdH",
        "outputId": "58a670bd-e179-4e8e-8349-5cc26b11c703"
      },
      "execution_count": 70,
      "outputs": [
        {
          "output_type": "error",
          "ename": "ValueError",
          "evalue": "ignored",
          "traceback": [
            "\u001b[0;31m---------------------------------------------------------------------------\u001b[0m",
            "\u001b[0;31mValueError\u001b[0m                                Traceback (most recent call last)",
            "\u001b[0;32m<ipython-input-70-060e68a4eec4>\u001b[0m in \u001b[0;36m<cell line: 12>\u001b[0;34m()\u001b[0m\n\u001b[1;32m     10\u001b[0m \u001b[0mmodel_best\u001b[0m\u001b[0;34m.\u001b[0m\u001b[0mfit\u001b[0m\u001b[0;34m(\u001b[0m\u001b[0mfixed_features_x_train\u001b[0m\u001b[0;34m,\u001b[0m \u001b[0my_train\u001b[0m\u001b[0;34m,\u001b[0m \u001b[0mfixed_features_x_valid\u001b[0m\u001b[0;34m,\u001b[0m \u001b[0my_valid\u001b[0m\u001b[0;34m)\u001b[0m\u001b[0;34m\u001b[0m\u001b[0;34m\u001b[0m\u001b[0m\n\u001b[1;32m     11\u001b[0m \u001b[0my_pred_boost\u001b[0m \u001b[0;34m=\u001b[0m \u001b[0mmodel_best\u001b[0m\u001b[0;34m.\u001b[0m\u001b[0mpredict_proba\u001b[0m\u001b[0;34m(\u001b[0m\u001b[0mfixed_features_x_test\u001b[0m\u001b[0;34m)\u001b[0m\u001b[0;34m[\u001b[0m\u001b[0;34m:\u001b[0m\u001b[0;34m,\u001b[0m \u001b[0;36m1\u001b[0m\u001b[0;34m]\u001b[0m\u001b[0;34m\u001b[0m\u001b[0;34m\u001b[0m\u001b[0m\n\u001b[0;32m---> 12\u001b[0;31m \u001b[0mscore\u001b[0m\u001b[0;34m(\u001b[0m\u001b[0mmodel_best\u001b[0m\u001b[0;34m,\u001b[0m \u001b[0mfixed_features_x_test\u001b[0m\u001b[0;34m,\u001b[0m \u001b[0my_pred_boost\u001b[0m\u001b[0;34m)\u001b[0m\u001b[0;34m\u001b[0m\u001b[0;34m\u001b[0m\u001b[0m\n\u001b[0m",
            "\u001b[0;32m<ipython-input-40-7327c0c932ce>\u001b[0m in \u001b[0;36mscore\u001b[0;34m(clf, x, y)\u001b[0m\n\u001b[1;32m     10\u001b[0m \u001b[0;34m\u001b[0m\u001b[0m\n\u001b[1;32m     11\u001b[0m \u001b[0;32mdef\u001b[0m \u001b[0mscore\u001b[0m\u001b[0;34m(\u001b[0m\u001b[0mclf\u001b[0m\u001b[0;34m,\u001b[0m \u001b[0mx\u001b[0m\u001b[0;34m,\u001b[0m \u001b[0my\u001b[0m\u001b[0;34m)\u001b[0m\u001b[0;34m:\u001b[0m\u001b[0;34m\u001b[0m\u001b[0;34m\u001b[0m\u001b[0m\n\u001b[0;32m---> 12\u001b[0;31m     \u001b[0;32mreturn\u001b[0m \u001b[0mroc_auc_score\u001b[0m\u001b[0;34m(\u001b[0m\u001b[0my\u001b[0m \u001b[0;34m==\u001b[0m \u001b[0;36m1\u001b[0m\u001b[0;34m,\u001b[0m \u001b[0mclf\u001b[0m\u001b[0;34m.\u001b[0m\u001b[0mpredict_proba\u001b[0m\u001b[0;34m(\u001b[0m\u001b[0mx\u001b[0m\u001b[0;34m)\u001b[0m\u001b[0;34m[\u001b[0m\u001b[0;34m:\u001b[0m\u001b[0;34m,\u001b[0m \u001b[0;36m1\u001b[0m\u001b[0;34m]\u001b[0m\u001b[0;34m)\u001b[0m\u001b[0;34m\u001b[0m\u001b[0;34m\u001b[0m\u001b[0m\n\u001b[0m\u001b[1;32m     13\u001b[0m \u001b[0;34m\u001b[0m\u001b[0m\n\u001b[1;32m     14\u001b[0m \u001b[0;34m\u001b[0m\u001b[0m\n",
            "\u001b[0;32m/usr/local/lib/python3.10/dist-packages/sklearn/metrics/_ranking.py\u001b[0m in \u001b[0;36mroc_auc_score\u001b[0;34m(y_true, y_score, average, sample_weight, max_fpr, multi_class, labels)\u001b[0m\n\u001b[1;32m    570\u001b[0m         \u001b[0mlabels\u001b[0m \u001b[0;34m=\u001b[0m \u001b[0mnp\u001b[0m\u001b[0;34m.\u001b[0m\u001b[0munique\u001b[0m\u001b[0;34m(\u001b[0m\u001b[0my_true\u001b[0m\u001b[0;34m)\u001b[0m\u001b[0;34m\u001b[0m\u001b[0;34m\u001b[0m\u001b[0m\n\u001b[1;32m    571\u001b[0m         \u001b[0my_true\u001b[0m \u001b[0;34m=\u001b[0m \u001b[0mlabel_binarize\u001b[0m\u001b[0;34m(\u001b[0m\u001b[0my_true\u001b[0m\u001b[0;34m,\u001b[0m \u001b[0mclasses\u001b[0m\u001b[0;34m=\u001b[0m\u001b[0mlabels\u001b[0m\u001b[0;34m)\u001b[0m\u001b[0;34m[\u001b[0m\u001b[0;34m:\u001b[0m\u001b[0;34m,\u001b[0m \u001b[0;36m0\u001b[0m\u001b[0;34m]\u001b[0m\u001b[0;34m\u001b[0m\u001b[0;34m\u001b[0m\u001b[0m\n\u001b[0;32m--> 572\u001b[0;31m         return _average_binary_score(\n\u001b[0m\u001b[1;32m    573\u001b[0m             \u001b[0mpartial\u001b[0m\u001b[0;34m(\u001b[0m\u001b[0m_binary_roc_auc_score\u001b[0m\u001b[0;34m,\u001b[0m \u001b[0mmax_fpr\u001b[0m\u001b[0;34m=\u001b[0m\u001b[0mmax_fpr\u001b[0m\u001b[0;34m)\u001b[0m\u001b[0;34m,\u001b[0m\u001b[0;34m\u001b[0m\u001b[0;34m\u001b[0m\u001b[0m\n\u001b[1;32m    574\u001b[0m             \u001b[0my_true\u001b[0m\u001b[0;34m,\u001b[0m\u001b[0;34m\u001b[0m\u001b[0;34m\u001b[0m\u001b[0m\n",
            "\u001b[0;32m/usr/local/lib/python3.10/dist-packages/sklearn/metrics/_base.py\u001b[0m in \u001b[0;36m_average_binary_score\u001b[0;34m(binary_metric, y_true, y_score, average, sample_weight)\u001b[0m\n\u001b[1;32m     73\u001b[0m \u001b[0;34m\u001b[0m\u001b[0m\n\u001b[1;32m     74\u001b[0m     \u001b[0;32mif\u001b[0m \u001b[0my_type\u001b[0m \u001b[0;34m==\u001b[0m \u001b[0;34m\"binary\"\u001b[0m\u001b[0;34m:\u001b[0m\u001b[0;34m\u001b[0m\u001b[0;34m\u001b[0m\u001b[0m\n\u001b[0;32m---> 75\u001b[0;31m         \u001b[0;32mreturn\u001b[0m \u001b[0mbinary_metric\u001b[0m\u001b[0;34m(\u001b[0m\u001b[0my_true\u001b[0m\u001b[0;34m,\u001b[0m \u001b[0my_score\u001b[0m\u001b[0;34m,\u001b[0m \u001b[0msample_weight\u001b[0m\u001b[0;34m=\u001b[0m\u001b[0msample_weight\u001b[0m\u001b[0;34m)\u001b[0m\u001b[0;34m\u001b[0m\u001b[0;34m\u001b[0m\u001b[0m\n\u001b[0m\u001b[1;32m     76\u001b[0m \u001b[0;34m\u001b[0m\u001b[0m\n\u001b[1;32m     77\u001b[0m     \u001b[0mcheck_consistent_length\u001b[0m\u001b[0;34m(\u001b[0m\u001b[0my_true\u001b[0m\u001b[0;34m,\u001b[0m \u001b[0my_score\u001b[0m\u001b[0;34m,\u001b[0m \u001b[0msample_weight\u001b[0m\u001b[0;34m)\u001b[0m\u001b[0;34m\u001b[0m\u001b[0;34m\u001b[0m\u001b[0m\n",
            "\u001b[0;32m/usr/local/lib/python3.10/dist-packages/sklearn/metrics/_ranking.py\u001b[0m in \u001b[0;36m_binary_roc_auc_score\u001b[0;34m(y_true, y_score, sample_weight, max_fpr)\u001b[0m\n\u001b[1;32m    337\u001b[0m     \u001b[0;34m\"\"\"Binary roc auc score.\"\"\"\u001b[0m\u001b[0;34m\u001b[0m\u001b[0;34m\u001b[0m\u001b[0m\n\u001b[1;32m    338\u001b[0m     \u001b[0;32mif\u001b[0m \u001b[0mlen\u001b[0m\u001b[0;34m(\u001b[0m\u001b[0mnp\u001b[0m\u001b[0;34m.\u001b[0m\u001b[0munique\u001b[0m\u001b[0;34m(\u001b[0m\u001b[0my_true\u001b[0m\u001b[0;34m)\u001b[0m\u001b[0;34m)\u001b[0m \u001b[0;34m!=\u001b[0m \u001b[0;36m2\u001b[0m\u001b[0;34m:\u001b[0m\u001b[0;34m\u001b[0m\u001b[0;34m\u001b[0m\u001b[0m\n\u001b[0;32m--> 339\u001b[0;31m         raise ValueError(\n\u001b[0m\u001b[1;32m    340\u001b[0m             \u001b[0;34m\"Only one class present in y_true. ROC AUC score \"\u001b[0m\u001b[0;34m\u001b[0m\u001b[0;34m\u001b[0m\u001b[0m\n\u001b[1;32m    341\u001b[0m             \u001b[0;34m\"is not defined in that case.\"\u001b[0m\u001b[0;34m\u001b[0m\u001b[0;34m\u001b[0m\u001b[0m\n",
            "\u001b[0;31mValueError\u001b[0m: Only one class present in y_true. ROC AUC score is not defined in that case."
          ]
        }
      ]
    },
    {
      "cell_type": "code",
      "source": [
        "score(model_best, fixed_features_x_test, y_test)"
      ],
      "metadata": {
        "colab": {
          "base_uri": "https://localhost:8080/"
        },
        "id": "rNnCe_DRmnjP",
        "outputId": "dacdcf78-2789-4289-a069-6b78b7c8506d"
      },
      "execution_count": 73,
      "outputs": [
        {
          "output_type": "execute_result",
          "data": {
            "text/plain": [
              "0.9405024696003768"
            ]
          },
          "metadata": {},
          "execution_count": 73
        }
      ]
    },
    {
      "cell_type": "markdown",
      "source": [
        "Скор не поменялся, но отбросили лишние признаки"
      ],
      "metadata": {
        "id": "wFsC70CTl12o"
      }
    },
    {
      "cell_type": "markdown",
      "metadata": {
        "pycharm": {
          "name": "#%% md\n"
        },
        "id": "Lzocz4fqtLSj"
      },
      "source": [
        "## Задание 5 (бонус). Блендинговое (1 балл)\n",
        "\n",
        "Реализуйте блендинг над вашей лучшей моделью и логистической регрессией. Улучшилось ли качество?"
      ]
    },
    {
      "cell_type": "code",
      "execution_count": null,
      "metadata": {
        "pycharm": {
          "name": "#%%\n"
        },
        "id": "7JXGFMXDtLSj"
      },
      "outputs": [],
      "source": [
        "# YOUR CODE:"
      ]
    },
    {
      "cell_type": "code",
      "source": [
        "class Blending:\n",
        "    def __init__(self, models, blender):\n",
        ""
      ],
      "metadata": {
        "id": "YnFPI5yPXiOk"
      },
      "execution_count": null,
      "outputs": []
    },
    {
      "cell_type": "markdown",
      "metadata": {
        "collapsed": false,
        "pycharm": {
          "name": "#%% md\n"
        },
        "id": "veTs1f_GtLSj"
      },
      "source": [
        "## Задание 6 (бонус). Катбустовое (1 балл)\n",
        "\n",
        "Запустите [CatBoost](https://catboost.ai/en/docs/concepts/python-quickstart) на наших данных, сравните с вашей реализацией. Где получилось лучше?"
      ]
    },
    {
      "cell_type": "code",
      "source": [
        "!pip install catboost"
      ],
      "metadata": {
        "colab": {
          "base_uri": "https://localhost:8080/"
        },
        "id": "VZ4V_NrTQ6UY",
        "outputId": "ae9c7186-94a3-454c-de1d-4ecdb760bb19"
      },
      "execution_count": 16,
      "outputs": [
        {
          "output_type": "stream",
          "name": "stdout",
          "text": [
            "Collecting catboost\n",
            "  Downloading catboost-1.2.2-cp310-cp310-manylinux2014_x86_64.whl (98.7 MB)\n",
            "\u001b[2K     \u001b[90m━━━━━━━━━━━━━━━━━━━━━━━━━━━━━━━━━━━━━━━━\u001b[0m \u001b[32m98.7/98.7 MB\u001b[0m \u001b[31m3.4 MB/s\u001b[0m eta \u001b[36m0:00:00\u001b[0m\n",
            "\u001b[?25hRequirement already satisfied: graphviz in /usr/local/lib/python3.10/dist-packages (from catboost) (0.20.1)\n",
            "Requirement already satisfied: matplotlib in /usr/local/lib/python3.10/dist-packages (from catboost) (3.7.1)\n",
            "Requirement already satisfied: numpy>=1.16.0 in /usr/local/lib/python3.10/dist-packages (from catboost) (1.23.5)\n",
            "Requirement already satisfied: pandas>=0.24 in /usr/local/lib/python3.10/dist-packages (from catboost) (1.5.3)\n",
            "Requirement already satisfied: scipy in /usr/local/lib/python3.10/dist-packages (from catboost) (1.11.4)\n",
            "Requirement already satisfied: plotly in /usr/local/lib/python3.10/dist-packages (from catboost) (5.15.0)\n",
            "Requirement already satisfied: six in /usr/local/lib/python3.10/dist-packages (from catboost) (1.16.0)\n",
            "Requirement already satisfied: python-dateutil>=2.8.1 in /usr/local/lib/python3.10/dist-packages (from pandas>=0.24->catboost) (2.8.2)\n",
            "Requirement already satisfied: pytz>=2020.1 in /usr/local/lib/python3.10/dist-packages (from pandas>=0.24->catboost) (2023.3.post1)\n",
            "Requirement already satisfied: contourpy>=1.0.1 in /usr/local/lib/python3.10/dist-packages (from matplotlib->catboost) (1.2.0)\n",
            "Requirement already satisfied: cycler>=0.10 in /usr/local/lib/python3.10/dist-packages (from matplotlib->catboost) (0.12.1)\n",
            "Requirement already satisfied: fonttools>=4.22.0 in /usr/local/lib/python3.10/dist-packages (from matplotlib->catboost) (4.46.0)\n",
            "Requirement already satisfied: kiwisolver>=1.0.1 in /usr/local/lib/python3.10/dist-packages (from matplotlib->catboost) (1.4.5)\n",
            "Requirement already satisfied: packaging>=20.0 in /usr/local/lib/python3.10/dist-packages (from matplotlib->catboost) (23.2)\n",
            "Requirement already satisfied: pillow>=6.2.0 in /usr/local/lib/python3.10/dist-packages (from matplotlib->catboost) (9.4.0)\n",
            "Requirement already satisfied: pyparsing>=2.3.1 in /usr/local/lib/python3.10/dist-packages (from matplotlib->catboost) (3.1.1)\n",
            "Requirement already satisfied: tenacity>=6.2.0 in /usr/local/lib/python3.10/dist-packages (from plotly->catboost) (8.2.3)\n",
            "Installing collected packages: catboost\n",
            "Successfully installed catboost-1.2.2\n"
          ]
        }
      ]
    },
    {
      "cell_type": "code",
      "execution_count": 17,
      "metadata": {
        "pycharm": {
          "name": "#%%\n"
        },
        "id": "nHgHlg5utLSj",
        "colab": {
          "base_uri": "https://localhost:8080/"
        },
        "outputId": "3494057d-dfaf-4790-9333-e825db886081"
      },
      "outputs": [
        {
          "output_type": "stream",
          "name": "stdout",
          "text": [
            "Learning rate set to 0.065429\n",
            "0:\tlearn: 0.6161728\ttest: 0.6198377\tbest: 0.6198377 (0)\ttotal: 71.8ms\tremaining: 1m 11s\n",
            "1:\tlearn: 0.5567827\ttest: 0.5635965\tbest: 0.5635965 (1)\ttotal: 105ms\tremaining: 52.3s\n",
            "2:\tlearn: 0.5044197\ttest: 0.5145067\tbest: 0.5145067 (2)\ttotal: 130ms\tremaining: 43.4s\n",
            "3:\tlearn: 0.4670266\ttest: 0.4791981\tbest: 0.4791981 (3)\ttotal: 150ms\tremaining: 37.4s\n",
            "4:\tlearn: 0.4334759\ttest: 0.4485189\tbest: 0.4485189 (4)\ttotal: 180ms\tremaining: 35.8s\n",
            "5:\tlearn: 0.4072797\ttest: 0.4239548\tbest: 0.4239548 (5)\ttotal: 213ms\tremaining: 35.2s\n",
            "6:\tlearn: 0.3871996\ttest: 0.4065015\tbest: 0.4065015 (6)\ttotal: 243ms\tremaining: 34.4s\n",
            "7:\tlearn: 0.3701940\ttest: 0.3919367\tbest: 0.3919367 (7)\ttotal: 259ms\tremaining: 32.1s\n",
            "8:\tlearn: 0.3585821\ttest: 0.3818148\tbest: 0.3818148 (8)\ttotal: 283ms\tremaining: 31.1s\n",
            "9:\tlearn: 0.3469983\ttest: 0.3722716\tbest: 0.3722716 (9)\ttotal: 326ms\tremaining: 32.3s\n",
            "10:\tlearn: 0.3350014\ttest: 0.3618737\tbest: 0.3618737 (10)\ttotal: 361ms\tremaining: 32.5s\n",
            "11:\tlearn: 0.3250519\ttest: 0.3536126\tbest: 0.3536126 (11)\ttotal: 403ms\tremaining: 33.2s\n",
            "12:\tlearn: 0.3191934\ttest: 0.3486715\tbest: 0.3486715 (12)\ttotal: 425ms\tremaining: 32.3s\n",
            "13:\tlearn: 0.3132996\ttest: 0.3435101\tbest: 0.3435101 (13)\ttotal: 451ms\tremaining: 31.7s\n",
            "14:\tlearn: 0.3059299\ttest: 0.3380566\tbest: 0.3380566 (14)\ttotal: 514ms\tremaining: 33.7s\n",
            "15:\tlearn: 0.3016312\ttest: 0.3345990\tbest: 0.3345990 (15)\ttotal: 545ms\tremaining: 33.5s\n",
            "16:\tlearn: 0.2955363\ttest: 0.3299328\tbest: 0.3299328 (16)\ttotal: 574ms\tremaining: 33.2s\n",
            "17:\tlearn: 0.2909746\ttest: 0.3265710\tbest: 0.3265710 (17)\ttotal: 612ms\tremaining: 33.4s\n",
            "18:\tlearn: 0.2870667\ttest: 0.3237992\tbest: 0.3237992 (18)\ttotal: 651ms\tremaining: 33.6s\n",
            "19:\tlearn: 0.2840161\ttest: 0.3213332\tbest: 0.3213332 (19)\ttotal: 677ms\tremaining: 33.2s\n",
            "20:\tlearn: 0.2813662\ttest: 0.3195833\tbest: 0.3195833 (20)\ttotal: 713ms\tremaining: 33.3s\n",
            "21:\tlearn: 0.2779394\ttest: 0.3171425\tbest: 0.3171425 (21)\ttotal: 745ms\tremaining: 33.1s\n",
            "22:\tlearn: 0.2746661\ttest: 0.3148887\tbest: 0.3148887 (22)\ttotal: 767ms\tremaining: 32.6s\n",
            "23:\tlearn: 0.2721668\ttest: 0.3138233\tbest: 0.3138233 (23)\ttotal: 796ms\tremaining: 32.4s\n",
            "24:\tlearn: 0.2696379\ttest: 0.3118954\tbest: 0.3118954 (24)\ttotal: 821ms\tremaining: 32s\n",
            "25:\tlearn: 0.2679121\ttest: 0.3107127\tbest: 0.3107127 (25)\ttotal: 855ms\tremaining: 32s\n",
            "26:\tlearn: 0.2653234\ttest: 0.3093145\tbest: 0.3093145 (26)\ttotal: 883ms\tremaining: 31.8s\n",
            "27:\tlearn: 0.2623924\ttest: 0.3075231\tbest: 0.3075231 (27)\ttotal: 911ms\tremaining: 31.6s\n",
            "28:\tlearn: 0.2599297\ttest: 0.3062649\tbest: 0.3062649 (28)\ttotal: 935ms\tremaining: 31.3s\n",
            "29:\tlearn: 0.2575049\ttest: 0.3048647\tbest: 0.3048647 (29)\ttotal: 966ms\tremaining: 31.2s\n",
            "30:\tlearn: 0.2550570\ttest: 0.3031927\tbest: 0.3031927 (30)\ttotal: 1.01s\tremaining: 31.7s\n",
            "31:\tlearn: 0.2539549\ttest: 0.3023541\tbest: 0.3023541 (31)\ttotal: 1.03s\tremaining: 31.3s\n",
            "32:\tlearn: 0.2516433\ttest: 0.3008476\tbest: 0.3008476 (32)\ttotal: 1.06s\tremaining: 31.1s\n",
            "33:\tlearn: 0.2503246\ttest: 0.3004249\tbest: 0.3004249 (33)\ttotal: 1.09s\tremaining: 30.9s\n",
            "34:\tlearn: 0.2489653\ttest: 0.2997654\tbest: 0.2997654 (34)\ttotal: 1.12s\tremaining: 30.8s\n",
            "35:\tlearn: 0.2478425\ttest: 0.2992338\tbest: 0.2992338 (35)\ttotal: 1.13s\tremaining: 30.4s\n",
            "36:\tlearn: 0.2467419\ttest: 0.2988983\tbest: 0.2988983 (36)\ttotal: 1.16s\tremaining: 30.3s\n",
            "37:\tlearn: 0.2455119\ttest: 0.2983398\tbest: 0.2983398 (37)\ttotal: 1.21s\tremaining: 30.6s\n",
            "38:\tlearn: 0.2444501\ttest: 0.2979013\tbest: 0.2979013 (38)\ttotal: 1.26s\tremaining: 31s\n",
            "39:\tlearn: 0.2431663\ttest: 0.2974461\tbest: 0.2974461 (39)\ttotal: 1.28s\tremaining: 30.8s\n",
            "40:\tlearn: 0.2421940\ttest: 0.2970419\tbest: 0.2970419 (40)\ttotal: 1.34s\tremaining: 31.3s\n",
            "41:\tlearn: 0.2411620\ttest: 0.2964440\tbest: 0.2964440 (41)\ttotal: 1.37s\tremaining: 31.2s\n",
            "42:\tlearn: 0.2402339\ttest: 0.2964354\tbest: 0.2964354 (42)\ttotal: 1.39s\tremaining: 31s\n",
            "43:\tlearn: 0.2391037\ttest: 0.2958691\tbest: 0.2958691 (43)\ttotal: 1.42s\tremaining: 30.8s\n",
            "44:\tlearn: 0.2381931\ttest: 0.2954952\tbest: 0.2954952 (44)\ttotal: 1.44s\tremaining: 30.6s\n",
            "45:\tlearn: 0.2373665\ttest: 0.2951847\tbest: 0.2951847 (45)\ttotal: 1.46s\tremaining: 30.4s\n",
            "46:\tlearn: 0.2367121\ttest: 0.2948885\tbest: 0.2948885 (46)\ttotal: 1.48s\tremaining: 30.1s\n",
            "47:\tlearn: 0.2354872\ttest: 0.2941936\tbest: 0.2941936 (47)\ttotal: 1.5s\tremaining: 29.8s\n",
            "48:\tlearn: 0.2345877\ttest: 0.2937247\tbest: 0.2937247 (48)\ttotal: 1.52s\tremaining: 29.5s\n",
            "49:\tlearn: 0.2335934\ttest: 0.2931183\tbest: 0.2931183 (49)\ttotal: 1.56s\tremaining: 29.6s\n",
            "50:\tlearn: 0.2327995\ttest: 0.2926137\tbest: 0.2926137 (50)\ttotal: 1.59s\tremaining: 29.5s\n",
            "51:\tlearn: 0.2320916\ttest: 0.2923092\tbest: 0.2923092 (51)\ttotal: 1.61s\tremaining: 29.3s\n",
            "52:\tlearn: 0.2312396\ttest: 0.2918949\tbest: 0.2918949 (52)\ttotal: 1.63s\tremaining: 29.1s\n",
            "53:\tlearn: 0.2303079\ttest: 0.2915334\tbest: 0.2915334 (53)\ttotal: 1.65s\tremaining: 29s\n",
            "54:\tlearn: 0.2297510\ttest: 0.2913732\tbest: 0.2913732 (54)\ttotal: 1.68s\tremaining: 28.8s\n",
            "55:\tlearn: 0.2290026\ttest: 0.2912557\tbest: 0.2912557 (55)\ttotal: 1.7s\tremaining: 28.6s\n",
            "56:\tlearn: 0.2282648\ttest: 0.2911241\tbest: 0.2911241 (56)\ttotal: 1.73s\tremaining: 28.6s\n",
            "57:\tlearn: 0.2277191\ttest: 0.2909696\tbest: 0.2909696 (57)\ttotal: 1.75s\tremaining: 28.4s\n",
            "58:\tlearn: 0.2273084\ttest: 0.2907001\tbest: 0.2907001 (58)\ttotal: 1.77s\tremaining: 28.2s\n",
            "59:\tlearn: 0.2267507\ttest: 0.2903718\tbest: 0.2903718 (59)\ttotal: 1.83s\tremaining: 28.7s\n",
            "60:\tlearn: 0.2260506\ttest: 0.2901250\tbest: 0.2901250 (60)\ttotal: 1.84s\tremaining: 28.4s\n",
            "61:\tlearn: 0.2256750\ttest: 0.2899776\tbest: 0.2899776 (61)\ttotal: 1.86s\tremaining: 28.2s\n",
            "62:\tlearn: 0.2252672\ttest: 0.2899611\tbest: 0.2899611 (62)\ttotal: 1.88s\tremaining: 27.9s\n",
            "63:\tlearn: 0.2249147\ttest: 0.2898449\tbest: 0.2898449 (63)\ttotal: 1.88s\tremaining: 27.6s\n",
            "64:\tlearn: 0.2244058\ttest: 0.2895496\tbest: 0.2895496 (64)\ttotal: 1.89s\tremaining: 27.2s\n",
            "65:\tlearn: 0.2238926\ttest: 0.2892963\tbest: 0.2892963 (65)\ttotal: 1.9s\tremaining: 26.9s\n",
            "66:\tlearn: 0.2231125\ttest: 0.2889848\tbest: 0.2889848 (66)\ttotal: 1.91s\tremaining: 26.6s\n",
            "67:\tlearn: 0.2226076\ttest: 0.2890128\tbest: 0.2889848 (66)\ttotal: 1.92s\tremaining: 26.3s\n",
            "68:\tlearn: 0.2220798\ttest: 0.2889171\tbest: 0.2889171 (68)\ttotal: 1.93s\tremaining: 26s\n",
            "69:\tlearn: 0.2216459\ttest: 0.2887213\tbest: 0.2887213 (69)\ttotal: 1.93s\tremaining: 25.7s\n",
            "70:\tlearn: 0.2212161\ttest: 0.2886276\tbest: 0.2886276 (70)\ttotal: 1.94s\tremaining: 25.4s\n",
            "71:\tlearn: 0.2208785\ttest: 0.2885132\tbest: 0.2885132 (71)\ttotal: 1.95s\tremaining: 25.1s\n",
            "72:\tlearn: 0.2205186\ttest: 0.2884474\tbest: 0.2884474 (72)\ttotal: 1.96s\tremaining: 24.8s\n",
            "73:\tlearn: 0.2199503\ttest: 0.2885498\tbest: 0.2884474 (72)\ttotal: 1.96s\tremaining: 24.6s\n",
            "74:\tlearn: 0.2196393\ttest: 0.2882384\tbest: 0.2882384 (74)\ttotal: 1.97s\tremaining: 24.3s\n",
            "75:\tlearn: 0.2192317\ttest: 0.2882146\tbest: 0.2882146 (75)\ttotal: 1.98s\tremaining: 24.1s\n",
            "76:\tlearn: 0.2189540\ttest: 0.2881249\tbest: 0.2881249 (76)\ttotal: 1.99s\tremaining: 23.8s\n",
            "77:\tlearn: 0.2185004\ttest: 0.2881105\tbest: 0.2881105 (77)\ttotal: 1.99s\tremaining: 23.6s\n",
            "78:\tlearn: 0.2180681\ttest: 0.2880734\tbest: 0.2880734 (78)\ttotal: 2s\tremaining: 23.3s\n",
            "79:\tlearn: 0.2176076\ttest: 0.2879603\tbest: 0.2879603 (79)\ttotal: 2.01s\tremaining: 23.1s\n",
            "80:\tlearn: 0.2172290\ttest: 0.2878414\tbest: 0.2878414 (80)\ttotal: 2.02s\tremaining: 22.9s\n",
            "81:\tlearn: 0.2168954\ttest: 0.2878945\tbest: 0.2878414 (80)\ttotal: 2.03s\tremaining: 22.7s\n",
            "82:\tlearn: 0.2164949\ttest: 0.2879001\tbest: 0.2878414 (80)\ttotal: 2.04s\tremaining: 22.5s\n",
            "83:\tlearn: 0.2160785\ttest: 0.2877917\tbest: 0.2877917 (83)\ttotal: 2.04s\tremaining: 22.3s\n",
            "84:\tlearn: 0.2158365\ttest: 0.2878511\tbest: 0.2877917 (83)\ttotal: 2.05s\tremaining: 22.1s\n",
            "85:\tlearn: 0.2155055\ttest: 0.2878108\tbest: 0.2877917 (83)\ttotal: 2.08s\tremaining: 22.1s\n",
            "86:\tlearn: 0.2151067\ttest: 0.2877733\tbest: 0.2877733 (86)\ttotal: 2.09s\tremaining: 22s\n",
            "87:\tlearn: 0.2146854\ttest: 0.2879395\tbest: 0.2877733 (86)\ttotal: 2.11s\tremaining: 21.9s\n",
            "88:\tlearn: 0.2142556\ttest: 0.2879376\tbest: 0.2877733 (86)\ttotal: 2.12s\tremaining: 21.7s\n",
            "89:\tlearn: 0.2139599\ttest: 0.2879586\tbest: 0.2877733 (86)\ttotal: 2.13s\tremaining: 21.5s\n",
            "90:\tlearn: 0.2136039\ttest: 0.2880285\tbest: 0.2877733 (86)\ttotal: 2.14s\tremaining: 21.3s\n",
            "91:\tlearn: 0.2133329\ttest: 0.2877680\tbest: 0.2877680 (91)\ttotal: 2.14s\tremaining: 21.2s\n",
            "92:\tlearn: 0.2130029\ttest: 0.2876907\tbest: 0.2876907 (92)\ttotal: 2.15s\tremaining: 21s\n",
            "93:\tlearn: 0.2126870\ttest: 0.2875648\tbest: 0.2875648 (93)\ttotal: 2.17s\tremaining: 20.9s\n",
            "94:\tlearn: 0.2124397\ttest: 0.2875754\tbest: 0.2875648 (93)\ttotal: 2.19s\tremaining: 20.9s\n",
            "95:\tlearn: 0.2122044\ttest: 0.2875209\tbest: 0.2875209 (95)\ttotal: 2.21s\tremaining: 20.8s\n",
            "96:\tlearn: 0.2117691\ttest: 0.2873774\tbest: 0.2873774 (96)\ttotal: 2.22s\tremaining: 20.7s\n",
            "97:\tlearn: 0.2112933\ttest: 0.2870271\tbest: 0.2870271 (97)\ttotal: 2.24s\tremaining: 20.6s\n",
            "98:\tlearn: 0.2108071\ttest: 0.2868909\tbest: 0.2868909 (98)\ttotal: 2.26s\tremaining: 20.6s\n",
            "99:\tlearn: 0.2105084\ttest: 0.2869987\tbest: 0.2868909 (98)\ttotal: 2.29s\tremaining: 20.6s\n",
            "100:\tlearn: 0.2101553\ttest: 0.2870166\tbest: 0.2868909 (98)\ttotal: 2.32s\tremaining: 20.6s\n",
            "101:\tlearn: 0.2099549\ttest: 0.2869669\tbest: 0.2868909 (98)\ttotal: 2.33s\tremaining: 20.6s\n",
            "102:\tlearn: 0.2097121\ttest: 0.2871194\tbest: 0.2868909 (98)\ttotal: 2.35s\tremaining: 20.5s\n",
            "103:\tlearn: 0.2094695\ttest: 0.2871239\tbest: 0.2868909 (98)\ttotal: 2.37s\tremaining: 20.4s\n",
            "104:\tlearn: 0.2091493\ttest: 0.2870078\tbest: 0.2868909 (98)\ttotal: 2.38s\tremaining: 20.3s\n",
            "105:\tlearn: 0.2089100\ttest: 0.2870652\tbest: 0.2868909 (98)\ttotal: 2.4s\tremaining: 20.3s\n",
            "106:\tlearn: 0.2086480\ttest: 0.2871764\tbest: 0.2868909 (98)\ttotal: 2.43s\tremaining: 20.2s\n",
            "107:\tlearn: 0.2083893\ttest: 0.2871197\tbest: 0.2868909 (98)\ttotal: 2.44s\tremaining: 20.2s\n",
            "108:\tlearn: 0.2081834\ttest: 0.2869476\tbest: 0.2868909 (98)\ttotal: 2.46s\tremaining: 20.1s\n",
            "109:\tlearn: 0.2077041\ttest: 0.2867421\tbest: 0.2867421 (109)\ttotal: 2.48s\tremaining: 20.1s\n",
            "110:\tlearn: 0.2074434\ttest: 0.2866955\tbest: 0.2866955 (110)\ttotal: 2.49s\tremaining: 20s\n",
            "111:\tlearn: 0.2070274\ttest: 0.2865207\tbest: 0.2865207 (111)\ttotal: 2.5s\tremaining: 19.8s\n",
            "112:\tlearn: 0.2066839\ttest: 0.2864663\tbest: 0.2864663 (112)\ttotal: 2.51s\tremaining: 19.7s\n",
            "113:\tlearn: 0.2064258\ttest: 0.2864866\tbest: 0.2864663 (112)\ttotal: 2.52s\tremaining: 19.5s\n",
            "114:\tlearn: 0.2061923\ttest: 0.2865217\tbest: 0.2864663 (112)\ttotal: 2.52s\tremaining: 19.4s\n",
            "115:\tlearn: 0.2059574\ttest: 0.2865861\tbest: 0.2864663 (112)\ttotal: 2.53s\tremaining: 19.3s\n",
            "116:\tlearn: 0.2057219\ttest: 0.2864392\tbest: 0.2864392 (116)\ttotal: 2.54s\tremaining: 19.1s\n",
            "117:\tlearn: 0.2054232\ttest: 0.2864317\tbest: 0.2864317 (117)\ttotal: 2.54s\tremaining: 19s\n",
            "118:\tlearn: 0.2052081\ttest: 0.2863645\tbest: 0.2863645 (118)\ttotal: 2.55s\tremaining: 18.9s\n",
            "119:\tlearn: 0.2050370\ttest: 0.2862258\tbest: 0.2862258 (119)\ttotal: 2.58s\tremaining: 18.9s\n",
            "120:\tlearn: 0.2048265\ttest: 0.2862125\tbest: 0.2862125 (120)\ttotal: 2.59s\tremaining: 18.8s\n",
            "121:\tlearn: 0.2046489\ttest: 0.2861892\tbest: 0.2861892 (121)\ttotal: 2.6s\tremaining: 18.7s\n",
            "122:\tlearn: 0.2043906\ttest: 0.2860378\tbest: 0.2860378 (122)\ttotal: 2.62s\tremaining: 18.7s\n",
            "123:\tlearn: 0.2041213\ttest: 0.2861264\tbest: 0.2860378 (122)\ttotal: 2.63s\tremaining: 18.6s\n",
            "124:\tlearn: 0.2039335\ttest: 0.2861981\tbest: 0.2860378 (122)\ttotal: 2.65s\tremaining: 18.6s\n",
            "125:\tlearn: 0.2036671\ttest: 0.2861391\tbest: 0.2860378 (122)\ttotal: 2.66s\tremaining: 18.5s\n",
            "126:\tlearn: 0.2033346\ttest: 0.2858859\tbest: 0.2858859 (126)\ttotal: 2.68s\tremaining: 18.4s\n",
            "127:\tlearn: 0.2029976\ttest: 0.2856450\tbest: 0.2856450 (127)\ttotal: 2.68s\tremaining: 18.3s\n",
            "128:\tlearn: 0.2027127\ttest: 0.2854369\tbest: 0.2854369 (128)\ttotal: 2.72s\tremaining: 18.3s\n",
            "129:\tlearn: 0.2024436\ttest: 0.2853783\tbest: 0.2853783 (129)\ttotal: 2.77s\tremaining: 18.5s\n",
            "130:\tlearn: 0.2021152\ttest: 0.2854503\tbest: 0.2853783 (129)\ttotal: 2.81s\tremaining: 18.7s\n",
            "131:\tlearn: 0.2018836\ttest: 0.2854397\tbest: 0.2853783 (129)\ttotal: 2.83s\tremaining: 18.6s\n",
            "132:\tlearn: 0.2016268\ttest: 0.2855057\tbest: 0.2853783 (129)\ttotal: 2.86s\tremaining: 18.6s\n",
            "133:\tlearn: 0.2013831\ttest: 0.2853363\tbest: 0.2853363 (133)\ttotal: 2.86s\tremaining: 18.5s\n",
            "134:\tlearn: 0.2010901\ttest: 0.2852931\tbest: 0.2852931 (134)\ttotal: 2.87s\tremaining: 18.4s\n",
            "135:\tlearn: 0.2008494\ttest: 0.2851972\tbest: 0.2851972 (135)\ttotal: 2.88s\tremaining: 18.3s\n",
            "136:\tlearn: 0.2006739\ttest: 0.2851900\tbest: 0.2851900 (136)\ttotal: 2.89s\tremaining: 18.2s\n",
            "137:\tlearn: 0.2004657\ttest: 0.2852040\tbest: 0.2851900 (136)\ttotal: 2.9s\tremaining: 18.1s\n",
            "138:\tlearn: 0.2002955\ttest: 0.2851700\tbest: 0.2851700 (138)\ttotal: 2.91s\tremaining: 18s\n",
            "139:\tlearn: 0.2000917\ttest: 0.2852668\tbest: 0.2851700 (138)\ttotal: 2.92s\tremaining: 17.9s\n",
            "140:\tlearn: 0.1999083\ttest: 0.2852321\tbest: 0.2851700 (138)\ttotal: 2.92s\tremaining: 17.8s\n",
            "141:\tlearn: 0.1997733\ttest: 0.2852024\tbest: 0.2851700 (138)\ttotal: 2.94s\tremaining: 17.7s\n",
            "142:\tlearn: 0.1995743\ttest: 0.2851751\tbest: 0.2851700 (138)\ttotal: 2.96s\tremaining: 17.7s\n",
            "143:\tlearn: 0.1993401\ttest: 0.2851483\tbest: 0.2851483 (143)\ttotal: 2.97s\tremaining: 17.7s\n",
            "144:\tlearn: 0.1991308\ttest: 0.2850979\tbest: 0.2850979 (144)\ttotal: 2.99s\tremaining: 17.7s\n",
            "145:\tlearn: 0.1988447\ttest: 0.2851657\tbest: 0.2850979 (144)\ttotal: 3.01s\tremaining: 17.6s\n",
            "146:\tlearn: 0.1985956\ttest: 0.2852702\tbest: 0.2850979 (144)\ttotal: 3.02s\tremaining: 17.5s\n",
            "147:\tlearn: 0.1984551\ttest: 0.2852014\tbest: 0.2850979 (144)\ttotal: 3.04s\tremaining: 17.5s\n",
            "148:\tlearn: 0.1982828\ttest: 0.2851799\tbest: 0.2850979 (144)\ttotal: 3.06s\tremaining: 17.5s\n",
            "149:\tlearn: 0.1979727\ttest: 0.2850421\tbest: 0.2850421 (149)\ttotal: 3.09s\tremaining: 17.5s\n",
            "150:\tlearn: 0.1977487\ttest: 0.2849013\tbest: 0.2849013 (150)\ttotal: 3.11s\tremaining: 17.5s\n",
            "151:\tlearn: 0.1974763\ttest: 0.2849486\tbest: 0.2849013 (150)\ttotal: 3.13s\tremaining: 17.4s\n",
            "152:\tlearn: 0.1971316\ttest: 0.2848119\tbest: 0.2848119 (152)\ttotal: 3.16s\tremaining: 17.5s\n",
            "153:\tlearn: 0.1969894\ttest: 0.2848583\tbest: 0.2848119 (152)\ttotal: 3.17s\tremaining: 17.4s\n",
            "154:\tlearn: 0.1968181\ttest: 0.2848146\tbest: 0.2848119 (152)\ttotal: 3.18s\tremaining: 17.3s\n",
            "155:\tlearn: 0.1966232\ttest: 0.2848760\tbest: 0.2848119 (152)\ttotal: 3.2s\tremaining: 17.3s\n",
            "156:\tlearn: 0.1964007\ttest: 0.2848117\tbest: 0.2848117 (156)\ttotal: 3.22s\tremaining: 17.3s\n",
            "157:\tlearn: 0.1962369\ttest: 0.2848377\tbest: 0.2848117 (156)\ttotal: 3.24s\tremaining: 17.3s\n",
            "158:\tlearn: 0.1960701\ttest: 0.2848760\tbest: 0.2848117 (156)\ttotal: 3.25s\tremaining: 17.2s\n",
            "159:\tlearn: 0.1957247\ttest: 0.2847583\tbest: 0.2847583 (159)\ttotal: 3.27s\tremaining: 17.2s\n",
            "160:\tlearn: 0.1955300\ttest: 0.2847425\tbest: 0.2847425 (160)\ttotal: 3.3s\tremaining: 17.2s\n",
            "161:\tlearn: 0.1953351\ttest: 0.2846065\tbest: 0.2846065 (161)\ttotal: 3.32s\tremaining: 17.2s\n",
            "162:\tlearn: 0.1951516\ttest: 0.2845345\tbest: 0.2845345 (162)\ttotal: 3.35s\tremaining: 17.2s\n",
            "163:\tlearn: 0.1949227\ttest: 0.2845164\tbest: 0.2845164 (163)\ttotal: 3.36s\tremaining: 17.1s\n",
            "164:\tlearn: 0.1947241\ttest: 0.2845530\tbest: 0.2845164 (163)\ttotal: 3.38s\tremaining: 17.1s\n",
            "165:\tlearn: 0.1945657\ttest: 0.2844853\tbest: 0.2844853 (165)\ttotal: 3.4s\tremaining: 17.1s\n",
            "166:\tlearn: 0.1943418\ttest: 0.2844565\tbest: 0.2844565 (166)\ttotal: 3.42s\tremaining: 17s\n",
            "167:\tlearn: 0.1940801\ttest: 0.2844573\tbest: 0.2844565 (166)\ttotal: 3.44s\tremaining: 17s\n",
            "168:\tlearn: 0.1939000\ttest: 0.2844010\tbest: 0.2844010 (168)\ttotal: 3.45s\tremaining: 17s\n",
            "169:\tlearn: 0.1937421\ttest: 0.2844021\tbest: 0.2844010 (168)\ttotal: 3.49s\tremaining: 17s\n",
            "170:\tlearn: 0.1934537\ttest: 0.2842304\tbest: 0.2842304 (170)\ttotal: 3.52s\tremaining: 17s\n",
            "171:\tlearn: 0.1932988\ttest: 0.2842906\tbest: 0.2842304 (170)\ttotal: 3.54s\tremaining: 17s\n",
            "172:\tlearn: 0.1931156\ttest: 0.2843266\tbest: 0.2842304 (170)\ttotal: 3.57s\tremaining: 17.1s\n",
            "173:\tlearn: 0.1928809\ttest: 0.2844331\tbest: 0.2842304 (170)\ttotal: 3.6s\tremaining: 17.1s\n",
            "174:\tlearn: 0.1927046\ttest: 0.2844957\tbest: 0.2842304 (170)\ttotal: 3.62s\tremaining: 17.1s\n",
            "175:\tlearn: 0.1925159\ttest: 0.2845351\tbest: 0.2842304 (170)\ttotal: 3.64s\tremaining: 17s\n",
            "176:\tlearn: 0.1923227\ttest: 0.2846617\tbest: 0.2842304 (170)\ttotal: 3.66s\tremaining: 17s\n",
            "177:\tlearn: 0.1921526\ttest: 0.2846188\tbest: 0.2842304 (170)\ttotal: 3.68s\tremaining: 17s\n",
            "178:\tlearn: 0.1919338\ttest: 0.2845397\tbest: 0.2842304 (170)\ttotal: 3.7s\tremaining: 17s\n",
            "179:\tlearn: 0.1916755\ttest: 0.2845450\tbest: 0.2842304 (170)\ttotal: 3.72s\tremaining: 16.9s\n",
            "180:\tlearn: 0.1914844\ttest: 0.2845406\tbest: 0.2842304 (170)\ttotal: 3.75s\tremaining: 17s\n",
            "181:\tlearn: 0.1913230\ttest: 0.2843907\tbest: 0.2842304 (170)\ttotal: 3.76s\tremaining: 16.9s\n",
            "182:\tlearn: 0.1911550\ttest: 0.2844573\tbest: 0.2842304 (170)\ttotal: 3.78s\tremaining: 16.9s\n",
            "183:\tlearn: 0.1909295\ttest: 0.2844053\tbest: 0.2842304 (170)\ttotal: 3.79s\tremaining: 16.8s\n",
            "184:\tlearn: 0.1908050\ttest: 0.2843352\tbest: 0.2842304 (170)\ttotal: 3.81s\tremaining: 16.8s\n",
            "185:\tlearn: 0.1905574\ttest: 0.2842884\tbest: 0.2842304 (170)\ttotal: 3.82s\tremaining: 16.7s\n",
            "186:\tlearn: 0.1903655\ttest: 0.2843535\tbest: 0.2842304 (170)\ttotal: 3.84s\tremaining: 16.7s\n",
            "187:\tlearn: 0.1902132\ttest: 0.2844226\tbest: 0.2842304 (170)\ttotal: 3.85s\tremaining: 16.6s\n",
            "188:\tlearn: 0.1899963\ttest: 0.2844862\tbest: 0.2842304 (170)\ttotal: 3.88s\tremaining: 16.7s\n",
            "189:\tlearn: 0.1897983\ttest: 0.2845388\tbest: 0.2842304 (170)\ttotal: 3.9s\tremaining: 16.6s\n",
            "190:\tlearn: 0.1896512\ttest: 0.2845385\tbest: 0.2842304 (170)\ttotal: 3.91s\tremaining: 16.6s\n",
            "191:\tlearn: 0.1894824\ttest: 0.2845434\tbest: 0.2842304 (170)\ttotal: 3.93s\tremaining: 16.5s\n",
            "192:\tlearn: 0.1893472\ttest: 0.2846035\tbest: 0.2842304 (170)\ttotal: 3.95s\tremaining: 16.5s\n",
            "193:\tlearn: 0.1892091\ttest: 0.2846780\tbest: 0.2842304 (170)\ttotal: 3.96s\tremaining: 16.5s\n",
            "194:\tlearn: 0.1890366\ttest: 0.2846694\tbest: 0.2842304 (170)\ttotal: 3.99s\tremaining: 16.5s\n",
            "195:\tlearn: 0.1889012\ttest: 0.2846187\tbest: 0.2842304 (170)\ttotal: 4.02s\tremaining: 16.5s\n",
            "196:\tlearn: 0.1887499\ttest: 0.2847305\tbest: 0.2842304 (170)\ttotal: 4.04s\tremaining: 16.5s\n",
            "197:\tlearn: 0.1886304\ttest: 0.2847224\tbest: 0.2842304 (170)\ttotal: 4.06s\tremaining: 16.5s\n",
            "198:\tlearn: 0.1884069\ttest: 0.2846091\tbest: 0.2842304 (170)\ttotal: 4.09s\tremaining: 16.5s\n",
            "199:\tlearn: 0.1883065\ttest: 0.2845860\tbest: 0.2842304 (170)\ttotal: 4.11s\tremaining: 16.4s\n",
            "200:\tlearn: 0.1881858\ttest: 0.2846100\tbest: 0.2842304 (170)\ttotal: 4.13s\tremaining: 16.4s\n",
            "201:\tlearn: 0.1880300\ttest: 0.2846552\tbest: 0.2842304 (170)\ttotal: 4.14s\tremaining: 16.4s\n",
            "202:\tlearn: 0.1878596\ttest: 0.2846946\tbest: 0.2842304 (170)\ttotal: 4.18s\tremaining: 16.4s\n",
            "203:\tlearn: 0.1877243\ttest: 0.2846280\tbest: 0.2842304 (170)\ttotal: 4.2s\tremaining: 16.4s\n",
            "204:\tlearn: 0.1874928\ttest: 0.2845895\tbest: 0.2842304 (170)\ttotal: 4.23s\tremaining: 16.4s\n",
            "205:\tlearn: 0.1873668\ttest: 0.2846730\tbest: 0.2842304 (170)\ttotal: 4.25s\tremaining: 16.4s\n",
            "206:\tlearn: 0.1873195\ttest: 0.2846555\tbest: 0.2842304 (170)\ttotal: 4.26s\tremaining: 16.3s\n",
            "207:\tlearn: 0.1871536\ttest: 0.2846726\tbest: 0.2842304 (170)\ttotal: 4.29s\tremaining: 16.3s\n",
            "208:\tlearn: 0.1869742\ttest: 0.2847168\tbest: 0.2842304 (170)\ttotal: 4.31s\tremaining: 16.3s\n",
            "209:\tlearn: 0.1868594\ttest: 0.2846478\tbest: 0.2842304 (170)\ttotal: 4.33s\tremaining: 16.3s\n",
            "210:\tlearn: 0.1867290\ttest: 0.2845869\tbest: 0.2842304 (170)\ttotal: 4.35s\tremaining: 16.3s\n",
            "211:\tlearn: 0.1865790\ttest: 0.2846129\tbest: 0.2842304 (170)\ttotal: 4.36s\tremaining: 16.2s\n",
            "212:\tlearn: 0.1864035\ttest: 0.2845403\tbest: 0.2842304 (170)\ttotal: 4.37s\tremaining: 16.2s\n",
            "213:\tlearn: 0.1862852\ttest: 0.2845498\tbest: 0.2842304 (170)\ttotal: 4.39s\tremaining: 16.1s\n",
            "214:\tlearn: 0.1860413\ttest: 0.2845399\tbest: 0.2842304 (170)\ttotal: 4.4s\tremaining: 16.1s\n",
            "215:\tlearn: 0.1859256\ttest: 0.2846513\tbest: 0.2842304 (170)\ttotal: 4.43s\tremaining: 16.1s\n",
            "216:\tlearn: 0.1857352\ttest: 0.2846167\tbest: 0.2842304 (170)\ttotal: 4.45s\tremaining: 16.1s\n",
            "217:\tlearn: 0.1856203\ttest: 0.2846152\tbest: 0.2842304 (170)\ttotal: 4.46s\tremaining: 16s\n",
            "218:\tlearn: 0.1855373\ttest: 0.2846030\tbest: 0.2842304 (170)\ttotal: 4.47s\tremaining: 15.9s\n",
            "219:\tlearn: 0.1853800\ttest: 0.2846420\tbest: 0.2842304 (170)\ttotal: 4.48s\tremaining: 15.9s\n",
            "220:\tlearn: 0.1852693\ttest: 0.2845860\tbest: 0.2842304 (170)\ttotal: 4.48s\tremaining: 15.8s\n",
            "221:\tlearn: 0.1851376\ttest: 0.2847046\tbest: 0.2842304 (170)\ttotal: 4.5s\tremaining: 15.8s\n",
            "222:\tlearn: 0.1849958\ttest: 0.2846987\tbest: 0.2842304 (170)\ttotal: 4.5s\tremaining: 15.7s\n",
            "223:\tlearn: 0.1849117\ttest: 0.2847871\tbest: 0.2842304 (170)\ttotal: 4.51s\tremaining: 15.6s\n",
            "224:\tlearn: 0.1847420\ttest: 0.2850021\tbest: 0.2842304 (170)\ttotal: 4.52s\tremaining: 15.6s\n",
            "225:\tlearn: 0.1846110\ttest: 0.2851146\tbest: 0.2842304 (170)\ttotal: 4.53s\tremaining: 15.5s\n",
            "226:\tlearn: 0.1843846\ttest: 0.2850040\tbest: 0.2842304 (170)\ttotal: 4.54s\tremaining: 15.4s\n",
            "227:\tlearn: 0.1842765\ttest: 0.2850567\tbest: 0.2842304 (170)\ttotal: 4.54s\tremaining: 15.4s\n",
            "228:\tlearn: 0.1840998\ttest: 0.2850464\tbest: 0.2842304 (170)\ttotal: 4.55s\tremaining: 15.3s\n",
            "229:\tlearn: 0.1838859\ttest: 0.2849551\tbest: 0.2842304 (170)\ttotal: 4.56s\tremaining: 15.3s\n",
            "230:\tlearn: 0.1837925\ttest: 0.2848494\tbest: 0.2842304 (170)\ttotal: 4.57s\tremaining: 15.2s\n",
            "231:\tlearn: 0.1836356\ttest: 0.2848837\tbest: 0.2842304 (170)\ttotal: 4.58s\tremaining: 15.1s\n",
            "232:\tlearn: 0.1834710\ttest: 0.2849454\tbest: 0.2842304 (170)\ttotal: 4.58s\tremaining: 15.1s\n",
            "233:\tlearn: 0.1833488\ttest: 0.2850272\tbest: 0.2842304 (170)\ttotal: 4.6s\tremaining: 15.1s\n",
            "234:\tlearn: 0.1832754\ttest: 0.2850903\tbest: 0.2842304 (170)\ttotal: 4.62s\tremaining: 15s\n",
            "235:\tlearn: 0.1831358\ttest: 0.2850525\tbest: 0.2842304 (170)\ttotal: 4.63s\tremaining: 15s\n",
            "236:\tlearn: 0.1829652\ttest: 0.2849903\tbest: 0.2842304 (170)\ttotal: 4.66s\tremaining: 15s\n",
            "237:\tlearn: 0.1828139\ttest: 0.2849050\tbest: 0.2842304 (170)\ttotal: 4.67s\tremaining: 14.9s\n",
            "238:\tlearn: 0.1826978\ttest: 0.2849688\tbest: 0.2842304 (170)\ttotal: 4.68s\tremaining: 14.9s\n",
            "239:\tlearn: 0.1825681\ttest: 0.2850920\tbest: 0.2842304 (170)\ttotal: 4.71s\tremaining: 14.9s\n",
            "240:\tlearn: 0.1824362\ttest: 0.2851114\tbest: 0.2842304 (170)\ttotal: 4.73s\tremaining: 14.9s\n",
            "241:\tlearn: 0.1823289\ttest: 0.2852330\tbest: 0.2842304 (170)\ttotal: 4.76s\tremaining: 14.9s\n",
            "242:\tlearn: 0.1822472\ttest: 0.2852227\tbest: 0.2842304 (170)\ttotal: 4.77s\tremaining: 14.9s\n",
            "243:\tlearn: 0.1821595\ttest: 0.2851955\tbest: 0.2842304 (170)\ttotal: 4.8s\tremaining: 14.9s\n",
            "244:\tlearn: 0.1820454\ttest: 0.2853290\tbest: 0.2842304 (170)\ttotal: 4.8s\tremaining: 14.8s\n",
            "245:\tlearn: 0.1819520\ttest: 0.2853919\tbest: 0.2842304 (170)\ttotal: 4.83s\tremaining: 14.8s\n",
            "246:\tlearn: 0.1817659\ttest: 0.2854997\tbest: 0.2842304 (170)\ttotal: 4.84s\tremaining: 14.8s\n",
            "247:\tlearn: 0.1816923\ttest: 0.2854979\tbest: 0.2842304 (170)\ttotal: 4.85s\tremaining: 14.7s\n",
            "248:\tlearn: 0.1815591\ttest: 0.2855203\tbest: 0.2842304 (170)\ttotal: 4.86s\tremaining: 14.7s\n",
            "249:\tlearn: 0.1814283\ttest: 0.2855454\tbest: 0.2842304 (170)\ttotal: 4.88s\tremaining: 14.6s\n",
            "250:\tlearn: 0.1813320\ttest: 0.2855991\tbest: 0.2842304 (170)\ttotal: 4.89s\tremaining: 14.6s\n",
            "251:\tlearn: 0.1811889\ttest: 0.2857030\tbest: 0.2842304 (170)\ttotal: 4.92s\tremaining: 14.6s\n",
            "252:\tlearn: 0.1811372\ttest: 0.2857520\tbest: 0.2842304 (170)\ttotal: 4.93s\tremaining: 14.6s\n",
            "253:\tlearn: 0.1810046\ttest: 0.2859553\tbest: 0.2842304 (170)\ttotal: 4.95s\tremaining: 14.5s\n",
            "254:\tlearn: 0.1809571\ttest: 0.2859841\tbest: 0.2842304 (170)\ttotal: 4.97s\tremaining: 14.5s\n",
            "255:\tlearn: 0.1807790\ttest: 0.2860218\tbest: 0.2842304 (170)\ttotal: 5.02s\tremaining: 14.6s\n",
            "256:\tlearn: 0.1806946\ttest: 0.2860745\tbest: 0.2842304 (170)\ttotal: 5.03s\tremaining: 14.6s\n",
            "257:\tlearn: 0.1805741\ttest: 0.2861031\tbest: 0.2842304 (170)\ttotal: 5.07s\tremaining: 14.6s\n",
            "258:\tlearn: 0.1804469\ttest: 0.2860368\tbest: 0.2842304 (170)\ttotal: 5.12s\tremaining: 14.7s\n",
            "259:\tlearn: 0.1803756\ttest: 0.2860077\tbest: 0.2842304 (170)\ttotal: 5.16s\tremaining: 14.7s\n",
            "260:\tlearn: 0.1802828\ttest: 0.2860402\tbest: 0.2842304 (170)\ttotal: 5.19s\tremaining: 14.7s\n",
            "261:\tlearn: 0.1801978\ttest: 0.2860631\tbest: 0.2842304 (170)\ttotal: 5.22s\tremaining: 14.7s\n",
            "262:\tlearn: 0.1800943\ttest: 0.2860603\tbest: 0.2842304 (170)\ttotal: 5.24s\tremaining: 14.7s\n",
            "263:\tlearn: 0.1799356\ttest: 0.2860292\tbest: 0.2842304 (170)\ttotal: 5.27s\tremaining: 14.7s\n",
            "264:\tlearn: 0.1799313\ttest: 0.2860300\tbest: 0.2842304 (170)\ttotal: 5.29s\tremaining: 14.7s\n",
            "265:\tlearn: 0.1796959\ttest: 0.2860643\tbest: 0.2842304 (170)\ttotal: 5.32s\tremaining: 14.7s\n",
            "266:\tlearn: 0.1795374\ttest: 0.2860059\tbest: 0.2842304 (170)\ttotal: 5.36s\tremaining: 14.7s\n",
            "267:\tlearn: 0.1794133\ttest: 0.2860729\tbest: 0.2842304 (170)\ttotal: 5.4s\tremaining: 14.8s\n",
            "268:\tlearn: 0.1792973\ttest: 0.2861322\tbest: 0.2842304 (170)\ttotal: 5.42s\tremaining: 14.7s\n",
            "269:\tlearn: 0.1792311\ttest: 0.2861278\tbest: 0.2842304 (170)\ttotal: 5.45s\tremaining: 14.7s\n",
            "270:\tlearn: 0.1791385\ttest: 0.2861259\tbest: 0.2842304 (170)\ttotal: 5.47s\tremaining: 14.7s\n",
            "271:\tlearn: 0.1790810\ttest: 0.2861105\tbest: 0.2842304 (170)\ttotal: 5.51s\tremaining: 14.7s\n",
            "272:\tlearn: 0.1789957\ttest: 0.2860744\tbest: 0.2842304 (170)\ttotal: 5.53s\tremaining: 14.7s\n",
            "273:\tlearn: 0.1789286\ttest: 0.2860604\tbest: 0.2842304 (170)\ttotal: 5.57s\tremaining: 14.8s\n",
            "274:\tlearn: 0.1788296\ttest: 0.2862553\tbest: 0.2842304 (170)\ttotal: 5.6s\tremaining: 14.8s\n",
            "275:\tlearn: 0.1787294\ttest: 0.2862335\tbest: 0.2842304 (170)\ttotal: 5.61s\tremaining: 14.7s\n",
            "276:\tlearn: 0.1786362\ttest: 0.2862358\tbest: 0.2842304 (170)\ttotal: 5.63s\tremaining: 14.7s\n",
            "277:\tlearn: 0.1785018\ttest: 0.2862117\tbest: 0.2842304 (170)\ttotal: 5.65s\tremaining: 14.7s\n",
            "278:\tlearn: 0.1783917\ttest: 0.2862562\tbest: 0.2842304 (170)\ttotal: 5.69s\tremaining: 14.7s\n",
            "279:\tlearn: 0.1782695\ttest: 0.2862588\tbest: 0.2842304 (170)\ttotal: 5.74s\tremaining: 14.8s\n",
            "280:\tlearn: 0.1781483\ttest: 0.2863091\tbest: 0.2842304 (170)\ttotal: 5.76s\tremaining: 14.7s\n",
            "281:\tlearn: 0.1779376\ttest: 0.2862310\tbest: 0.2842304 (170)\ttotal: 5.78s\tremaining: 14.7s\n",
            "282:\tlearn: 0.1778220\ttest: 0.2862092\tbest: 0.2842304 (170)\ttotal: 5.79s\tremaining: 14.7s\n",
            "283:\tlearn: 0.1777398\ttest: 0.2861642\tbest: 0.2842304 (170)\ttotal: 5.8s\tremaining: 14.6s\n",
            "284:\tlearn: 0.1776508\ttest: 0.2861657\tbest: 0.2842304 (170)\ttotal: 5.81s\tremaining: 14.6s\n",
            "285:\tlearn: 0.1775189\ttest: 0.2861985\tbest: 0.2842304 (170)\ttotal: 5.82s\tremaining: 14.5s\n",
            "286:\tlearn: 0.1773859\ttest: 0.2862425\tbest: 0.2842304 (170)\ttotal: 5.82s\tremaining: 14.5s\n",
            "287:\tlearn: 0.1772826\ttest: 0.2862633\tbest: 0.2842304 (170)\ttotal: 5.83s\tremaining: 14.4s\n",
            "288:\tlearn: 0.1772058\ttest: 0.2863317\tbest: 0.2842304 (170)\ttotal: 5.85s\tremaining: 14.4s\n",
            "289:\tlearn: 0.1770240\ttest: 0.2863745\tbest: 0.2842304 (170)\ttotal: 5.87s\tremaining: 14.4s\n",
            "290:\tlearn: 0.1769398\ttest: 0.2864096\tbest: 0.2842304 (170)\ttotal: 5.88s\tremaining: 14.3s\n",
            "291:\tlearn: 0.1768739\ttest: 0.2864780\tbest: 0.2842304 (170)\ttotal: 5.9s\tremaining: 14.3s\n",
            "292:\tlearn: 0.1767787\ttest: 0.2864742\tbest: 0.2842304 (170)\ttotal: 5.91s\tremaining: 14.3s\n",
            "293:\tlearn: 0.1767224\ttest: 0.2864671\tbest: 0.2842304 (170)\ttotal: 5.92s\tremaining: 14.2s\n",
            "294:\tlearn: 0.1766722\ttest: 0.2865256\tbest: 0.2842304 (170)\ttotal: 5.94s\tremaining: 14.2s\n",
            "295:\tlearn: 0.1765264\ttest: 0.2865546\tbest: 0.2842304 (170)\ttotal: 5.95s\tremaining: 14.2s\n",
            "296:\tlearn: 0.1764191\ttest: 0.2866039\tbest: 0.2842304 (170)\ttotal: 5.97s\tremaining: 14.1s\n",
            "297:\tlearn: 0.1763054\ttest: 0.2865440\tbest: 0.2842304 (170)\ttotal: 5.98s\tremaining: 14.1s\n",
            "298:\tlearn: 0.1762614\ttest: 0.2865494\tbest: 0.2842304 (170)\ttotal: 6s\tremaining: 14.1s\n",
            "299:\tlearn: 0.1761778\ttest: 0.2865228\tbest: 0.2842304 (170)\ttotal: 6.01s\tremaining: 14s\n",
            "300:\tlearn: 0.1761045\ttest: 0.2865517\tbest: 0.2842304 (170)\ttotal: 6.03s\tremaining: 14s\n",
            "301:\tlearn: 0.1760404\ttest: 0.2866225\tbest: 0.2842304 (170)\ttotal: 6.05s\tremaining: 14s\n",
            "302:\tlearn: 0.1759250\ttest: 0.2867354\tbest: 0.2842304 (170)\ttotal: 6.06s\tremaining: 13.9s\n",
            "303:\tlearn: 0.1758225\ttest: 0.2866759\tbest: 0.2842304 (170)\ttotal: 6.11s\tremaining: 14s\n",
            "304:\tlearn: 0.1756722\ttest: 0.2867188\tbest: 0.2842304 (170)\ttotal: 6.16s\tremaining: 14s\n",
            "305:\tlearn: 0.1755945\ttest: 0.2866877\tbest: 0.2842304 (170)\ttotal: 6.19s\tremaining: 14s\n",
            "306:\tlearn: 0.1754920\ttest: 0.2867797\tbest: 0.2842304 (170)\ttotal: 6.21s\tremaining: 14s\n",
            "307:\tlearn: 0.1753825\ttest: 0.2867947\tbest: 0.2842304 (170)\ttotal: 6.24s\tremaining: 14s\n",
            "308:\tlearn: 0.1752571\ttest: 0.2867707\tbest: 0.2842304 (170)\ttotal: 6.26s\tremaining: 14s\n",
            "309:\tlearn: 0.1751824\ttest: 0.2868310\tbest: 0.2842304 (170)\ttotal: 6.27s\tremaining: 14s\n",
            "310:\tlearn: 0.1750485\ttest: 0.2868486\tbest: 0.2842304 (170)\ttotal: 6.28s\tremaining: 13.9s\n",
            "311:\tlearn: 0.1749743\ttest: 0.2868012\tbest: 0.2842304 (170)\ttotal: 6.29s\tremaining: 13.9s\n",
            "312:\tlearn: 0.1748546\ttest: 0.2867492\tbest: 0.2842304 (170)\ttotal: 6.3s\tremaining: 13.8s\n",
            "313:\tlearn: 0.1747717\ttest: 0.2867543\tbest: 0.2842304 (170)\ttotal: 6.3s\tremaining: 13.8s\n",
            "314:\tlearn: 0.1746667\ttest: 0.2867481\tbest: 0.2842304 (170)\ttotal: 6.31s\tremaining: 13.7s\n",
            "315:\tlearn: 0.1744999\ttest: 0.2866849\tbest: 0.2842304 (170)\ttotal: 6.32s\tremaining: 13.7s\n",
            "316:\tlearn: 0.1743722\ttest: 0.2867463\tbest: 0.2842304 (170)\ttotal: 6.33s\tremaining: 13.6s\n",
            "317:\tlearn: 0.1743026\ttest: 0.2868004\tbest: 0.2842304 (170)\ttotal: 6.34s\tremaining: 13.6s\n",
            "318:\tlearn: 0.1742196\ttest: 0.2868522\tbest: 0.2842304 (170)\ttotal: 6.35s\tremaining: 13.6s\n",
            "319:\tlearn: 0.1741469\ttest: 0.2869570\tbest: 0.2842304 (170)\ttotal: 6.36s\tremaining: 13.5s\n",
            "320:\tlearn: 0.1740602\ttest: 0.2870016\tbest: 0.2842304 (170)\ttotal: 6.37s\tremaining: 13.5s\n",
            "321:\tlearn: 0.1739696\ttest: 0.2869935\tbest: 0.2842304 (170)\ttotal: 6.38s\tremaining: 13.4s\n",
            "322:\tlearn: 0.1739132\ttest: 0.2870113\tbest: 0.2842304 (170)\ttotal: 6.39s\tremaining: 13.4s\n",
            "323:\tlearn: 0.1738234\ttest: 0.2869793\tbest: 0.2842304 (170)\ttotal: 6.41s\tremaining: 13.4s\n",
            "324:\tlearn: 0.1737680\ttest: 0.2870598\tbest: 0.2842304 (170)\ttotal: 6.44s\tremaining: 13.4s\n",
            "325:\tlearn: 0.1737046\ttest: 0.2870396\tbest: 0.2842304 (170)\ttotal: 6.45s\tremaining: 13.3s\n",
            "326:\tlearn: 0.1736497\ttest: 0.2870822\tbest: 0.2842304 (170)\ttotal: 6.48s\tremaining: 13.3s\n",
            "327:\tlearn: 0.1735463\ttest: 0.2871456\tbest: 0.2842304 (170)\ttotal: 6.5s\tremaining: 13.3s\n",
            "328:\tlearn: 0.1733991\ttest: 0.2871839\tbest: 0.2842304 (170)\ttotal: 6.51s\tremaining: 13.3s\n",
            "329:\tlearn: 0.1733468\ttest: 0.2871142\tbest: 0.2842304 (170)\ttotal: 6.52s\tremaining: 13.2s\n",
            "330:\tlearn: 0.1732450\ttest: 0.2872412\tbest: 0.2842304 (170)\ttotal: 6.53s\tremaining: 13.2s\n",
            "331:\tlearn: 0.1732000\ttest: 0.2872318\tbest: 0.2842304 (170)\ttotal: 6.54s\tremaining: 13.1s\n",
            "332:\tlearn: 0.1731407\ttest: 0.2872754\tbest: 0.2842304 (170)\ttotal: 6.54s\tremaining: 13.1s\n",
            "333:\tlearn: 0.1729582\ttest: 0.2873539\tbest: 0.2842304 (170)\ttotal: 6.55s\tremaining: 13.1s\n",
            "334:\tlearn: 0.1729199\ttest: 0.2873742\tbest: 0.2842304 (170)\ttotal: 6.56s\tremaining: 13s\n",
            "335:\tlearn: 0.1728284\ttest: 0.2873314\tbest: 0.2842304 (170)\ttotal: 6.57s\tremaining: 13s\n",
            "336:\tlearn: 0.1727101\ttest: 0.2875137\tbest: 0.2842304 (170)\ttotal: 6.57s\tremaining: 12.9s\n",
            "337:\tlearn: 0.1726438\ttest: 0.2874650\tbest: 0.2842304 (170)\ttotal: 6.6s\tremaining: 12.9s\n",
            "338:\tlearn: 0.1725485\ttest: 0.2875444\tbest: 0.2842304 (170)\ttotal: 6.61s\tremaining: 12.9s\n",
            "339:\tlearn: 0.1723502\ttest: 0.2875821\tbest: 0.2842304 (170)\ttotal: 6.63s\tremaining: 12.9s\n",
            "340:\tlearn: 0.1722843\ttest: 0.2876017\tbest: 0.2842304 (170)\ttotal: 6.66s\tremaining: 12.9s\n",
            "341:\tlearn: 0.1722230\ttest: 0.2876800\tbest: 0.2842304 (170)\ttotal: 6.68s\tremaining: 12.9s\n",
            "342:\tlearn: 0.1721784\ttest: 0.2875995\tbest: 0.2842304 (170)\ttotal: 6.7s\tremaining: 12.8s\n",
            "343:\tlearn: 0.1720661\ttest: 0.2876496\tbest: 0.2842304 (170)\ttotal: 6.75s\tremaining: 12.9s\n",
            "344:\tlearn: 0.1719371\ttest: 0.2877322\tbest: 0.2842304 (170)\ttotal: 6.78s\tremaining: 12.9s\n",
            "345:\tlearn: 0.1718097\ttest: 0.2877139\tbest: 0.2842304 (170)\ttotal: 6.81s\tremaining: 12.9s\n",
            "346:\tlearn: 0.1717463\ttest: 0.2877682\tbest: 0.2842304 (170)\ttotal: 6.84s\tremaining: 12.9s\n",
            "347:\tlearn: 0.1717294\ttest: 0.2877751\tbest: 0.2842304 (170)\ttotal: 6.85s\tremaining: 12.8s\n",
            "348:\tlearn: 0.1716398\ttest: 0.2877749\tbest: 0.2842304 (170)\ttotal: 6.87s\tremaining: 12.8s\n",
            "349:\tlearn: 0.1714522\ttest: 0.2878545\tbest: 0.2842304 (170)\ttotal: 6.92s\tremaining: 12.9s\n",
            "350:\tlearn: 0.1714150\ttest: 0.2879064\tbest: 0.2842304 (170)\ttotal: 6.96s\tremaining: 12.9s\n",
            "351:\tlearn: 0.1713516\ttest: 0.2879499\tbest: 0.2842304 (170)\ttotal: 6.98s\tremaining: 12.8s\n",
            "352:\tlearn: 0.1712427\ttest: 0.2880022\tbest: 0.2842304 (170)\ttotal: 6.99s\tremaining: 12.8s\n",
            "353:\tlearn: 0.1711970\ttest: 0.2880326\tbest: 0.2842304 (170)\ttotal: 6.99s\tremaining: 12.8s\n",
            "354:\tlearn: 0.1711333\ttest: 0.2880151\tbest: 0.2842304 (170)\ttotal: 7s\tremaining: 12.7s\n",
            "355:\tlearn: 0.1710780\ttest: 0.2880431\tbest: 0.2842304 (170)\ttotal: 7.01s\tremaining: 12.7s\n",
            "356:\tlearn: 0.1709692\ttest: 0.2881922\tbest: 0.2842304 (170)\ttotal: 7.02s\tremaining: 12.6s\n",
            "357:\tlearn: 0.1708643\ttest: 0.2881763\tbest: 0.2842304 (170)\ttotal: 7.02s\tremaining: 12.6s\n",
            "358:\tlearn: 0.1708059\ttest: 0.2882043\tbest: 0.2842304 (170)\ttotal: 7.03s\tremaining: 12.6s\n",
            "359:\tlearn: 0.1707130\ttest: 0.2882611\tbest: 0.2842304 (170)\ttotal: 7.04s\tremaining: 12.5s\n",
            "360:\tlearn: 0.1706244\ttest: 0.2882908\tbest: 0.2842304 (170)\ttotal: 7.05s\tremaining: 12.5s\n",
            "361:\tlearn: 0.1705349\ttest: 0.2882396\tbest: 0.2842304 (170)\ttotal: 7.05s\tremaining: 12.4s\n",
            "362:\tlearn: 0.1704080\ttest: 0.2883229\tbest: 0.2842304 (170)\ttotal: 7.06s\tremaining: 12.4s\n",
            "363:\tlearn: 0.1703519\ttest: 0.2883268\tbest: 0.2842304 (170)\ttotal: 7.07s\tremaining: 12.3s\n",
            "364:\tlearn: 0.1702393\ttest: 0.2884508\tbest: 0.2842304 (170)\ttotal: 7.07s\tremaining: 12.3s\n",
            "365:\tlearn: 0.1702107\ttest: 0.2885303\tbest: 0.2842304 (170)\ttotal: 7.08s\tremaining: 12.3s\n",
            "366:\tlearn: 0.1701505\ttest: 0.2885820\tbest: 0.2842304 (170)\ttotal: 7.09s\tremaining: 12.2s\n",
            "367:\tlearn: 0.1700607\ttest: 0.2886051\tbest: 0.2842304 (170)\ttotal: 7.09s\tremaining: 12.2s\n",
            "368:\tlearn: 0.1699789\ttest: 0.2886780\tbest: 0.2842304 (170)\ttotal: 7.1s\tremaining: 12.1s\n",
            "369:\tlearn: 0.1699475\ttest: 0.2886904\tbest: 0.2842304 (170)\ttotal: 7.11s\tremaining: 12.1s\n",
            "370:\tlearn: 0.1698761\ttest: 0.2886957\tbest: 0.2842304 (170)\ttotal: 7.11s\tremaining: 12.1s\n",
            "371:\tlearn: 0.1697232\ttest: 0.2886930\tbest: 0.2842304 (170)\ttotal: 7.12s\tremaining: 12s\n",
            "372:\tlearn: 0.1696761\ttest: 0.2887712\tbest: 0.2842304 (170)\ttotal: 7.13s\tremaining: 12s\n",
            "373:\tlearn: 0.1695779\ttest: 0.2887973\tbest: 0.2842304 (170)\ttotal: 7.13s\tremaining: 11.9s\n",
            "374:\tlearn: 0.1694692\ttest: 0.2889051\tbest: 0.2842304 (170)\ttotal: 7.14s\tremaining: 11.9s\n",
            "375:\tlearn: 0.1693955\ttest: 0.2889773\tbest: 0.2842304 (170)\ttotal: 7.14s\tremaining: 11.9s\n",
            "376:\tlearn: 0.1693135\ttest: 0.2889616\tbest: 0.2842304 (170)\ttotal: 7.16s\tremaining: 11.8s\n",
            "377:\tlearn: 0.1691961\ttest: 0.2889947\tbest: 0.2842304 (170)\ttotal: 7.16s\tremaining: 11.8s\n",
            "378:\tlearn: 0.1691827\ttest: 0.2889872\tbest: 0.2842304 (170)\ttotal: 7.17s\tremaining: 11.8s\n",
            "379:\tlearn: 0.1690801\ttest: 0.2890197\tbest: 0.2842304 (170)\ttotal: 7.18s\tremaining: 11.7s\n",
            "380:\tlearn: 0.1690648\ttest: 0.2890185\tbest: 0.2842304 (170)\ttotal: 7.19s\tremaining: 11.7s\n",
            "381:\tlearn: 0.1689810\ttest: 0.2891272\tbest: 0.2842304 (170)\ttotal: 7.2s\tremaining: 11.7s\n",
            "382:\tlearn: 0.1688748\ttest: 0.2892734\tbest: 0.2842304 (170)\ttotal: 7.23s\tremaining: 11.6s\n",
            "383:\tlearn: 0.1687451\ttest: 0.2893445\tbest: 0.2842304 (170)\ttotal: 7.24s\tremaining: 11.6s\n",
            "384:\tlearn: 0.1686487\ttest: 0.2893274\tbest: 0.2842304 (170)\ttotal: 7.25s\tremaining: 11.6s\n",
            "385:\tlearn: 0.1685779\ttest: 0.2893309\tbest: 0.2842304 (170)\ttotal: 7.25s\tremaining: 11.5s\n",
            "386:\tlearn: 0.1683562\ttest: 0.2894496\tbest: 0.2842304 (170)\ttotal: 7.26s\tremaining: 11.5s\n",
            "387:\tlearn: 0.1682822\ttest: 0.2895294\tbest: 0.2842304 (170)\ttotal: 7.28s\tremaining: 11.5s\n",
            "388:\tlearn: 0.1682106\ttest: 0.2895857\tbest: 0.2842304 (170)\ttotal: 7.3s\tremaining: 11.5s\n",
            "389:\tlearn: 0.1681629\ttest: 0.2895635\tbest: 0.2842304 (170)\ttotal: 7.31s\tremaining: 11.4s\n",
            "390:\tlearn: 0.1680960\ttest: 0.2896474\tbest: 0.2842304 (170)\ttotal: 7.32s\tremaining: 11.4s\n",
            "391:\tlearn: 0.1680267\ttest: 0.2896463\tbest: 0.2842304 (170)\ttotal: 7.33s\tremaining: 11.4s\n",
            "392:\tlearn: 0.1679407\ttest: 0.2897247\tbest: 0.2842304 (170)\ttotal: 7.34s\tremaining: 11.3s\n",
            "393:\tlearn: 0.1678190\ttest: 0.2898258\tbest: 0.2842304 (170)\ttotal: 7.36s\tremaining: 11.3s\n",
            "394:\tlearn: 0.1677721\ttest: 0.2898602\tbest: 0.2842304 (170)\ttotal: 7.37s\tremaining: 11.3s\n",
            "395:\tlearn: 0.1676953\ttest: 0.2898512\tbest: 0.2842304 (170)\ttotal: 7.38s\tremaining: 11.3s\n",
            "396:\tlearn: 0.1676017\ttest: 0.2899832\tbest: 0.2842304 (170)\ttotal: 7.4s\tremaining: 11.2s\n",
            "397:\tlearn: 0.1675296\ttest: 0.2900231\tbest: 0.2842304 (170)\ttotal: 7.4s\tremaining: 11.2s\n",
            "398:\tlearn: 0.1674676\ttest: 0.2900506\tbest: 0.2842304 (170)\ttotal: 7.41s\tremaining: 11.2s\n",
            "399:\tlearn: 0.1673916\ttest: 0.2900930\tbest: 0.2842304 (170)\ttotal: 7.42s\tremaining: 11.1s\n",
            "400:\tlearn: 0.1672750\ttest: 0.2901822\tbest: 0.2842304 (170)\ttotal: 7.43s\tremaining: 11.1s\n",
            "401:\tlearn: 0.1672169\ttest: 0.2902196\tbest: 0.2842304 (170)\ttotal: 7.43s\tremaining: 11.1s\n",
            "402:\tlearn: 0.1671556\ttest: 0.2902525\tbest: 0.2842304 (170)\ttotal: 7.44s\tremaining: 11s\n",
            "403:\tlearn: 0.1670057\ttest: 0.2903379\tbest: 0.2842304 (170)\ttotal: 7.45s\tremaining: 11s\n",
            "404:\tlearn: 0.1669395\ttest: 0.2904205\tbest: 0.2842304 (170)\ttotal: 7.46s\tremaining: 11s\n",
            "405:\tlearn: 0.1668634\ttest: 0.2904298\tbest: 0.2842304 (170)\ttotal: 7.47s\tremaining: 10.9s\n",
            "406:\tlearn: 0.1667893\ttest: 0.2905047\tbest: 0.2842304 (170)\ttotal: 7.48s\tremaining: 10.9s\n",
            "407:\tlearn: 0.1667140\ttest: 0.2904948\tbest: 0.2842304 (170)\ttotal: 7.5s\tremaining: 10.9s\n",
            "408:\tlearn: 0.1665793\ttest: 0.2904514\tbest: 0.2842304 (170)\ttotal: 7.52s\tremaining: 10.9s\n",
            "409:\tlearn: 0.1665067\ttest: 0.2904300\tbest: 0.2842304 (170)\ttotal: 7.56s\tremaining: 10.9s\n",
            "410:\tlearn: 0.1663968\ttest: 0.2905073\tbest: 0.2842304 (170)\ttotal: 7.59s\tremaining: 10.9s\n",
            "411:\tlearn: 0.1662828\ttest: 0.2904957\tbest: 0.2842304 (170)\ttotal: 7.62s\tremaining: 10.9s\n",
            "412:\tlearn: 0.1661873\ttest: 0.2905484\tbest: 0.2842304 (170)\ttotal: 7.64s\tremaining: 10.9s\n",
            "413:\tlearn: 0.1661237\ttest: 0.2905455\tbest: 0.2842304 (170)\ttotal: 7.65s\tremaining: 10.8s\n",
            "414:\tlearn: 0.1661036\ttest: 0.2905973\tbest: 0.2842304 (170)\ttotal: 7.66s\tremaining: 10.8s\n",
            "415:\tlearn: 0.1660145\ttest: 0.2906709\tbest: 0.2842304 (170)\ttotal: 7.66s\tremaining: 10.8s\n",
            "416:\tlearn: 0.1659671\ttest: 0.2907262\tbest: 0.2842304 (170)\ttotal: 7.67s\tremaining: 10.7s\n",
            "417:\tlearn: 0.1659215\ttest: 0.2906933\tbest: 0.2842304 (170)\ttotal: 7.68s\tremaining: 10.7s\n",
            "418:\tlearn: 0.1658284\ttest: 0.2906930\tbest: 0.2842304 (170)\ttotal: 7.69s\tremaining: 10.7s\n",
            "419:\tlearn: 0.1657545\ttest: 0.2907510\tbest: 0.2842304 (170)\ttotal: 7.7s\tremaining: 10.6s\n",
            "420:\tlearn: 0.1656856\ttest: 0.2907252\tbest: 0.2842304 (170)\ttotal: 7.71s\tremaining: 10.6s\n",
            "421:\tlearn: 0.1656034\ttest: 0.2907492\tbest: 0.2842304 (170)\ttotal: 7.71s\tremaining: 10.6s\n",
            "422:\tlearn: 0.1655334\ttest: 0.2907164\tbest: 0.2842304 (170)\ttotal: 7.72s\tremaining: 10.5s\n",
            "423:\tlearn: 0.1654397\ttest: 0.2908244\tbest: 0.2842304 (170)\ttotal: 7.73s\tremaining: 10.5s\n",
            "424:\tlearn: 0.1653065\ttest: 0.2908508\tbest: 0.2842304 (170)\ttotal: 7.75s\tremaining: 10.5s\n",
            "425:\tlearn: 0.1652044\ttest: 0.2909325\tbest: 0.2842304 (170)\ttotal: 7.77s\tremaining: 10.5s\n",
            "426:\tlearn: 0.1651447\ttest: 0.2909557\tbest: 0.2842304 (170)\ttotal: 7.79s\tremaining: 10.5s\n",
            "427:\tlearn: 0.1650744\ttest: 0.2909832\tbest: 0.2842304 (170)\ttotal: 7.81s\tremaining: 10.4s\n",
            "428:\tlearn: 0.1650444\ttest: 0.2909785\tbest: 0.2842304 (170)\ttotal: 7.82s\tremaining: 10.4s\n",
            "429:\tlearn: 0.1649905\ttest: 0.2910970\tbest: 0.2842304 (170)\ttotal: 7.84s\tremaining: 10.4s\n",
            "430:\tlearn: 0.1649413\ttest: 0.2911226\tbest: 0.2842304 (170)\ttotal: 7.86s\tremaining: 10.4s\n",
            "431:\tlearn: 0.1648371\ttest: 0.2911739\tbest: 0.2842304 (170)\ttotal: 7.88s\tremaining: 10.4s\n",
            "432:\tlearn: 0.1647681\ttest: 0.2912482\tbest: 0.2842304 (170)\ttotal: 7.89s\tremaining: 10.3s\n",
            "433:\tlearn: 0.1646778\ttest: 0.2912698\tbest: 0.2842304 (170)\ttotal: 7.91s\tremaining: 10.3s\n",
            "434:\tlearn: 0.1645935\ttest: 0.2913839\tbest: 0.2842304 (170)\ttotal: 7.93s\tremaining: 10.3s\n",
            "435:\tlearn: 0.1644993\ttest: 0.2914718\tbest: 0.2842304 (170)\ttotal: 7.95s\tremaining: 10.3s\n",
            "436:\tlearn: 0.1643791\ttest: 0.2915105\tbest: 0.2842304 (170)\ttotal: 7.96s\tremaining: 10.3s\n",
            "437:\tlearn: 0.1643639\ttest: 0.2915488\tbest: 0.2842304 (170)\ttotal: 7.98s\tremaining: 10.2s\n",
            "438:\tlearn: 0.1642970\ttest: 0.2915462\tbest: 0.2842304 (170)\ttotal: 8s\tremaining: 10.2s\n",
            "439:\tlearn: 0.1642015\ttest: 0.2915195\tbest: 0.2842304 (170)\ttotal: 8.02s\tremaining: 10.2s\n",
            "440:\tlearn: 0.1641570\ttest: 0.2916097\tbest: 0.2842304 (170)\ttotal: 8.06s\tremaining: 10.2s\n",
            "441:\tlearn: 0.1640940\ttest: 0.2916725\tbest: 0.2842304 (170)\ttotal: 8.1s\tremaining: 10.2s\n",
            "442:\tlearn: 0.1640280\ttest: 0.2917449\tbest: 0.2842304 (170)\ttotal: 8.12s\tremaining: 10.2s\n",
            "443:\tlearn: 0.1639650\ttest: 0.2918980\tbest: 0.2842304 (170)\ttotal: 8.13s\tremaining: 10.2s\n",
            "444:\tlearn: 0.1639206\ttest: 0.2919084\tbest: 0.2842304 (170)\ttotal: 8.13s\tremaining: 10.1s\n",
            "445:\tlearn: 0.1638406\ttest: 0.2918876\tbest: 0.2842304 (170)\ttotal: 8.14s\tremaining: 10.1s\n",
            "446:\tlearn: 0.1638000\ttest: 0.2919146\tbest: 0.2842304 (170)\ttotal: 8.15s\tremaining: 10.1s\n",
            "447:\tlearn: 0.1637635\ttest: 0.2919531\tbest: 0.2842304 (170)\ttotal: 8.18s\tremaining: 10.1s\n",
            "448:\tlearn: 0.1635967\ttest: 0.2918301\tbest: 0.2842304 (170)\ttotal: 8.19s\tremaining: 10.1s\n",
            "449:\tlearn: 0.1635299\ttest: 0.2918684\tbest: 0.2842304 (170)\ttotal: 8.23s\tremaining: 10.1s\n",
            "450:\tlearn: 0.1634392\ttest: 0.2919043\tbest: 0.2842304 (170)\ttotal: 8.25s\tremaining: 10s\n",
            "451:\tlearn: 0.1633511\ttest: 0.2919336\tbest: 0.2842304 (170)\ttotal: 8.27s\tremaining: 10s\n",
            "452:\tlearn: 0.1633350\ttest: 0.2919892\tbest: 0.2842304 (170)\ttotal: 8.28s\tremaining: 10s\n",
            "453:\tlearn: 0.1632521\ttest: 0.2920390\tbest: 0.2842304 (170)\ttotal: 8.29s\tremaining: 9.98s\n",
            "454:\tlearn: 0.1631806\ttest: 0.2920394\tbest: 0.2842304 (170)\ttotal: 8.31s\tremaining: 9.96s\n",
            "455:\tlearn: 0.1630886\ttest: 0.2920226\tbest: 0.2842304 (170)\ttotal: 8.33s\tremaining: 9.94s\n",
            "456:\tlearn: 0.1630185\ttest: 0.2920917\tbest: 0.2842304 (170)\ttotal: 8.35s\tremaining: 9.92s\n",
            "457:\tlearn: 0.1629175\ttest: 0.2921310\tbest: 0.2842304 (170)\ttotal: 8.36s\tremaining: 9.9s\n",
            "458:\tlearn: 0.1628443\ttest: 0.2922704\tbest: 0.2842304 (170)\ttotal: 8.38s\tremaining: 9.87s\n",
            "459:\tlearn: 0.1628294\ttest: 0.2923182\tbest: 0.2842304 (170)\ttotal: 8.38s\tremaining: 9.84s\n",
            "460:\tlearn: 0.1626998\ttest: 0.2925085\tbest: 0.2842304 (170)\ttotal: 8.4s\tremaining: 9.82s\n",
            "461:\tlearn: 0.1626519\ttest: 0.2925611\tbest: 0.2842304 (170)\ttotal: 8.41s\tremaining: 9.8s\n",
            "462:\tlearn: 0.1625466\ttest: 0.2924923\tbest: 0.2842304 (170)\ttotal: 8.43s\tremaining: 9.78s\n",
            "463:\tlearn: 0.1624879\ttest: 0.2925651\tbest: 0.2842304 (170)\ttotal: 8.44s\tremaining: 9.75s\n",
            "464:\tlearn: 0.1623712\ttest: 0.2926094\tbest: 0.2842304 (170)\ttotal: 8.46s\tremaining: 9.73s\n",
            "465:\tlearn: 0.1623191\ttest: 0.2926255\tbest: 0.2842304 (170)\ttotal: 8.47s\tremaining: 9.71s\n",
            "466:\tlearn: 0.1622588\ttest: 0.2926258\tbest: 0.2842304 (170)\ttotal: 8.48s\tremaining: 9.68s\n",
            "467:\tlearn: 0.1621791\ttest: 0.2927202\tbest: 0.2842304 (170)\ttotal: 8.49s\tremaining: 9.66s\n",
            "468:\tlearn: 0.1621108\ttest: 0.2927380\tbest: 0.2842304 (170)\ttotal: 8.51s\tremaining: 9.63s\n",
            "469:\tlearn: 0.1620972\ttest: 0.2927853\tbest: 0.2842304 (170)\ttotal: 8.52s\tremaining: 9.61s\n",
            "470:\tlearn: 0.1620112\ttest: 0.2928638\tbest: 0.2842304 (170)\ttotal: 8.54s\tremaining: 9.59s\n",
            "471:\tlearn: 0.1619162\ttest: 0.2929258\tbest: 0.2842304 (170)\ttotal: 8.56s\tremaining: 9.57s\n",
            "472:\tlearn: 0.1618658\ttest: 0.2929416\tbest: 0.2842304 (170)\ttotal: 8.57s\tremaining: 9.54s\n",
            "473:\tlearn: 0.1618209\ttest: 0.2929822\tbest: 0.2842304 (170)\ttotal: 8.57s\tremaining: 9.52s\n",
            "474:\tlearn: 0.1617739\ttest: 0.2929635\tbest: 0.2842304 (170)\ttotal: 8.58s\tremaining: 9.48s\n",
            "475:\tlearn: 0.1616868\ttest: 0.2928853\tbest: 0.2842304 (170)\ttotal: 8.59s\tremaining: 9.45s\n",
            "476:\tlearn: 0.1616064\ttest: 0.2928811\tbest: 0.2842304 (170)\ttotal: 8.6s\tremaining: 9.42s\n",
            "477:\tlearn: 0.1614941\ttest: 0.2930545\tbest: 0.2842304 (170)\ttotal: 8.6s\tremaining: 9.39s\n",
            "478:\tlearn: 0.1614290\ttest: 0.2930573\tbest: 0.2842304 (170)\ttotal: 8.61s\tremaining: 9.37s\n",
            "479:\tlearn: 0.1613752\ttest: 0.2930838\tbest: 0.2842304 (170)\ttotal: 8.62s\tremaining: 9.34s\n",
            "480:\tlearn: 0.1613190\ttest: 0.2931640\tbest: 0.2842304 (170)\ttotal: 8.63s\tremaining: 9.31s\n",
            "481:\tlearn: 0.1612410\ttest: 0.2932119\tbest: 0.2842304 (170)\ttotal: 8.63s\tremaining: 9.28s\n",
            "482:\tlearn: 0.1611863\ttest: 0.2932695\tbest: 0.2842304 (170)\ttotal: 8.64s\tremaining: 9.25s\n",
            "483:\tlearn: 0.1610784\ttest: 0.2933493\tbest: 0.2842304 (170)\ttotal: 8.65s\tremaining: 9.22s\n",
            "484:\tlearn: 0.1610296\ttest: 0.2933702\tbest: 0.2842304 (170)\ttotal: 8.66s\tremaining: 9.2s\n",
            "485:\tlearn: 0.1609381\ttest: 0.2933514\tbest: 0.2842304 (170)\ttotal: 8.67s\tremaining: 9.17s\n",
            "486:\tlearn: 0.1608487\ttest: 0.2934015\tbest: 0.2842304 (170)\ttotal: 8.68s\tremaining: 9.14s\n",
            "487:\tlearn: 0.1608233\ttest: 0.2934403\tbest: 0.2842304 (170)\ttotal: 8.69s\tremaining: 9.11s\n",
            "488:\tlearn: 0.1607635\ttest: 0.2935139\tbest: 0.2842304 (170)\ttotal: 8.7s\tremaining: 9.09s\n",
            "489:\tlearn: 0.1607057\ttest: 0.2933677\tbest: 0.2842304 (170)\ttotal: 8.7s\tremaining: 9.06s\n",
            "490:\tlearn: 0.1606545\ttest: 0.2933921\tbest: 0.2842304 (170)\ttotal: 8.71s\tremaining: 9.03s\n",
            "491:\tlearn: 0.1605663\ttest: 0.2934538\tbest: 0.2842304 (170)\ttotal: 8.73s\tremaining: 9.02s\n",
            "492:\tlearn: 0.1604695\ttest: 0.2935054\tbest: 0.2842304 (170)\ttotal: 8.74s\tremaining: 8.99s\n",
            "493:\tlearn: 0.1604467\ttest: 0.2934799\tbest: 0.2842304 (170)\ttotal: 8.75s\tremaining: 8.96s\n",
            "494:\tlearn: 0.1604055\ttest: 0.2934488\tbest: 0.2842304 (170)\ttotal: 8.76s\tremaining: 8.94s\n",
            "495:\tlearn: 0.1602570\ttest: 0.2935147\tbest: 0.2842304 (170)\ttotal: 8.77s\tremaining: 8.91s\n",
            "496:\tlearn: 0.1601719\ttest: 0.2935107\tbest: 0.2842304 (170)\ttotal: 8.77s\tremaining: 8.88s\n",
            "497:\tlearn: 0.1601157\ttest: 0.2935649\tbest: 0.2842304 (170)\ttotal: 8.79s\tremaining: 8.86s\n",
            "498:\tlearn: 0.1601040\ttest: 0.2936095\tbest: 0.2842304 (170)\ttotal: 8.8s\tremaining: 8.83s\n",
            "499:\tlearn: 0.1600527\ttest: 0.2937085\tbest: 0.2842304 (170)\ttotal: 8.81s\tremaining: 8.81s\n",
            "500:\tlearn: 0.1599945\ttest: 0.2937320\tbest: 0.2842304 (170)\ttotal: 8.82s\tremaining: 8.79s\n",
            "501:\tlearn: 0.1599225\ttest: 0.2937077\tbest: 0.2842304 (170)\ttotal: 8.83s\tremaining: 8.76s\n",
            "502:\tlearn: 0.1598393\ttest: 0.2936357\tbest: 0.2842304 (170)\ttotal: 8.84s\tremaining: 8.73s\n",
            "503:\tlearn: 0.1597678\ttest: 0.2936043\tbest: 0.2842304 (170)\ttotal: 8.85s\tremaining: 8.71s\n",
            "504:\tlearn: 0.1596869\ttest: 0.2936915\tbest: 0.2842304 (170)\ttotal: 8.85s\tremaining: 8.68s\n",
            "505:\tlearn: 0.1596083\ttest: 0.2937138\tbest: 0.2842304 (170)\ttotal: 8.86s\tremaining: 8.65s\n",
            "506:\tlearn: 0.1595258\ttest: 0.2937798\tbest: 0.2842304 (170)\ttotal: 8.87s\tremaining: 8.62s\n",
            "507:\tlearn: 0.1594976\ttest: 0.2937815\tbest: 0.2842304 (170)\ttotal: 8.88s\tremaining: 8.6s\n",
            "508:\tlearn: 0.1594405\ttest: 0.2938509\tbest: 0.2842304 (170)\ttotal: 8.88s\tremaining: 8.57s\n",
            "509:\tlearn: 0.1593312\ttest: 0.2938831\tbest: 0.2842304 (170)\ttotal: 8.89s\tremaining: 8.54s\n",
            "510:\tlearn: 0.1592941\ttest: 0.2937781\tbest: 0.2842304 (170)\ttotal: 8.9s\tremaining: 8.52s\n",
            "511:\tlearn: 0.1592310\ttest: 0.2937694\tbest: 0.2842304 (170)\ttotal: 8.92s\tremaining: 8.5s\n",
            "512:\tlearn: 0.1591143\ttest: 0.2937788\tbest: 0.2842304 (170)\ttotal: 8.93s\tremaining: 8.48s\n",
            "513:\tlearn: 0.1590634\ttest: 0.2938176\tbest: 0.2842304 (170)\ttotal: 8.94s\tremaining: 8.45s\n",
            "514:\tlearn: 0.1590151\ttest: 0.2937967\tbest: 0.2842304 (170)\ttotal: 8.95s\tremaining: 8.43s\n",
            "515:\tlearn: 0.1589413\ttest: 0.2938666\tbest: 0.2842304 (170)\ttotal: 8.96s\tremaining: 8.4s\n",
            "516:\tlearn: 0.1588916\ttest: 0.2938940\tbest: 0.2842304 (170)\ttotal: 8.96s\tremaining: 8.37s\n",
            "517:\tlearn: 0.1588182\ttest: 0.2940097\tbest: 0.2842304 (170)\ttotal: 8.97s\tremaining: 8.35s\n",
            "518:\tlearn: 0.1587563\ttest: 0.2940707\tbest: 0.2842304 (170)\ttotal: 8.98s\tremaining: 8.32s\n",
            "519:\tlearn: 0.1586948\ttest: 0.2940453\tbest: 0.2842304 (170)\ttotal: 8.98s\tremaining: 8.29s\n",
            "520:\tlearn: 0.1586410\ttest: 0.2940480\tbest: 0.2842304 (170)\ttotal: 8.99s\tremaining: 8.27s\n",
            "521:\tlearn: 0.1586136\ttest: 0.2940671\tbest: 0.2842304 (170)\ttotal: 9s\tremaining: 8.24s\n",
            "522:\tlearn: 0.1585479\ttest: 0.2940350\tbest: 0.2842304 (170)\ttotal: 9.01s\tremaining: 8.22s\n",
            "523:\tlearn: 0.1585051\ttest: 0.2940457\tbest: 0.2842304 (170)\ttotal: 9.02s\tremaining: 8.19s\n",
            "524:\tlearn: 0.1584044\ttest: 0.2940295\tbest: 0.2842304 (170)\ttotal: 9.02s\tremaining: 8.16s\n",
            "525:\tlearn: 0.1583306\ttest: 0.2940687\tbest: 0.2842304 (170)\ttotal: 9.03s\tremaining: 8.14s\n",
            "526:\tlearn: 0.1582661\ttest: 0.2941173\tbest: 0.2842304 (170)\ttotal: 9.04s\tremaining: 8.12s\n",
            "527:\tlearn: 0.1581990\ttest: 0.2941797\tbest: 0.2842304 (170)\ttotal: 9.05s\tremaining: 8.09s\n",
            "528:\tlearn: 0.1581347\ttest: 0.2942392\tbest: 0.2842304 (170)\ttotal: 9.06s\tremaining: 8.06s\n",
            "529:\tlearn: 0.1580414\ttest: 0.2942837\tbest: 0.2842304 (170)\ttotal: 9.07s\tremaining: 8.04s\n",
            "530:\tlearn: 0.1579784\ttest: 0.2942338\tbest: 0.2842304 (170)\ttotal: 9.07s\tremaining: 8.02s\n",
            "531:\tlearn: 0.1579208\ttest: 0.2942084\tbest: 0.2842304 (170)\ttotal: 9.08s\tremaining: 7.99s\n",
            "532:\tlearn: 0.1578719\ttest: 0.2942545\tbest: 0.2842304 (170)\ttotal: 9.09s\tremaining: 7.96s\n",
            "533:\tlearn: 0.1577953\ttest: 0.2942093\tbest: 0.2842304 (170)\ttotal: 9.1s\tremaining: 7.94s\n",
            "534:\tlearn: 0.1577156\ttest: 0.2941977\tbest: 0.2842304 (170)\ttotal: 9.13s\tremaining: 7.93s\n",
            "535:\tlearn: 0.1576147\ttest: 0.2941937\tbest: 0.2842304 (170)\ttotal: 9.14s\tremaining: 7.92s\n",
            "536:\tlearn: 0.1574995\ttest: 0.2941830\tbest: 0.2842304 (170)\ttotal: 9.16s\tremaining: 7.89s\n",
            "537:\tlearn: 0.1574561\ttest: 0.2941737\tbest: 0.2842304 (170)\ttotal: 9.17s\tremaining: 7.88s\n",
            "538:\tlearn: 0.1574183\ttest: 0.2941857\tbest: 0.2842304 (170)\ttotal: 9.21s\tremaining: 7.88s\n",
            "539:\tlearn: 0.1573410\ttest: 0.2942360\tbest: 0.2842304 (170)\ttotal: 9.23s\tremaining: 7.86s\n",
            "540:\tlearn: 0.1572764\ttest: 0.2942759\tbest: 0.2842304 (170)\ttotal: 9.25s\tremaining: 7.84s\n",
            "541:\tlearn: 0.1572079\ttest: 0.2942767\tbest: 0.2842304 (170)\ttotal: 9.27s\tremaining: 7.83s\n",
            "542:\tlearn: 0.1570862\ttest: 0.2942874\tbest: 0.2842304 (170)\ttotal: 9.3s\tremaining: 7.83s\n",
            "543:\tlearn: 0.1570561\ttest: 0.2942765\tbest: 0.2842304 (170)\ttotal: 9.34s\tremaining: 7.83s\n",
            "544:\tlearn: 0.1570013\ttest: 0.2942606\tbest: 0.2842304 (170)\ttotal: 9.36s\tremaining: 7.82s\n",
            "545:\tlearn: 0.1569266\ttest: 0.2943014\tbest: 0.2842304 (170)\ttotal: 9.38s\tremaining: 7.8s\n",
            "546:\tlearn: 0.1568279\ttest: 0.2943457\tbest: 0.2842304 (170)\ttotal: 9.39s\tremaining: 7.78s\n",
            "547:\tlearn: 0.1568168\ttest: 0.2943471\tbest: 0.2842304 (170)\ttotal: 9.41s\tremaining: 7.76s\n",
            "548:\tlearn: 0.1567634\ttest: 0.2943956\tbest: 0.2842304 (170)\ttotal: 9.42s\tremaining: 7.74s\n",
            "549:\tlearn: 0.1567038\ttest: 0.2944075\tbest: 0.2842304 (170)\ttotal: 9.44s\tremaining: 7.72s\n",
            "550:\tlearn: 0.1566432\ttest: 0.2944492\tbest: 0.2842304 (170)\ttotal: 9.44s\tremaining: 7.7s\n",
            "551:\tlearn: 0.1565585\ttest: 0.2944689\tbest: 0.2842304 (170)\ttotal: 9.45s\tremaining: 7.67s\n",
            "552:\tlearn: 0.1565343\ttest: 0.2944844\tbest: 0.2842304 (170)\ttotal: 9.47s\tremaining: 7.65s\n",
            "553:\tlearn: 0.1564445\ttest: 0.2945314\tbest: 0.2842304 (170)\ttotal: 9.5s\tremaining: 7.65s\n",
            "554:\tlearn: 0.1564253\ttest: 0.2945522\tbest: 0.2842304 (170)\ttotal: 9.51s\tremaining: 7.62s\n",
            "555:\tlearn: 0.1563031\ttest: 0.2944865\tbest: 0.2842304 (170)\ttotal: 9.51s\tremaining: 7.6s\n",
            "556:\tlearn: 0.1562506\ttest: 0.2945950\tbest: 0.2842304 (170)\ttotal: 9.52s\tremaining: 7.57s\n",
            "557:\tlearn: 0.1561515\ttest: 0.2946286\tbest: 0.2842304 (170)\ttotal: 9.54s\tremaining: 7.55s\n",
            "558:\tlearn: 0.1561021\ttest: 0.2946835\tbest: 0.2842304 (170)\ttotal: 9.54s\tremaining: 7.53s\n",
            "559:\tlearn: 0.1560604\ttest: 0.2948034\tbest: 0.2842304 (170)\ttotal: 9.55s\tremaining: 7.5s\n",
            "560:\tlearn: 0.1560239\ttest: 0.2948422\tbest: 0.2842304 (170)\ttotal: 9.56s\tremaining: 7.48s\n",
            "561:\tlearn: 0.1559634\ttest: 0.2949117\tbest: 0.2842304 (170)\ttotal: 9.56s\tremaining: 7.46s\n",
            "562:\tlearn: 0.1559336\ttest: 0.2949347\tbest: 0.2842304 (170)\ttotal: 9.57s\tremaining: 7.43s\n",
            "563:\tlearn: 0.1558738\ttest: 0.2949754\tbest: 0.2842304 (170)\ttotal: 9.58s\tremaining: 7.41s\n",
            "564:\tlearn: 0.1558097\ttest: 0.2949598\tbest: 0.2842304 (170)\ttotal: 9.59s\tremaining: 7.38s\n",
            "565:\tlearn: 0.1557755\ttest: 0.2950048\tbest: 0.2842304 (170)\ttotal: 9.6s\tremaining: 7.36s\n",
            "566:\tlearn: 0.1557399\ttest: 0.2950823\tbest: 0.2842304 (170)\ttotal: 9.6s\tremaining: 7.33s\n",
            "567:\tlearn: 0.1556697\ttest: 0.2950331\tbest: 0.2842304 (170)\ttotal: 9.61s\tremaining: 7.31s\n",
            "568:\tlearn: 0.1556135\ttest: 0.2950122\tbest: 0.2842304 (170)\ttotal: 9.61s\tremaining: 7.28s\n",
            "569:\tlearn: 0.1555791\ttest: 0.2950251\tbest: 0.2842304 (170)\ttotal: 9.62s\tremaining: 7.26s\n",
            "570:\tlearn: 0.1555504\ttest: 0.2950653\tbest: 0.2842304 (170)\ttotal: 9.63s\tremaining: 7.23s\n",
            "571:\tlearn: 0.1555030\ttest: 0.2951222\tbest: 0.2842304 (170)\ttotal: 9.63s\tremaining: 7.21s\n",
            "572:\tlearn: 0.1554524\ttest: 0.2951818\tbest: 0.2842304 (170)\ttotal: 9.64s\tremaining: 7.18s\n",
            "573:\tlearn: 0.1553820\ttest: 0.2952139\tbest: 0.2842304 (170)\ttotal: 9.65s\tremaining: 7.16s\n",
            "574:\tlearn: 0.1553404\ttest: 0.2952985\tbest: 0.2842304 (170)\ttotal: 9.65s\tremaining: 7.13s\n",
            "575:\tlearn: 0.1552963\ttest: 0.2952840\tbest: 0.2842304 (170)\ttotal: 9.66s\tremaining: 7.11s\n",
            "576:\tlearn: 0.1552339\ttest: 0.2953891\tbest: 0.2842304 (170)\ttotal: 9.67s\tremaining: 7.09s\n",
            "577:\tlearn: 0.1552248\ttest: 0.2954275\tbest: 0.2842304 (170)\ttotal: 9.67s\tremaining: 7.06s\n",
            "578:\tlearn: 0.1551804\ttest: 0.2954944\tbest: 0.2842304 (170)\ttotal: 9.68s\tremaining: 7.04s\n",
            "579:\tlearn: 0.1551575\ttest: 0.2955512\tbest: 0.2842304 (170)\ttotal: 9.69s\tremaining: 7.01s\n",
            "580:\tlearn: 0.1550788\ttest: 0.2957021\tbest: 0.2842304 (170)\ttotal: 9.7s\tremaining: 6.99s\n",
            "581:\tlearn: 0.1550321\ttest: 0.2957779\tbest: 0.2842304 (170)\ttotal: 9.7s\tremaining: 6.97s\n",
            "582:\tlearn: 0.1549740\ttest: 0.2958280\tbest: 0.2842304 (170)\ttotal: 9.71s\tremaining: 6.95s\n",
            "583:\tlearn: 0.1548977\ttest: 0.2958874\tbest: 0.2842304 (170)\ttotal: 9.72s\tremaining: 6.92s\n",
            "584:\tlearn: 0.1548095\ttest: 0.2958695\tbest: 0.2842304 (170)\ttotal: 9.72s\tremaining: 6.9s\n",
            "585:\tlearn: 0.1547454\ttest: 0.2958301\tbest: 0.2842304 (170)\ttotal: 9.73s\tremaining: 6.87s\n",
            "586:\tlearn: 0.1546866\ttest: 0.2958503\tbest: 0.2842304 (170)\ttotal: 9.74s\tremaining: 6.85s\n",
            "587:\tlearn: 0.1546080\ttest: 0.2959289\tbest: 0.2842304 (170)\ttotal: 9.74s\tremaining: 6.83s\n",
            "588:\tlearn: 0.1545764\ttest: 0.2959225\tbest: 0.2842304 (170)\ttotal: 9.75s\tremaining: 6.8s\n",
            "589:\tlearn: 0.1545033\ttest: 0.2958667\tbest: 0.2842304 (170)\ttotal: 9.76s\tremaining: 6.78s\n",
            "590:\tlearn: 0.1544326\ttest: 0.2958588\tbest: 0.2842304 (170)\ttotal: 9.77s\tremaining: 6.76s\n",
            "591:\tlearn: 0.1543737\ttest: 0.2958531\tbest: 0.2842304 (170)\ttotal: 9.77s\tremaining: 6.74s\n",
            "592:\tlearn: 0.1543233\ttest: 0.2959176\tbest: 0.2842304 (170)\ttotal: 9.78s\tremaining: 6.71s\n",
            "593:\tlearn: 0.1542897\ttest: 0.2959291\tbest: 0.2842304 (170)\ttotal: 9.78s\tremaining: 6.69s\n",
            "594:\tlearn: 0.1542380\ttest: 0.2959456\tbest: 0.2842304 (170)\ttotal: 9.79s\tremaining: 6.66s\n",
            "595:\tlearn: 0.1542016\ttest: 0.2959399\tbest: 0.2842304 (170)\ttotal: 9.8s\tremaining: 6.64s\n",
            "596:\tlearn: 0.1541409\ttest: 0.2959642\tbest: 0.2842304 (170)\ttotal: 9.8s\tremaining: 6.62s\n",
            "597:\tlearn: 0.1540452\ttest: 0.2960321\tbest: 0.2842304 (170)\ttotal: 9.81s\tremaining: 6.59s\n",
            "598:\tlearn: 0.1539824\ttest: 0.2960514\tbest: 0.2842304 (170)\ttotal: 9.82s\tremaining: 6.57s\n",
            "599:\tlearn: 0.1539362\ttest: 0.2961216\tbest: 0.2842304 (170)\ttotal: 9.82s\tremaining: 6.55s\n",
            "600:\tlearn: 0.1539042\ttest: 0.2961750\tbest: 0.2842304 (170)\ttotal: 9.83s\tremaining: 6.53s\n",
            "601:\tlearn: 0.1537986\ttest: 0.2962704\tbest: 0.2842304 (170)\ttotal: 9.84s\tremaining: 6.5s\n",
            "602:\tlearn: 0.1537563\ttest: 0.2962592\tbest: 0.2842304 (170)\ttotal: 9.84s\tremaining: 6.48s\n",
            "603:\tlearn: 0.1537138\ttest: 0.2962927\tbest: 0.2842304 (170)\ttotal: 9.85s\tremaining: 6.46s\n",
            "604:\tlearn: 0.1536460\ttest: 0.2963406\tbest: 0.2842304 (170)\ttotal: 9.86s\tremaining: 6.43s\n",
            "605:\tlearn: 0.1535932\ttest: 0.2964205\tbest: 0.2842304 (170)\ttotal: 9.86s\tremaining: 6.41s\n",
            "606:\tlearn: 0.1535454\ttest: 0.2964869\tbest: 0.2842304 (170)\ttotal: 9.87s\tremaining: 6.39s\n",
            "607:\tlearn: 0.1534263\ttest: 0.2964774\tbest: 0.2842304 (170)\ttotal: 9.88s\tremaining: 6.37s\n",
            "608:\tlearn: 0.1533591\ttest: 0.2964201\tbest: 0.2842304 (170)\ttotal: 9.89s\tremaining: 6.35s\n",
            "609:\tlearn: 0.1532228\ttest: 0.2964038\tbest: 0.2842304 (170)\ttotal: 9.9s\tremaining: 6.33s\n",
            "610:\tlearn: 0.1531397\ttest: 0.2964713\tbest: 0.2842304 (170)\ttotal: 9.91s\tremaining: 6.31s\n",
            "611:\tlearn: 0.1530824\ttest: 0.2964502\tbest: 0.2842304 (170)\ttotal: 9.91s\tremaining: 6.29s\n",
            "612:\tlearn: 0.1530211\ttest: 0.2964694\tbest: 0.2842304 (170)\ttotal: 9.92s\tremaining: 6.26s\n",
            "613:\tlearn: 0.1529698\ttest: 0.2964578\tbest: 0.2842304 (170)\ttotal: 9.93s\tremaining: 6.24s\n",
            "614:\tlearn: 0.1528791\ttest: 0.2965492\tbest: 0.2842304 (170)\ttotal: 9.93s\tremaining: 6.22s\n",
            "615:\tlearn: 0.1528257\ttest: 0.2965297\tbest: 0.2842304 (170)\ttotal: 9.94s\tremaining: 6.2s\n",
            "616:\tlearn: 0.1527686\ttest: 0.2965678\tbest: 0.2842304 (170)\ttotal: 9.95s\tremaining: 6.17s\n",
            "617:\tlearn: 0.1527283\ttest: 0.2966381\tbest: 0.2842304 (170)\ttotal: 9.95s\tremaining: 6.15s\n",
            "618:\tlearn: 0.1527070\ttest: 0.2966400\tbest: 0.2842304 (170)\ttotal: 9.96s\tremaining: 6.13s\n",
            "619:\tlearn: 0.1526377\ttest: 0.2967666\tbest: 0.2842304 (170)\ttotal: 9.97s\tremaining: 6.11s\n",
            "620:\tlearn: 0.1525757\ttest: 0.2967603\tbest: 0.2842304 (170)\ttotal: 9.97s\tremaining: 6.09s\n",
            "621:\tlearn: 0.1525685\ttest: 0.2967678\tbest: 0.2842304 (170)\ttotal: 9.98s\tremaining: 6.06s\n",
            "622:\tlearn: 0.1525298\ttest: 0.2967471\tbest: 0.2842304 (170)\ttotal: 9.98s\tremaining: 6.04s\n",
            "623:\tlearn: 0.1524847\ttest: 0.2967565\tbest: 0.2842304 (170)\ttotal: 9.99s\tremaining: 6.02s\n",
            "624:\tlearn: 0.1524265\ttest: 0.2967415\tbest: 0.2842304 (170)\ttotal: 10s\tremaining: 6s\n",
            "625:\tlearn: 0.1523564\ttest: 0.2967243\tbest: 0.2842304 (170)\ttotal: 10s\tremaining: 5.98s\n",
            "626:\tlearn: 0.1522861\ttest: 0.2968074\tbest: 0.2842304 (170)\ttotal: 10s\tremaining: 5.96s\n",
            "627:\tlearn: 0.1522434\ttest: 0.2968918\tbest: 0.2842304 (170)\ttotal: 10s\tremaining: 5.93s\n",
            "628:\tlearn: 0.1521935\ttest: 0.2969098\tbest: 0.2842304 (170)\ttotal: 10s\tremaining: 5.91s\n",
            "629:\tlearn: 0.1521436\ttest: 0.2969077\tbest: 0.2842304 (170)\ttotal: 10s\tremaining: 5.89s\n",
            "630:\tlearn: 0.1521062\ttest: 0.2970156\tbest: 0.2842304 (170)\ttotal: 10s\tremaining: 5.87s\n",
            "631:\tlearn: 0.1520284\ttest: 0.2970648\tbest: 0.2842304 (170)\ttotal: 10s\tremaining: 5.85s\n",
            "632:\tlearn: 0.1519952\ttest: 0.2971572\tbest: 0.2842304 (170)\ttotal: 10s\tremaining: 5.83s\n",
            "633:\tlearn: 0.1519643\ttest: 0.2971566\tbest: 0.2842304 (170)\ttotal: 10.1s\tremaining: 5.8s\n",
            "634:\tlearn: 0.1518849\ttest: 0.2971226\tbest: 0.2842304 (170)\ttotal: 10.1s\tremaining: 5.78s\n",
            "635:\tlearn: 0.1517967\ttest: 0.2971427\tbest: 0.2842304 (170)\ttotal: 10.1s\tremaining: 5.76s\n",
            "636:\tlearn: 0.1517585\ttest: 0.2971269\tbest: 0.2842304 (170)\ttotal: 10.1s\tremaining: 5.74s\n",
            "637:\tlearn: 0.1516967\ttest: 0.2972407\tbest: 0.2842304 (170)\ttotal: 10.1s\tremaining: 5.72s\n",
            "638:\tlearn: 0.1516311\ttest: 0.2973013\tbest: 0.2842304 (170)\ttotal: 10.1s\tremaining: 5.7s\n",
            "639:\tlearn: 0.1515698\ttest: 0.2973072\tbest: 0.2842304 (170)\ttotal: 10.1s\tremaining: 5.68s\n",
            "640:\tlearn: 0.1515250\ttest: 0.2973361\tbest: 0.2842304 (170)\ttotal: 10.1s\tremaining: 5.66s\n",
            "641:\tlearn: 0.1514831\ttest: 0.2973590\tbest: 0.2842304 (170)\ttotal: 10.1s\tremaining: 5.64s\n",
            "642:\tlearn: 0.1514214\ttest: 0.2974679\tbest: 0.2842304 (170)\ttotal: 10.1s\tremaining: 5.62s\n",
            "643:\tlearn: 0.1513844\ttest: 0.2974578\tbest: 0.2842304 (170)\ttotal: 10.1s\tremaining: 5.6s\n",
            "644:\tlearn: 0.1513557\ttest: 0.2974818\tbest: 0.2842304 (170)\ttotal: 10.1s\tremaining: 5.58s\n",
            "645:\tlearn: 0.1512939\ttest: 0.2974606\tbest: 0.2842304 (170)\ttotal: 10.1s\tremaining: 5.56s\n",
            "646:\tlearn: 0.1512664\ttest: 0.2974365\tbest: 0.2842304 (170)\ttotal: 10.1s\tremaining: 5.54s\n",
            "647:\tlearn: 0.1512075\ttest: 0.2974413\tbest: 0.2842304 (170)\ttotal: 10.2s\tremaining: 5.51s\n",
            "648:\tlearn: 0.1511465\ttest: 0.2974682\tbest: 0.2842304 (170)\ttotal: 10.2s\tremaining: 5.5s\n",
            "649:\tlearn: 0.1511084\ttest: 0.2974919\tbest: 0.2842304 (170)\ttotal: 10.2s\tremaining: 5.47s\n",
            "650:\tlearn: 0.1510854\ttest: 0.2974931\tbest: 0.2842304 (170)\ttotal: 10.2s\tremaining: 5.45s\n",
            "651:\tlearn: 0.1510228\ttest: 0.2974557\tbest: 0.2842304 (170)\ttotal: 10.2s\tremaining: 5.43s\n",
            "652:\tlearn: 0.1509831\ttest: 0.2975092\tbest: 0.2842304 (170)\ttotal: 10.2s\tremaining: 5.41s\n",
            "653:\tlearn: 0.1509251\ttest: 0.2975416\tbest: 0.2842304 (170)\ttotal: 10.2s\tremaining: 5.39s\n",
            "654:\tlearn: 0.1508742\ttest: 0.2975800\tbest: 0.2842304 (170)\ttotal: 10.2s\tremaining: 5.37s\n",
            "655:\tlearn: 0.1508422\ttest: 0.2976096\tbest: 0.2842304 (170)\ttotal: 10.2s\tremaining: 5.35s\n",
            "656:\tlearn: 0.1508117\ttest: 0.2976075\tbest: 0.2842304 (170)\ttotal: 10.2s\tremaining: 5.33s\n",
            "657:\tlearn: 0.1507724\ttest: 0.2976241\tbest: 0.2842304 (170)\ttotal: 10.2s\tremaining: 5.31s\n",
            "658:\tlearn: 0.1507142\ttest: 0.2976253\tbest: 0.2842304 (170)\ttotal: 10.2s\tremaining: 5.29s\n",
            "659:\tlearn: 0.1506434\ttest: 0.2976193\tbest: 0.2842304 (170)\ttotal: 10.2s\tremaining: 5.27s\n",
            "660:\tlearn: 0.1506370\ttest: 0.2976293\tbest: 0.2842304 (170)\ttotal: 10.2s\tremaining: 5.25s\n",
            "661:\tlearn: 0.1505539\ttest: 0.2977709\tbest: 0.2842304 (170)\ttotal: 10.2s\tremaining: 5.23s\n",
            "662:\tlearn: 0.1504933\ttest: 0.2978575\tbest: 0.2842304 (170)\ttotal: 10.3s\tremaining: 5.21s\n",
            "663:\tlearn: 0.1504270\ttest: 0.2978839\tbest: 0.2842304 (170)\ttotal: 10.3s\tremaining: 5.19s\n",
            "664:\tlearn: 0.1503789\ttest: 0.2979426\tbest: 0.2842304 (170)\ttotal: 10.3s\tremaining: 5.17s\n",
            "665:\tlearn: 0.1503026\ttest: 0.2979047\tbest: 0.2842304 (170)\ttotal: 10.3s\tremaining: 5.15s\n",
            "666:\tlearn: 0.1502837\ttest: 0.2979078\tbest: 0.2842304 (170)\ttotal: 10.3s\tremaining: 5.13s\n",
            "667:\tlearn: 0.1502182\ttest: 0.2979162\tbest: 0.2842304 (170)\ttotal: 10.3s\tremaining: 5.11s\n",
            "668:\tlearn: 0.1501255\ttest: 0.2980266\tbest: 0.2842304 (170)\ttotal: 10.3s\tremaining: 5.09s\n",
            "669:\tlearn: 0.1500860\ttest: 0.2980219\tbest: 0.2842304 (170)\ttotal: 10.3s\tremaining: 5.08s\n",
            "670:\tlearn: 0.1500575\ttest: 0.2980209\tbest: 0.2842304 (170)\ttotal: 10.3s\tremaining: 5.05s\n",
            "671:\tlearn: 0.1500325\ttest: 0.2980267\tbest: 0.2842304 (170)\ttotal: 10.3s\tremaining: 5.04s\n",
            "672:\tlearn: 0.1499879\ttest: 0.2980224\tbest: 0.2842304 (170)\ttotal: 10.3s\tremaining: 5.01s\n",
            "673:\tlearn: 0.1499544\ttest: 0.2979755\tbest: 0.2842304 (170)\ttotal: 10.3s\tremaining: 5s\n",
            "674:\tlearn: 0.1499146\ttest: 0.2980725\tbest: 0.2842304 (170)\ttotal: 10.3s\tremaining: 4.98s\n",
            "675:\tlearn: 0.1498607\ttest: 0.2981368\tbest: 0.2842304 (170)\ttotal: 10.3s\tremaining: 4.96s\n",
            "676:\tlearn: 0.1497761\ttest: 0.2981933\tbest: 0.2842304 (170)\ttotal: 10.3s\tremaining: 4.94s\n",
            "677:\tlearn: 0.1497224\ttest: 0.2982072\tbest: 0.2842304 (170)\ttotal: 10.4s\tremaining: 4.92s\n",
            "678:\tlearn: 0.1496773\ttest: 0.2982436\tbest: 0.2842304 (170)\ttotal: 10.4s\tremaining: 4.9s\n",
            "679:\tlearn: 0.1496280\ttest: 0.2982217\tbest: 0.2842304 (170)\ttotal: 10.4s\tremaining: 4.88s\n",
            "680:\tlearn: 0.1496025\ttest: 0.2981666\tbest: 0.2842304 (170)\ttotal: 10.4s\tremaining: 4.86s\n",
            "681:\tlearn: 0.1495437\ttest: 0.2981740\tbest: 0.2842304 (170)\ttotal: 10.4s\tremaining: 4.84s\n",
            "682:\tlearn: 0.1494883\ttest: 0.2981510\tbest: 0.2842304 (170)\ttotal: 10.4s\tremaining: 4.82s\n",
            "683:\tlearn: 0.1494253\ttest: 0.2982174\tbest: 0.2842304 (170)\ttotal: 10.4s\tremaining: 4.8s\n",
            "684:\tlearn: 0.1493594\ttest: 0.2982205\tbest: 0.2842304 (170)\ttotal: 10.4s\tremaining: 4.78s\n",
            "685:\tlearn: 0.1493122\ttest: 0.2983530\tbest: 0.2842304 (170)\ttotal: 10.4s\tremaining: 4.76s\n",
            "686:\tlearn: 0.1492628\ttest: 0.2984077\tbest: 0.2842304 (170)\ttotal: 10.4s\tremaining: 4.75s\n",
            "687:\tlearn: 0.1492010\ttest: 0.2984317\tbest: 0.2842304 (170)\ttotal: 10.4s\tremaining: 4.73s\n",
            "688:\tlearn: 0.1491444\ttest: 0.2984150\tbest: 0.2842304 (170)\ttotal: 10.4s\tremaining: 4.71s\n",
            "689:\tlearn: 0.1491176\ttest: 0.2984308\tbest: 0.2842304 (170)\ttotal: 10.4s\tremaining: 4.69s\n",
            "690:\tlearn: 0.1490537\ttest: 0.2986912\tbest: 0.2842304 (170)\ttotal: 10.5s\tremaining: 4.67s\n",
            "691:\tlearn: 0.1489340\ttest: 0.2987724\tbest: 0.2842304 (170)\ttotal: 10.5s\tremaining: 4.66s\n",
            "692:\tlearn: 0.1488479\ttest: 0.2988388\tbest: 0.2842304 (170)\ttotal: 10.5s\tremaining: 4.64s\n",
            "693:\tlearn: 0.1487810\ttest: 0.2988780\tbest: 0.2842304 (170)\ttotal: 10.5s\tremaining: 4.62s\n",
            "694:\tlearn: 0.1487055\ttest: 0.2988502\tbest: 0.2842304 (170)\ttotal: 10.5s\tremaining: 4.6s\n",
            "695:\tlearn: 0.1486812\ttest: 0.2988499\tbest: 0.2842304 (170)\ttotal: 10.5s\tremaining: 4.58s\n",
            "696:\tlearn: 0.1486237\ttest: 0.2989118\tbest: 0.2842304 (170)\ttotal: 10.5s\tremaining: 4.56s\n",
            "697:\tlearn: 0.1485900\ttest: 0.2989165\tbest: 0.2842304 (170)\ttotal: 10.5s\tremaining: 4.55s\n",
            "698:\tlearn: 0.1485584\ttest: 0.2989683\tbest: 0.2842304 (170)\ttotal: 10.5s\tremaining: 4.53s\n",
            "699:\tlearn: 0.1485319\ttest: 0.2989675\tbest: 0.2842304 (170)\ttotal: 10.5s\tremaining: 4.51s\n",
            "700:\tlearn: 0.1484731\ttest: 0.2989279\tbest: 0.2842304 (170)\ttotal: 10.5s\tremaining: 4.49s\n",
            "701:\tlearn: 0.1484431\ttest: 0.2989361\tbest: 0.2842304 (170)\ttotal: 10.5s\tremaining: 4.47s\n",
            "702:\tlearn: 0.1484083\ttest: 0.2989307\tbest: 0.2842304 (170)\ttotal: 10.5s\tremaining: 4.45s\n",
            "703:\tlearn: 0.1483562\ttest: 0.2989780\tbest: 0.2842304 (170)\ttotal: 10.5s\tremaining: 4.43s\n",
            "704:\tlearn: 0.1482979\ttest: 0.2990726\tbest: 0.2842304 (170)\ttotal: 10.6s\tremaining: 4.42s\n",
            "705:\tlearn: 0.1482674\ttest: 0.2991804\tbest: 0.2842304 (170)\ttotal: 10.6s\tremaining: 4.4s\n",
            "706:\tlearn: 0.1482321\ttest: 0.2992237\tbest: 0.2842304 (170)\ttotal: 10.6s\tremaining: 4.38s\n",
            "707:\tlearn: 0.1481688\ttest: 0.2992349\tbest: 0.2842304 (170)\ttotal: 10.6s\tremaining: 4.36s\n",
            "708:\tlearn: 0.1481372\ttest: 0.2992791\tbest: 0.2842304 (170)\ttotal: 10.6s\tremaining: 4.35s\n",
            "709:\tlearn: 0.1480694\ttest: 0.2992575\tbest: 0.2842304 (170)\ttotal: 10.6s\tremaining: 4.33s\n",
            "710:\tlearn: 0.1480426\ttest: 0.2992468\tbest: 0.2842304 (170)\ttotal: 10.6s\tremaining: 4.31s\n",
            "711:\tlearn: 0.1479885\ttest: 0.2992853\tbest: 0.2842304 (170)\ttotal: 10.6s\tremaining: 4.29s\n",
            "712:\tlearn: 0.1479265\ttest: 0.2993523\tbest: 0.2842304 (170)\ttotal: 10.6s\tremaining: 4.27s\n",
            "713:\tlearn: 0.1478851\ttest: 0.2993931\tbest: 0.2842304 (170)\ttotal: 10.6s\tremaining: 4.25s\n",
            "714:\tlearn: 0.1478259\ttest: 0.2994668\tbest: 0.2842304 (170)\ttotal: 10.6s\tremaining: 4.24s\n",
            "715:\tlearn: 0.1477826\ttest: 0.2995336\tbest: 0.2842304 (170)\ttotal: 10.6s\tremaining: 4.22s\n",
            "716:\tlearn: 0.1477333\ttest: 0.2994918\tbest: 0.2842304 (170)\ttotal: 10.6s\tremaining: 4.2s\n",
            "717:\tlearn: 0.1477039\ttest: 0.2995223\tbest: 0.2842304 (170)\ttotal: 10.6s\tremaining: 4.18s\n",
            "718:\tlearn: 0.1476261\ttest: 0.2994989\tbest: 0.2842304 (170)\ttotal: 10.7s\tremaining: 4.17s\n",
            "719:\tlearn: 0.1476042\ttest: 0.2994929\tbest: 0.2842304 (170)\ttotal: 10.7s\tremaining: 4.15s\n",
            "720:\tlearn: 0.1475634\ttest: 0.2995313\tbest: 0.2842304 (170)\ttotal: 10.7s\tremaining: 4.13s\n",
            "721:\tlearn: 0.1475118\ttest: 0.2995912\tbest: 0.2842304 (170)\ttotal: 10.7s\tremaining: 4.11s\n",
            "722:\tlearn: 0.1474591\ttest: 0.2996111\tbest: 0.2842304 (170)\ttotal: 10.7s\tremaining: 4.09s\n",
            "723:\tlearn: 0.1474127\ttest: 0.2995735\tbest: 0.2842304 (170)\ttotal: 10.7s\tremaining: 4.07s\n",
            "724:\tlearn: 0.1473721\ttest: 0.2996726\tbest: 0.2842304 (170)\ttotal: 10.7s\tremaining: 4.06s\n",
            "725:\tlearn: 0.1473339\ttest: 0.2996349\tbest: 0.2842304 (170)\ttotal: 10.7s\tremaining: 4.04s\n",
            "726:\tlearn: 0.1473062\ttest: 0.2996189\tbest: 0.2842304 (170)\ttotal: 10.7s\tremaining: 4.02s\n",
            "727:\tlearn: 0.1472811\ttest: 0.2996507\tbest: 0.2842304 (170)\ttotal: 10.7s\tremaining: 4s\n",
            "728:\tlearn: 0.1472184\ttest: 0.2996957\tbest: 0.2842304 (170)\ttotal: 10.7s\tremaining: 3.99s\n",
            "729:\tlearn: 0.1471878\ttest: 0.2997615\tbest: 0.2842304 (170)\ttotal: 10.7s\tremaining: 3.97s\n",
            "730:\tlearn: 0.1471506\ttest: 0.2996892\tbest: 0.2842304 (170)\ttotal: 10.7s\tremaining: 3.95s\n",
            "731:\tlearn: 0.1471130\ttest: 0.2995693\tbest: 0.2842304 (170)\ttotal: 10.7s\tremaining: 3.93s\n",
            "732:\tlearn: 0.1470700\ttest: 0.2995741\tbest: 0.2842304 (170)\ttotal: 10.8s\tremaining: 3.92s\n",
            "733:\tlearn: 0.1469855\ttest: 0.2996138\tbest: 0.2842304 (170)\ttotal: 10.8s\tremaining: 3.9s\n",
            "734:\tlearn: 0.1469310\ttest: 0.2996494\tbest: 0.2842304 (170)\ttotal: 10.8s\tremaining: 3.88s\n",
            "735:\tlearn: 0.1469056\ttest: 0.2996236\tbest: 0.2842304 (170)\ttotal: 10.8s\tremaining: 3.86s\n",
            "736:\tlearn: 0.1468263\ttest: 0.2996427\tbest: 0.2842304 (170)\ttotal: 10.8s\tremaining: 3.85s\n",
            "737:\tlearn: 0.1467638\ttest: 0.2996309\tbest: 0.2842304 (170)\ttotal: 10.8s\tremaining: 3.83s\n",
            "738:\tlearn: 0.1467147\ttest: 0.2996807\tbest: 0.2842304 (170)\ttotal: 10.8s\tremaining: 3.81s\n",
            "739:\tlearn: 0.1466767\ttest: 0.2997100\tbest: 0.2842304 (170)\ttotal: 10.8s\tremaining: 3.79s\n",
            "740:\tlearn: 0.1466580\ttest: 0.2997149\tbest: 0.2842304 (170)\ttotal: 10.8s\tremaining: 3.78s\n",
            "741:\tlearn: 0.1466126\ttest: 0.2997142\tbest: 0.2842304 (170)\ttotal: 10.8s\tremaining: 3.76s\n",
            "742:\tlearn: 0.1465557\ttest: 0.2997166\tbest: 0.2842304 (170)\ttotal: 10.8s\tremaining: 3.74s\n",
            "743:\tlearn: 0.1465205\ttest: 0.2997093\tbest: 0.2842304 (170)\ttotal: 10.8s\tremaining: 3.72s\n",
            "744:\tlearn: 0.1464708\ttest: 0.2997762\tbest: 0.2842304 (170)\ttotal: 10.8s\tremaining: 3.71s\n",
            "745:\tlearn: 0.1463888\ttest: 0.2998586\tbest: 0.2842304 (170)\ttotal: 10.8s\tremaining: 3.69s\n",
            "746:\tlearn: 0.1463313\ttest: 0.2999006\tbest: 0.2842304 (170)\ttotal: 10.8s\tremaining: 3.67s\n",
            "747:\tlearn: 0.1463037\ttest: 0.2999043\tbest: 0.2842304 (170)\ttotal: 10.9s\tremaining: 3.66s\n",
            "748:\tlearn: 0.1462525\ttest: 0.2999416\tbest: 0.2842304 (170)\ttotal: 10.9s\tremaining: 3.64s\n",
            "749:\tlearn: 0.1461699\ttest: 0.3000226\tbest: 0.2842304 (170)\ttotal: 10.9s\tremaining: 3.62s\n",
            "750:\tlearn: 0.1461137\ttest: 0.3000641\tbest: 0.2842304 (170)\ttotal: 10.9s\tremaining: 3.61s\n",
            "751:\tlearn: 0.1460831\ttest: 0.3000658\tbest: 0.2842304 (170)\ttotal: 10.9s\tremaining: 3.59s\n",
            "752:\tlearn: 0.1460696\ttest: 0.3000875\tbest: 0.2842304 (170)\ttotal: 10.9s\tremaining: 3.57s\n",
            "753:\tlearn: 0.1460034\ttest: 0.3001352\tbest: 0.2842304 (170)\ttotal: 10.9s\tremaining: 3.56s\n",
            "754:\tlearn: 0.1459338\ttest: 0.3002326\tbest: 0.2842304 (170)\ttotal: 10.9s\tremaining: 3.54s\n",
            "755:\tlearn: 0.1458835\ttest: 0.3003179\tbest: 0.2842304 (170)\ttotal: 10.9s\tremaining: 3.52s\n",
            "756:\tlearn: 0.1458323\ttest: 0.3002918\tbest: 0.2842304 (170)\ttotal: 10.9s\tremaining: 3.51s\n",
            "757:\tlearn: 0.1457765\ttest: 0.3003138\tbest: 0.2842304 (170)\ttotal: 10.9s\tremaining: 3.49s\n",
            "758:\tlearn: 0.1457473\ttest: 0.3002856\tbest: 0.2842304 (170)\ttotal: 10.9s\tremaining: 3.47s\n",
            "759:\tlearn: 0.1457235\ttest: 0.3002884\tbest: 0.2842304 (170)\ttotal: 10.9s\tremaining: 3.46s\n",
            "760:\tlearn: 0.1456670\ttest: 0.3003817\tbest: 0.2842304 (170)\ttotal: 10.9s\tremaining: 3.44s\n",
            "761:\tlearn: 0.1456218\ttest: 0.3004416\tbest: 0.2842304 (170)\ttotal: 11s\tremaining: 3.42s\n",
            "762:\tlearn: 0.1455773\ttest: 0.3005260\tbest: 0.2842304 (170)\ttotal: 11s\tremaining: 3.4s\n",
            "763:\tlearn: 0.1455312\ttest: 0.3005367\tbest: 0.2842304 (170)\ttotal: 11s\tremaining: 3.39s\n",
            "764:\tlearn: 0.1454654\ttest: 0.3005604\tbest: 0.2842304 (170)\ttotal: 11s\tremaining: 3.37s\n",
            "765:\tlearn: 0.1453923\ttest: 0.3005739\tbest: 0.2842304 (170)\ttotal: 11s\tremaining: 3.35s\n",
            "766:\tlearn: 0.1453716\ttest: 0.3006333\tbest: 0.2842304 (170)\ttotal: 11s\tremaining: 3.34s\n",
            "767:\tlearn: 0.1453150\ttest: 0.3005658\tbest: 0.2842304 (170)\ttotal: 11s\tremaining: 3.32s\n",
            "768:\tlearn: 0.1452504\ttest: 0.3006860\tbest: 0.2842304 (170)\ttotal: 11s\tremaining: 3.3s\n",
            "769:\tlearn: 0.1451977\ttest: 0.3007340\tbest: 0.2842304 (170)\ttotal: 11s\tremaining: 3.29s\n",
            "770:\tlearn: 0.1451790\ttest: 0.3007487\tbest: 0.2842304 (170)\ttotal: 11s\tremaining: 3.27s\n",
            "771:\tlearn: 0.1451105\ttest: 0.3007754\tbest: 0.2842304 (170)\ttotal: 11s\tremaining: 3.26s\n",
            "772:\tlearn: 0.1450745\ttest: 0.3008865\tbest: 0.2842304 (170)\ttotal: 11s\tremaining: 3.24s\n",
            "773:\tlearn: 0.1450263\ttest: 0.3008653\tbest: 0.2842304 (170)\ttotal: 11s\tremaining: 3.22s\n",
            "774:\tlearn: 0.1450196\ttest: 0.3008578\tbest: 0.2842304 (170)\ttotal: 11.1s\tremaining: 3.21s\n",
            "775:\tlearn: 0.1450050\ttest: 0.3008666\tbest: 0.2842304 (170)\ttotal: 11.1s\tremaining: 3.19s\n",
            "776:\tlearn: 0.1449462\ttest: 0.3008443\tbest: 0.2842304 (170)\ttotal: 11.1s\tremaining: 3.18s\n",
            "777:\tlearn: 0.1449169\ttest: 0.3009273\tbest: 0.2842304 (170)\ttotal: 11.1s\tremaining: 3.16s\n",
            "778:\tlearn: 0.1449006\ttest: 0.3009304\tbest: 0.2842304 (170)\ttotal: 11.1s\tremaining: 3.15s\n",
            "779:\tlearn: 0.1448623\ttest: 0.3010020\tbest: 0.2842304 (170)\ttotal: 11.1s\tremaining: 3.13s\n",
            "780:\tlearn: 0.1448324\ttest: 0.3010072\tbest: 0.2842304 (170)\ttotal: 11.1s\tremaining: 3.12s\n",
            "781:\tlearn: 0.1447816\ttest: 0.3010592\tbest: 0.2842304 (170)\ttotal: 11.1s\tremaining: 3.1s\n",
            "782:\tlearn: 0.1447554\ttest: 0.3010986\tbest: 0.2842304 (170)\ttotal: 11.1s\tremaining: 3.09s\n",
            "783:\tlearn: 0.1447247\ttest: 0.3010953\tbest: 0.2842304 (170)\ttotal: 11.2s\tremaining: 3.07s\n",
            "784:\tlearn: 0.1447047\ttest: 0.3010950\tbest: 0.2842304 (170)\ttotal: 11.2s\tremaining: 3.06s\n",
            "785:\tlearn: 0.1446714\ttest: 0.3011307\tbest: 0.2842304 (170)\ttotal: 11.2s\tremaining: 3.04s\n",
            "786:\tlearn: 0.1446203\ttest: 0.3012090\tbest: 0.2842304 (170)\ttotal: 11.2s\tremaining: 3.03s\n",
            "787:\tlearn: 0.1445728\ttest: 0.3012415\tbest: 0.2842304 (170)\ttotal: 11.2s\tremaining: 3.02s\n",
            "788:\tlearn: 0.1445299\ttest: 0.3012311\tbest: 0.2842304 (170)\ttotal: 11.2s\tremaining: 3s\n",
            "789:\tlearn: 0.1444652\ttest: 0.3011701\tbest: 0.2842304 (170)\ttotal: 11.3s\tremaining: 2.99s\n",
            "790:\tlearn: 0.1444251\ttest: 0.3011987\tbest: 0.2842304 (170)\ttotal: 11.3s\tremaining: 2.98s\n",
            "791:\tlearn: 0.1444036\ttest: 0.3012394\tbest: 0.2842304 (170)\ttotal: 11.3s\tremaining: 2.96s\n",
            "792:\tlearn: 0.1443668\ttest: 0.3013004\tbest: 0.2842304 (170)\ttotal: 11.3s\tremaining: 2.95s\n",
            "793:\tlearn: 0.1443229\ttest: 0.3012739\tbest: 0.2842304 (170)\ttotal: 11.3s\tremaining: 2.93s\n",
            "794:\tlearn: 0.1442685\ttest: 0.3012489\tbest: 0.2842304 (170)\ttotal: 11.3s\tremaining: 2.92s\n",
            "795:\tlearn: 0.1442007\ttest: 0.3013061\tbest: 0.2842304 (170)\ttotal: 11.3s\tremaining: 2.9s\n",
            "796:\tlearn: 0.1441839\ttest: 0.3013112\tbest: 0.2842304 (170)\ttotal: 11.3s\tremaining: 2.88s\n",
            "797:\tlearn: 0.1441440\ttest: 0.3013114\tbest: 0.2842304 (170)\ttotal: 11.3s\tremaining: 2.87s\n",
            "798:\tlearn: 0.1441225\ttest: 0.3012907\tbest: 0.2842304 (170)\ttotal: 11.3s\tremaining: 2.85s\n",
            "799:\tlearn: 0.1440729\ttest: 0.3012982\tbest: 0.2842304 (170)\ttotal: 11.4s\tremaining: 2.84s\n",
            "800:\tlearn: 0.1440044\ttest: 0.3013873\tbest: 0.2842304 (170)\ttotal: 11.4s\tremaining: 2.83s\n",
            "801:\tlearn: 0.1439840\ttest: 0.3013490\tbest: 0.2842304 (170)\ttotal: 11.4s\tremaining: 2.81s\n",
            "802:\tlearn: 0.1439131\ttest: 0.3013553\tbest: 0.2842304 (170)\ttotal: 11.4s\tremaining: 2.8s\n",
            "803:\tlearn: 0.1438757\ttest: 0.3013718\tbest: 0.2842304 (170)\ttotal: 11.4s\tremaining: 2.79s\n",
            "804:\tlearn: 0.1438376\ttest: 0.3014155\tbest: 0.2842304 (170)\ttotal: 11.5s\tremaining: 2.78s\n",
            "805:\tlearn: 0.1437940\ttest: 0.3014166\tbest: 0.2842304 (170)\ttotal: 11.5s\tremaining: 2.76s\n",
            "806:\tlearn: 0.1437207\ttest: 0.3013701\tbest: 0.2842304 (170)\ttotal: 11.5s\tremaining: 2.75s\n",
            "807:\tlearn: 0.1437011\ttest: 0.3013779\tbest: 0.2842304 (170)\ttotal: 11.5s\tremaining: 2.74s\n",
            "808:\tlearn: 0.1436589\ttest: 0.3013980\tbest: 0.2842304 (170)\ttotal: 11.6s\tremaining: 2.73s\n",
            "809:\tlearn: 0.1436122\ttest: 0.3014417\tbest: 0.2842304 (170)\ttotal: 11.6s\tremaining: 2.71s\n",
            "810:\tlearn: 0.1435753\ttest: 0.3014389\tbest: 0.2842304 (170)\ttotal: 11.6s\tremaining: 2.7s\n",
            "811:\tlearn: 0.1435588\ttest: 0.3013845\tbest: 0.2842304 (170)\ttotal: 11.6s\tremaining: 2.69s\n",
            "812:\tlearn: 0.1435381\ttest: 0.3013638\tbest: 0.2842304 (170)\ttotal: 11.6s\tremaining: 2.68s\n",
            "813:\tlearn: 0.1435002\ttest: 0.3014025\tbest: 0.2842304 (170)\ttotal: 11.7s\tremaining: 2.67s\n",
            "814:\tlearn: 0.1434362\ttest: 0.3014723\tbest: 0.2842304 (170)\ttotal: 11.7s\tremaining: 2.65s\n",
            "815:\tlearn: 0.1434165\ttest: 0.3014221\tbest: 0.2842304 (170)\ttotal: 11.7s\tremaining: 2.64s\n",
            "816:\tlearn: 0.1433643\ttest: 0.3015325\tbest: 0.2842304 (170)\ttotal: 11.7s\tremaining: 2.63s\n",
            "817:\tlearn: 0.1433480\ttest: 0.3015380\tbest: 0.2842304 (170)\ttotal: 11.8s\tremaining: 2.62s\n",
            "818:\tlearn: 0.1433193\ttest: 0.3015202\tbest: 0.2842304 (170)\ttotal: 11.8s\tremaining: 2.6s\n",
            "819:\tlearn: 0.1432770\ttest: 0.3015611\tbest: 0.2842304 (170)\ttotal: 11.8s\tremaining: 2.59s\n",
            "820:\tlearn: 0.1432235\ttest: 0.3016135\tbest: 0.2842304 (170)\ttotal: 11.8s\tremaining: 2.57s\n",
            "821:\tlearn: 0.1432018\ttest: 0.3016851\tbest: 0.2842304 (170)\ttotal: 11.8s\tremaining: 2.56s\n",
            "822:\tlearn: 0.1431662\ttest: 0.3017537\tbest: 0.2842304 (170)\ttotal: 11.8s\tremaining: 2.54s\n",
            "823:\tlearn: 0.1431041\ttest: 0.3018119\tbest: 0.2842304 (170)\ttotal: 11.8s\tremaining: 2.53s\n",
            "824:\tlearn: 0.1430104\ttest: 0.3017849\tbest: 0.2842304 (170)\ttotal: 11.9s\tremaining: 2.52s\n",
            "825:\tlearn: 0.1429598\ttest: 0.3018203\tbest: 0.2842304 (170)\ttotal: 11.9s\tremaining: 2.5s\n",
            "826:\tlearn: 0.1429386\ttest: 0.3018073\tbest: 0.2842304 (170)\ttotal: 11.9s\tremaining: 2.49s\n",
            "827:\tlearn: 0.1429289\ttest: 0.3018412\tbest: 0.2842304 (170)\ttotal: 11.9s\tremaining: 2.47s\n",
            "828:\tlearn: 0.1428571\ttest: 0.3018387\tbest: 0.2842304 (170)\ttotal: 11.9s\tremaining: 2.46s\n",
            "829:\tlearn: 0.1427874\ttest: 0.3018779\tbest: 0.2842304 (170)\ttotal: 12s\tremaining: 2.45s\n",
            "830:\tlearn: 0.1427613\ttest: 0.3018808\tbest: 0.2842304 (170)\ttotal: 12s\tremaining: 2.44s\n",
            "831:\tlearn: 0.1426994\ttest: 0.3019249\tbest: 0.2842304 (170)\ttotal: 12s\tremaining: 2.42s\n",
            "832:\tlearn: 0.1426735\ttest: 0.3019286\tbest: 0.2842304 (170)\ttotal: 12s\tremaining: 2.4s\n",
            "833:\tlearn: 0.1426009\ttest: 0.3020048\tbest: 0.2842304 (170)\ttotal: 12s\tremaining: 2.39s\n",
            "834:\tlearn: 0.1425697\ttest: 0.3020317\tbest: 0.2842304 (170)\ttotal: 12s\tremaining: 2.37s\n",
            "835:\tlearn: 0.1425414\ttest: 0.3020430\tbest: 0.2842304 (170)\ttotal: 12s\tremaining: 2.36s\n",
            "836:\tlearn: 0.1425060\ttest: 0.3020457\tbest: 0.2842304 (170)\ttotal: 12s\tremaining: 2.34s\n",
            "837:\tlearn: 0.1424311\ttest: 0.3020651\tbest: 0.2842304 (170)\ttotal: 12s\tremaining: 2.33s\n",
            "838:\tlearn: 0.1423515\ttest: 0.3020424\tbest: 0.2842304 (170)\ttotal: 12.1s\tremaining: 2.31s\n",
            "839:\tlearn: 0.1423237\ttest: 0.3020439\tbest: 0.2842304 (170)\ttotal: 12.1s\tremaining: 2.3s\n",
            "840:\tlearn: 0.1422929\ttest: 0.3020718\tbest: 0.2842304 (170)\ttotal: 12.1s\tremaining: 2.29s\n",
            "841:\tlearn: 0.1422396\ttest: 0.3020856\tbest: 0.2842304 (170)\ttotal: 12.1s\tremaining: 2.27s\n",
            "842:\tlearn: 0.1422012\ttest: 0.3021938\tbest: 0.2842304 (170)\ttotal: 12.1s\tremaining: 2.26s\n",
            "843:\tlearn: 0.1421239\ttest: 0.3021793\tbest: 0.2842304 (170)\ttotal: 12.1s\tremaining: 2.24s\n",
            "844:\tlearn: 0.1420622\ttest: 0.3022558\tbest: 0.2842304 (170)\ttotal: 12.2s\tremaining: 2.23s\n",
            "845:\tlearn: 0.1419902\ttest: 0.3023963\tbest: 0.2842304 (170)\ttotal: 12.2s\tremaining: 2.22s\n",
            "846:\tlearn: 0.1419190\ttest: 0.3024149\tbest: 0.2842304 (170)\ttotal: 12.2s\tremaining: 2.2s\n",
            "847:\tlearn: 0.1418672\ttest: 0.3023841\tbest: 0.2842304 (170)\ttotal: 12.2s\tremaining: 2.19s\n",
            "848:\tlearn: 0.1417697\ttest: 0.3024575\tbest: 0.2842304 (170)\ttotal: 12.2s\tremaining: 2.18s\n",
            "849:\tlearn: 0.1417304\ttest: 0.3024827\tbest: 0.2842304 (170)\ttotal: 12.3s\tremaining: 2.17s\n",
            "850:\tlearn: 0.1416896\ttest: 0.3025792\tbest: 0.2842304 (170)\ttotal: 12.3s\tremaining: 2.15s\n",
            "851:\tlearn: 0.1416459\ttest: 0.3025788\tbest: 0.2842304 (170)\ttotal: 12.3s\tremaining: 2.14s\n",
            "852:\tlearn: 0.1415991\ttest: 0.3025967\tbest: 0.2842304 (170)\ttotal: 12.3s\tremaining: 2.12s\n",
            "853:\tlearn: 0.1415728\ttest: 0.3025977\tbest: 0.2842304 (170)\ttotal: 12.3s\tremaining: 2.11s\n",
            "854:\tlearn: 0.1415055\ttest: 0.3026807\tbest: 0.2842304 (170)\ttotal: 12.3s\tremaining: 2.09s\n",
            "855:\tlearn: 0.1414336\ttest: 0.3027322\tbest: 0.2842304 (170)\ttotal: 12.4s\tremaining: 2.08s\n",
            "856:\tlearn: 0.1413833\ttest: 0.3027028\tbest: 0.2842304 (170)\ttotal: 12.4s\tremaining: 2.06s\n",
            "857:\tlearn: 0.1413555\ttest: 0.3027346\tbest: 0.2842304 (170)\ttotal: 12.4s\tremaining: 2.05s\n",
            "858:\tlearn: 0.1413555\ttest: 0.3027334\tbest: 0.2842304 (170)\ttotal: 12.4s\tremaining: 2.04s\n",
            "859:\tlearn: 0.1412748\ttest: 0.3027523\tbest: 0.2842304 (170)\ttotal: 12.4s\tremaining: 2.02s\n",
            "860:\tlearn: 0.1412369\ttest: 0.3027527\tbest: 0.2842304 (170)\ttotal: 12.4s\tremaining: 2s\n",
            "861:\tlearn: 0.1412180\ttest: 0.3027746\tbest: 0.2842304 (170)\ttotal: 12.4s\tremaining: 1.99s\n",
            "862:\tlearn: 0.1411777\ttest: 0.3028500\tbest: 0.2842304 (170)\ttotal: 12.5s\tremaining: 1.98s\n",
            "863:\tlearn: 0.1411352\ttest: 0.3029499\tbest: 0.2842304 (170)\ttotal: 12.5s\tremaining: 1.96s\n",
            "864:\tlearn: 0.1410795\ttest: 0.3029601\tbest: 0.2842304 (170)\ttotal: 12.5s\tremaining: 1.95s\n",
            "865:\tlearn: 0.1410453\ttest: 0.3030077\tbest: 0.2842304 (170)\ttotal: 12.5s\tremaining: 1.93s\n",
            "866:\tlearn: 0.1410066\ttest: 0.3029979\tbest: 0.2842304 (170)\ttotal: 12.5s\tremaining: 1.92s\n",
            "867:\tlearn: 0.1409688\ttest: 0.3030419\tbest: 0.2842304 (170)\ttotal: 12.5s\tremaining: 1.9s\n",
            "868:\tlearn: 0.1409493\ttest: 0.3030305\tbest: 0.2842304 (170)\ttotal: 12.5s\tremaining: 1.89s\n",
            "869:\tlearn: 0.1409170\ttest: 0.3030618\tbest: 0.2842304 (170)\ttotal: 12.6s\tremaining: 1.88s\n",
            "870:\tlearn: 0.1409018\ttest: 0.3030411\tbest: 0.2842304 (170)\ttotal: 12.6s\tremaining: 1.86s\n",
            "871:\tlearn: 0.1408402\ttest: 0.3030459\tbest: 0.2842304 (170)\ttotal: 12.6s\tremaining: 1.85s\n",
            "872:\tlearn: 0.1408088\ttest: 0.3030638\tbest: 0.2842304 (170)\ttotal: 12.6s\tremaining: 1.83s\n",
            "873:\tlearn: 0.1407568\ttest: 0.3031171\tbest: 0.2842304 (170)\ttotal: 12.6s\tremaining: 1.82s\n",
            "874:\tlearn: 0.1406962\ttest: 0.3031518\tbest: 0.2842304 (170)\ttotal: 12.6s\tremaining: 1.8s\n",
            "875:\tlearn: 0.1406652\ttest: 0.3031981\tbest: 0.2842304 (170)\ttotal: 12.6s\tremaining: 1.79s\n",
            "876:\tlearn: 0.1406227\ttest: 0.3031838\tbest: 0.2842304 (170)\ttotal: 12.7s\tremaining: 1.77s\n",
            "877:\tlearn: 0.1406076\ttest: 0.3031909\tbest: 0.2842304 (170)\ttotal: 12.7s\tremaining: 1.76s\n",
            "878:\tlearn: 0.1405893\ttest: 0.3032506\tbest: 0.2842304 (170)\ttotal: 12.7s\tremaining: 1.75s\n",
            "879:\tlearn: 0.1405468\ttest: 0.3032647\tbest: 0.2842304 (170)\ttotal: 12.7s\tremaining: 1.73s\n",
            "880:\tlearn: 0.1404843\ttest: 0.3032944\tbest: 0.2842304 (170)\ttotal: 12.7s\tremaining: 1.72s\n",
            "881:\tlearn: 0.1404611\ttest: 0.3032880\tbest: 0.2842304 (170)\ttotal: 12.7s\tremaining: 1.7s\n",
            "882:\tlearn: 0.1404409\ttest: 0.3032226\tbest: 0.2842304 (170)\ttotal: 12.7s\tremaining: 1.69s\n",
            "883:\tlearn: 0.1403982\ttest: 0.3032415\tbest: 0.2842304 (170)\ttotal: 12.8s\tremaining: 1.67s\n",
            "884:\tlearn: 0.1403826\ttest: 0.3032544\tbest: 0.2842304 (170)\ttotal: 12.8s\tremaining: 1.66s\n",
            "885:\tlearn: 0.1403255\ttest: 0.3033798\tbest: 0.2842304 (170)\ttotal: 12.8s\tremaining: 1.64s\n",
            "886:\tlearn: 0.1402686\ttest: 0.3033845\tbest: 0.2842304 (170)\ttotal: 12.8s\tremaining: 1.63s\n",
            "887:\tlearn: 0.1402529\ttest: 0.3033674\tbest: 0.2842304 (170)\ttotal: 12.8s\tremaining: 1.61s\n",
            "888:\tlearn: 0.1402000\ttest: 0.3033683\tbest: 0.2842304 (170)\ttotal: 12.8s\tremaining: 1.6s\n",
            "889:\tlearn: 0.1401772\ttest: 0.3033911\tbest: 0.2842304 (170)\ttotal: 12.8s\tremaining: 1.59s\n",
            "890:\tlearn: 0.1400821\ttest: 0.3033877\tbest: 0.2842304 (170)\ttotal: 12.8s\tremaining: 1.57s\n",
            "891:\tlearn: 0.1400381\ttest: 0.3034036\tbest: 0.2842304 (170)\ttotal: 12.9s\tremaining: 1.56s\n",
            "892:\tlearn: 0.1400234\ttest: 0.3034286\tbest: 0.2842304 (170)\ttotal: 12.9s\tremaining: 1.54s\n",
            "893:\tlearn: 0.1399959\ttest: 0.3034465\tbest: 0.2842304 (170)\ttotal: 12.9s\tremaining: 1.53s\n",
            "894:\tlearn: 0.1399636\ttest: 0.3035165\tbest: 0.2842304 (170)\ttotal: 12.9s\tremaining: 1.51s\n",
            "895:\tlearn: 0.1398898\ttest: 0.3035211\tbest: 0.2842304 (170)\ttotal: 12.9s\tremaining: 1.5s\n",
            "896:\tlearn: 0.1398753\ttest: 0.3035177\tbest: 0.2842304 (170)\ttotal: 12.9s\tremaining: 1.48s\n",
            "897:\tlearn: 0.1398409\ttest: 0.3035511\tbest: 0.2842304 (170)\ttotal: 12.9s\tremaining: 1.47s\n",
            "898:\tlearn: 0.1397918\ttest: 0.3035495\tbest: 0.2842304 (170)\ttotal: 13s\tremaining: 1.46s\n",
            "899:\tlearn: 0.1397514\ttest: 0.3036524\tbest: 0.2842304 (170)\ttotal: 13s\tremaining: 1.44s\n",
            "900:\tlearn: 0.1397374\ttest: 0.3036316\tbest: 0.2842304 (170)\ttotal: 13s\tremaining: 1.43s\n",
            "901:\tlearn: 0.1396886\ttest: 0.3036916\tbest: 0.2842304 (170)\ttotal: 13s\tremaining: 1.41s\n",
            "902:\tlearn: 0.1396526\ttest: 0.3037487\tbest: 0.2842304 (170)\ttotal: 13s\tremaining: 1.4s\n",
            "903:\tlearn: 0.1396245\ttest: 0.3037591\tbest: 0.2842304 (170)\ttotal: 13s\tremaining: 1.39s\n",
            "904:\tlearn: 0.1396023\ttest: 0.3037929\tbest: 0.2842304 (170)\ttotal: 13.1s\tremaining: 1.37s\n",
            "905:\tlearn: 0.1395525\ttest: 0.3038691\tbest: 0.2842304 (170)\ttotal: 13.1s\tremaining: 1.35s\n",
            "906:\tlearn: 0.1395074\ttest: 0.3038769\tbest: 0.2842304 (170)\ttotal: 13.1s\tremaining: 1.34s\n",
            "907:\tlearn: 0.1394695\ttest: 0.3039049\tbest: 0.2842304 (170)\ttotal: 13.1s\tremaining: 1.32s\n",
            "908:\tlearn: 0.1394195\ttest: 0.3039525\tbest: 0.2842304 (170)\ttotal: 13.1s\tremaining: 1.31s\n",
            "909:\tlearn: 0.1393870\ttest: 0.3040310\tbest: 0.2842304 (170)\ttotal: 13.1s\tremaining: 1.29s\n",
            "910:\tlearn: 0.1393578\ttest: 0.3040755\tbest: 0.2842304 (170)\ttotal: 13.1s\tremaining: 1.28s\n",
            "911:\tlearn: 0.1393180\ttest: 0.3040866\tbest: 0.2842304 (170)\ttotal: 13.1s\tremaining: 1.26s\n",
            "912:\tlearn: 0.1392824\ttest: 0.3040998\tbest: 0.2842304 (170)\ttotal: 13.1s\tremaining: 1.25s\n",
            "913:\tlearn: 0.1392227\ttest: 0.3041517\tbest: 0.2842304 (170)\ttotal: 13.1s\tremaining: 1.24s\n",
            "914:\tlearn: 0.1391522\ttest: 0.3040309\tbest: 0.2842304 (170)\ttotal: 13.2s\tremaining: 1.22s\n",
            "915:\tlearn: 0.1391353\ttest: 0.3040432\tbest: 0.2842304 (170)\ttotal: 13.2s\tremaining: 1.21s\n",
            "916:\tlearn: 0.1390769\ttest: 0.3040721\tbest: 0.2842304 (170)\ttotal: 13.2s\tremaining: 1.19s\n",
            "917:\tlearn: 0.1390415\ttest: 0.3040698\tbest: 0.2842304 (170)\ttotal: 13.2s\tremaining: 1.18s\n",
            "918:\tlearn: 0.1389564\ttest: 0.3041584\tbest: 0.2842304 (170)\ttotal: 13.2s\tremaining: 1.17s\n",
            "919:\tlearn: 0.1389296\ttest: 0.3042036\tbest: 0.2842304 (170)\ttotal: 13.2s\tremaining: 1.15s\n",
            "920:\tlearn: 0.1389122\ttest: 0.3042447\tbest: 0.2842304 (170)\ttotal: 13.3s\tremaining: 1.14s\n",
            "921:\tlearn: 0.1388409\ttest: 0.3042477\tbest: 0.2842304 (170)\ttotal: 13.3s\tremaining: 1.12s\n",
            "922:\tlearn: 0.1388024\ttest: 0.3042580\tbest: 0.2842304 (170)\ttotal: 13.3s\tremaining: 1.11s\n",
            "923:\tlearn: 0.1387936\ttest: 0.3042680\tbest: 0.2842304 (170)\ttotal: 13.3s\tremaining: 1.1s\n",
            "924:\tlearn: 0.1387245\ttest: 0.3042553\tbest: 0.2842304 (170)\ttotal: 13.4s\tremaining: 1.08s\n",
            "925:\tlearn: 0.1387160\ttest: 0.3042604\tbest: 0.2842304 (170)\ttotal: 13.4s\tremaining: 1.07s\n",
            "926:\tlearn: 0.1386637\ttest: 0.3043438\tbest: 0.2842304 (170)\ttotal: 13.4s\tremaining: 1.05s\n",
            "927:\tlearn: 0.1386227\ttest: 0.3043516\tbest: 0.2842304 (170)\ttotal: 13.4s\tremaining: 1.04s\n",
            "928:\tlearn: 0.1385819\ttest: 0.3043739\tbest: 0.2842304 (170)\ttotal: 13.4s\tremaining: 1.02s\n",
            "929:\tlearn: 0.1385439\ttest: 0.3043910\tbest: 0.2842304 (170)\ttotal: 13.4s\tremaining: 1.01s\n",
            "930:\tlearn: 0.1385240\ttest: 0.3044330\tbest: 0.2842304 (170)\ttotal: 13.4s\tremaining: 996ms\n",
            "931:\tlearn: 0.1384871\ttest: 0.3043830\tbest: 0.2842304 (170)\ttotal: 13.5s\tremaining: 983ms\n",
            "932:\tlearn: 0.1384483\ttest: 0.3043907\tbest: 0.2842304 (170)\ttotal: 13.5s\tremaining: 968ms\n",
            "933:\tlearn: 0.1383732\ttest: 0.3045155\tbest: 0.2842304 (170)\ttotal: 13.5s\tremaining: 954ms\n",
            "934:\tlearn: 0.1383368\ttest: 0.3045065\tbest: 0.2842304 (170)\ttotal: 13.5s\tremaining: 940ms\n",
            "935:\tlearn: 0.1383130\ttest: 0.3045089\tbest: 0.2842304 (170)\ttotal: 13.5s\tremaining: 926ms\n",
            "936:\tlearn: 0.1382482\ttest: 0.3045965\tbest: 0.2842304 (170)\ttotal: 13.6s\tremaining: 912ms\n",
            "937:\tlearn: 0.1381769\ttest: 0.3044943\tbest: 0.2842304 (170)\ttotal: 13.6s\tremaining: 897ms\n",
            "938:\tlearn: 0.1381328\ttest: 0.3045485\tbest: 0.2842304 (170)\ttotal: 13.6s\tremaining: 883ms\n",
            "939:\tlearn: 0.1380787\ttest: 0.3045983\tbest: 0.2842304 (170)\ttotal: 13.6s\tremaining: 869ms\n",
            "940:\tlearn: 0.1379878\ttest: 0.3045870\tbest: 0.2842304 (170)\ttotal: 13.6s\tremaining: 854ms\n",
            "941:\tlearn: 0.1379546\ttest: 0.3046033\tbest: 0.2842304 (170)\ttotal: 13.6s\tremaining: 840ms\n",
            "942:\tlearn: 0.1379083\ttest: 0.3046145\tbest: 0.2842304 (170)\ttotal: 13.7s\tremaining: 826ms\n",
            "943:\tlearn: 0.1378614\ttest: 0.3047606\tbest: 0.2842304 (170)\ttotal: 13.7s\tremaining: 812ms\n",
            "944:\tlearn: 0.1378472\ttest: 0.3047461\tbest: 0.2842304 (170)\ttotal: 13.7s\tremaining: 798ms\n",
            "945:\tlearn: 0.1378040\ttest: 0.3047597\tbest: 0.2842304 (170)\ttotal: 13.7s\tremaining: 783ms\n",
            "946:\tlearn: 0.1377926\ttest: 0.3047866\tbest: 0.2842304 (170)\ttotal: 13.7s\tremaining: 769ms\n",
            "947:\tlearn: 0.1377646\ttest: 0.3048521\tbest: 0.2842304 (170)\ttotal: 13.7s\tremaining: 754ms\n",
            "948:\tlearn: 0.1377310\ttest: 0.3048852\tbest: 0.2842304 (170)\ttotal: 13.8s\tremaining: 740ms\n",
            "949:\tlearn: 0.1377120\ttest: 0.3048781\tbest: 0.2842304 (170)\ttotal: 13.8s\tremaining: 726ms\n",
            "950:\tlearn: 0.1376669\ttest: 0.3048669\tbest: 0.2842304 (170)\ttotal: 13.8s\tremaining: 711ms\n",
            "951:\tlearn: 0.1376292\ttest: 0.3049609\tbest: 0.2842304 (170)\ttotal: 13.8s\tremaining: 697ms\n",
            "952:\tlearn: 0.1375702\ttest: 0.3050108\tbest: 0.2842304 (170)\ttotal: 13.8s\tremaining: 683ms\n",
            "953:\tlearn: 0.1375434\ttest: 0.3051065\tbest: 0.2842304 (170)\ttotal: 13.9s\tremaining: 668ms\n",
            "954:\tlearn: 0.1374958\ttest: 0.3050259\tbest: 0.2842304 (170)\ttotal: 13.9s\tremaining: 654ms\n",
            "955:\tlearn: 0.1374664\ttest: 0.3050748\tbest: 0.2842304 (170)\ttotal: 13.9s\tremaining: 639ms\n",
            "956:\tlearn: 0.1374436\ttest: 0.3050629\tbest: 0.2842304 (170)\ttotal: 13.9s\tremaining: 625ms\n",
            "957:\tlearn: 0.1373739\ttest: 0.3051164\tbest: 0.2842304 (170)\ttotal: 13.9s\tremaining: 610ms\n",
            "958:\tlearn: 0.1373466\ttest: 0.3051417\tbest: 0.2842304 (170)\ttotal: 13.9s\tremaining: 596ms\n",
            "959:\tlearn: 0.1373060\ttest: 0.3051649\tbest: 0.2842304 (170)\ttotal: 14s\tremaining: 582ms\n",
            "960:\tlearn: 0.1372461\ttest: 0.3052514\tbest: 0.2842304 (170)\ttotal: 14s\tremaining: 568ms\n",
            "961:\tlearn: 0.1372110\ttest: 0.3052598\tbest: 0.2842304 (170)\ttotal: 14s\tremaining: 554ms\n",
            "962:\tlearn: 0.1371510\ttest: 0.3052634\tbest: 0.2842304 (170)\ttotal: 14s\tremaining: 539ms\n",
            "963:\tlearn: 0.1371064\ttest: 0.3052901\tbest: 0.2842304 (170)\ttotal: 14.1s\tremaining: 525ms\n",
            "964:\tlearn: 0.1370332\ttest: 0.3053476\tbest: 0.2842304 (170)\ttotal: 14.1s\tremaining: 510ms\n",
            "965:\tlearn: 0.1369291\ttest: 0.3054388\tbest: 0.2842304 (170)\ttotal: 14.1s\tremaining: 496ms\n",
            "966:\tlearn: 0.1369212\ttest: 0.3054502\tbest: 0.2842304 (170)\ttotal: 14.1s\tremaining: 481ms\n",
            "967:\tlearn: 0.1369032\ttest: 0.3054613\tbest: 0.2842304 (170)\ttotal: 14.1s\tremaining: 467ms\n",
            "968:\tlearn: 0.1368684\ttest: 0.3055015\tbest: 0.2842304 (170)\ttotal: 14.1s\tremaining: 452ms\n",
            "969:\tlearn: 0.1368539\ttest: 0.3055314\tbest: 0.2842304 (170)\ttotal: 14.2s\tremaining: 438ms\n",
            "970:\tlearn: 0.1368268\ttest: 0.3055534\tbest: 0.2842304 (170)\ttotal: 14.2s\tremaining: 423ms\n",
            "971:\tlearn: 0.1367962\ttest: 0.3055813\tbest: 0.2842304 (170)\ttotal: 14.2s\tremaining: 409ms\n",
            "972:\tlearn: 0.1367376\ttest: 0.3055742\tbest: 0.2842304 (170)\ttotal: 14.2s\tremaining: 394ms\n",
            "973:\tlearn: 0.1366807\ttest: 0.3055652\tbest: 0.2842304 (170)\ttotal: 14.2s\tremaining: 380ms\n",
            "974:\tlearn: 0.1366654\ttest: 0.3055597\tbest: 0.2842304 (170)\ttotal: 14.2s\tremaining: 365ms\n",
            "975:\tlearn: 0.1366286\ttest: 0.3055690\tbest: 0.2842304 (170)\ttotal: 14.3s\tremaining: 351ms\n",
            "976:\tlearn: 0.1365792\ttest: 0.3056139\tbest: 0.2842304 (170)\ttotal: 14.3s\tremaining: 336ms\n",
            "977:\tlearn: 0.1365556\ttest: 0.3056368\tbest: 0.2842304 (170)\ttotal: 14.3s\tremaining: 322ms\n",
            "978:\tlearn: 0.1364514\ttest: 0.3057353\tbest: 0.2842304 (170)\ttotal: 14.3s\tremaining: 307ms\n",
            "979:\tlearn: 0.1364225\ttest: 0.3057236\tbest: 0.2842304 (170)\ttotal: 14.3s\tremaining: 292ms\n",
            "980:\tlearn: 0.1363506\ttest: 0.3057192\tbest: 0.2842304 (170)\ttotal: 14.3s\tremaining: 278ms\n",
            "981:\tlearn: 0.1363115\ttest: 0.3057195\tbest: 0.2842304 (170)\ttotal: 14.4s\tremaining: 263ms\n",
            "982:\tlearn: 0.1362599\ttest: 0.3057623\tbest: 0.2842304 (170)\ttotal: 14.4s\tremaining: 249ms\n",
            "983:\tlearn: 0.1362129\ttest: 0.3058465\tbest: 0.2842304 (170)\ttotal: 14.4s\tremaining: 234ms\n",
            "984:\tlearn: 0.1361350\ttest: 0.3059122\tbest: 0.2842304 (170)\ttotal: 14.4s\tremaining: 220ms\n",
            "985:\tlearn: 0.1360983\ttest: 0.3059167\tbest: 0.2842304 (170)\ttotal: 14.4s\tremaining: 205ms\n",
            "986:\tlearn: 0.1360621\ttest: 0.3059046\tbest: 0.2842304 (170)\ttotal: 14.5s\tremaining: 190ms\n",
            "987:\tlearn: 0.1360236\ttest: 0.3059543\tbest: 0.2842304 (170)\ttotal: 14.5s\tremaining: 176ms\n",
            "988:\tlearn: 0.1359825\ttest: 0.3059585\tbest: 0.2842304 (170)\ttotal: 14.5s\tremaining: 161ms\n",
            "989:\tlearn: 0.1359419\ttest: 0.3060448\tbest: 0.2842304 (170)\ttotal: 14.5s\tremaining: 147ms\n",
            "990:\tlearn: 0.1359022\ttest: 0.3060893\tbest: 0.2842304 (170)\ttotal: 14.5s\tremaining: 132ms\n",
            "991:\tlearn: 0.1358432\ttest: 0.3060162\tbest: 0.2842304 (170)\ttotal: 14.6s\tremaining: 117ms\n",
            "992:\tlearn: 0.1358198\ttest: 0.3060583\tbest: 0.2842304 (170)\ttotal: 14.6s\tremaining: 103ms\n",
            "993:\tlearn: 0.1358004\ttest: 0.3061017\tbest: 0.2842304 (170)\ttotal: 14.6s\tremaining: 88.2ms\n",
            "994:\tlearn: 0.1357577\ttest: 0.3061171\tbest: 0.2842304 (170)\ttotal: 14.6s\tremaining: 73.5ms\n",
            "995:\tlearn: 0.1357230\ttest: 0.3061478\tbest: 0.2842304 (170)\ttotal: 14.6s\tremaining: 58.8ms\n",
            "996:\tlearn: 0.1356965\ttest: 0.3062298\tbest: 0.2842304 (170)\ttotal: 14.7s\tremaining: 44.1ms\n",
            "997:\tlearn: 0.1356509\ttest: 0.3062784\tbest: 0.2842304 (170)\ttotal: 14.7s\tremaining: 29.4ms\n",
            "998:\tlearn: 0.1355940\ttest: 0.3062847\tbest: 0.2842304 (170)\ttotal: 14.7s\tremaining: 14.7ms\n",
            "999:\tlearn: 0.1355579\ttest: 0.3064072\tbest: 0.2842304 (170)\ttotal: 14.7s\tremaining: 0us\n",
            "\n",
            "bestTest = 0.284230386\n",
            "bestIteration = 170\n",
            "\n",
            "Shrink model to first 171 iterations.\n"
          ]
        },
        {
          "output_type": "execute_result",
          "data": {
            "text/plain": [
              "0.9407961135087219"
            ]
          },
          "metadata": {},
          "execution_count": 17
        }
      ],
      "source": [
        "# YOUR CODE:\n",
        "from catboost import CatBoostClassifier\n",
        "\n",
        "model = CatBoostClassifier()\n",
        "model.fit(x_train, y_train, eval_set=(x_valid, y_valid))\n",
        "score(model, x_test, y_test)"
      ]
    },
    {
      "cell_type": "markdown",
      "source": [
        "В целом, получился такой же почти скор, буквально на несколько сотых отличается, катбуст из коробки очень хорош и показывает тот же по сути результат"
      ],
      "metadata": {
        "id": "FF4709mwXlmS"
      }
    },
    {
      "cell_type": "markdown",
      "metadata": {
        "collapsed": false,
        "pycharm": {
          "name": "#%% md\n"
        },
        "id": "0vBrNoyKtLSj"
      },
      "source": [
        "## Социализационный бонус. Новогоднее 🎆 (0.5 балла)\n",
        "\n",
        "Сфотографируйтесь с наряженной новогодней или рождественской ёлкой! Приложите фотографию, опишите свои впечатления, чего вы ждете от нового 2024 года?"
      ]
    },
    {
      "cell_type": "markdown",
      "source": [],
      "metadata": {
        "id": "JgBdi9_lXk8S"
      }
    },
    {
      "cell_type": "markdown",
      "metadata": {
        "id": "v5XugSEotLSj"
      },
      "source": []
    }
  ],
  "metadata": {
    "kernelspec": {
      "display_name": "Python 3 (ipykernel)",
      "language": "python",
      "name": "python3"
    },
    "language_info": {
      "codemirror_mode": {
        "name": "ipython",
        "version": 3
      },
      "file_extension": ".py",
      "mimetype": "text/x-python",
      "name": "python",
      "nbconvert_exporter": "python",
      "pygments_lexer": "ipython3",
      "version": "3.9.7"
    },
    "nbTranslate": {
      "displayLangs": [
        "*"
      ],
      "hotkey": "alt-t",
      "langInMainMenu": true,
      "sourceLang": "en",
      "targetLang": "fr",
      "useGoogleTranslate": true
    },
    "toc": {
      "base_numbering": 1,
      "nav_menu": {
        "height": "210px",
        "width": "492px"
      },
      "number_sections": false,
      "sideBar": true,
      "skip_h1_title": false,
      "title_cell": "Table of Contents",
      "title_sidebar": "Contents",
      "toc_cell": false,
      "toc_position": {},
      "toc_section_display": true,
      "toc_window_display": true
    },
    "varInspector": {
      "cols": {
        "lenName": 16,
        "lenType": 16,
        "lenVar": 40
      },
      "kernels_config": {
        "python": {
          "delete_cmd_postfix": "",
          "delete_cmd_prefix": "del ",
          "library": "var_list.py",
          "varRefreshCmd": "print(var_dic_list())"
        },
        "r": {
          "delete_cmd_postfix": ") ",
          "delete_cmd_prefix": "rm(",
          "library": "var_list.r",
          "varRefreshCmd": "cat(var_dic_list()) "
        }
      },
      "types_to_exclude": [
        "module",
        "function",
        "builtin_function_or_method",
        "instance",
        "_Feature"
      ],
      "window_display": false
    },
    "colab": {
      "provenance": []
    }
  },
  "nbformat": 4,
  "nbformat_minor": 0
}